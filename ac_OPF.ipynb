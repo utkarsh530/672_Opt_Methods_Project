{
 "cells": [
  {
   "cell_type": "code",
   "execution_count": 1,
   "id": "3460a3c6-3b65-43c3-ad41-91962a994723",
   "metadata": {},
   "outputs": [
    {
     "name": "stderr",
     "output_type": "stream",
     "text": [
      "\u001b[32m\u001b[1m   Resolving\u001b[22m\u001b[39m package versions...\n",
      "\u001b[32m\u001b[1m  No Changes\u001b[22m\u001b[39m to `C:\\Users\\mansi\\.julia\\environments\\v1.9\\Project.toml`\n",
      "\u001b[32m\u001b[1m  No Changes\u001b[22m\u001b[39m to `C:\\Users\\mansi\\.julia\\environments\\v1.9\\Manifest.toml`\n",
      "\u001b[32m\u001b[1m   Resolving\u001b[22m\u001b[39m package versions...\n",
      "\u001b[32m\u001b[1m  No Changes\u001b[22m\u001b[39m to `C:\\Users\\mansi\\.julia\\environments\\v1.9\\Project.toml`\n",
      "\u001b[32m\u001b[1m  No Changes\u001b[22m\u001b[39m to `C:\\Users\\mansi\\.julia\\environments\\v1.9\\Manifest.toml`\n",
      "\u001b[32m\u001b[1m   Resolving\u001b[22m\u001b[39m package versions...\n",
      "\u001b[32m\u001b[1m  No Changes\u001b[22m\u001b[39m to `C:\\Users\\mansi\\.julia\\environments\\v1.9\\Project.toml`\n",
      "\u001b[32m\u001b[1m  No Changes\u001b[22m\u001b[39m to `C:\\Users\\mansi\\.julia\\environments\\v1.9\\Manifest.toml`\n",
      "\u001b[32m\u001b[1m   Resolving\u001b[22m\u001b[39m package versions...\n",
      "\u001b[32m\u001b[1m  No Changes\u001b[22m\u001b[39m to `C:\\Users\\mansi\\.julia\\environments\\v1.9\\Project.toml`\n",
      "\u001b[32m\u001b[1m  No Changes\u001b[22m\u001b[39m to `C:\\Users\\mansi\\.julia\\environments\\v1.9\\Manifest.toml`\n",
      "\u001b[32m\u001b[1m   Resolving\u001b[22m\u001b[39m package versions...\n",
      "\u001b[32m\u001b[1m  No Changes\u001b[22m\u001b[39m to `C:\\Users\\mansi\\.julia\\environments\\v1.9\\Project.toml`\n",
      "\u001b[32m\u001b[1m  No Changes\u001b[22m\u001b[39m to `C:\\Users\\mansi\\.julia\\environments\\v1.9\\Manifest.toml`\n"
     ]
    }
   ],
   "source": [
    "using Pkg\n",
    "Pkg.add(\"JuMP\")\n",
    "Pkg.add(\"PowerModels\")\n",
    "Pkg.add(\"Ipopt\")\n",
    "Pkg.add(\"GLPK\")\n",
    "Pkg.add(\"DataFrames\")\n"
   ]
  },
  {
   "cell_type": "code",
   "execution_count": 21,
   "id": "62c8c2ac-e755-4bf0-8f10-3c9606a9a77b",
   "metadata": {},
   "outputs": [
    {
     "name": "stdout",
     "output_type": "stream",
     "text": [
      "\u001b[35m[warn | PowerModels]: this code only supports angmin values in -90 deg. to 90 deg., tightening the value on branch 4 from -360.0 to -60.0 deg.\u001b[39m\n",
      "\u001b[35m[warn | PowerModels]: this code only supports angmax values in -90 deg. to 90 deg., tightening the value on branch 4 from 360.0 to 60.0 deg.\u001b[39m\n",
      "\u001b[35m[warn | PowerModels]: this code only supports angmin values in -90 deg. to 90 deg., tightening the value on branch 1 from -360.0 to -60.0 deg.\u001b[39m\n",
      "\u001b[35m[warn | PowerModels]: this code only supports angmax values in -90 deg. to 90 deg., tightening the value on branch 1 from 360.0 to 60.0 deg.\u001b[39m\n",
      "\u001b[35m[warn | PowerModels]: this code only supports angmin values in -90 deg. to 90 deg., tightening the value on branch 5 from -360.0 to -60.0 deg.\u001b[39m\n",
      "\u001b[35m[warn | PowerModels]: this code only supports angmax values in -90 deg. to 90 deg., tightening the value on branch 5 from 360.0 to 60.0 deg.\u001b[39m\n",
      "\u001b[35m[warn | PowerModels]: this code only supports angmin values in -90 deg. to 90 deg., tightening the value on branch 2 from -360.0 to -60.0 deg.\u001b[39m\n",
      "\u001b[35m[warn | PowerModels]: this code only supports angmax values in -90 deg. to 90 deg., tightening the value on branch 2 from 360.0 to 60.0 deg.\u001b[39m\n",
      "\u001b[35m[warn | PowerModels]: this code only supports angmin values in -90 deg. to 90 deg., tightening the value on branch 6 from -360.0 to -60.0 deg.\u001b[39m\n",
      "\u001b[35m[warn | PowerModels]: this code only supports angmax values in -90 deg. to 90 deg., tightening the value on branch 6 from 360.0 to 60.0 deg.\u001b[39m\n",
      "\u001b[35m[warn | PowerModels]: this code only supports angmin values in -90 deg. to 90 deg., tightening the value on branch 3 from -360.0 to -60.0 deg.\u001b[39m\n",
      "\u001b[35m[warn | PowerModels]: this code only supports angmax values in -90 deg. to 90 deg., tightening the value on branch 3 from 360.0 to 60.0 deg.\u001b[39m\n",
      "\u001b[32m[info | PowerModels]: updated generator 4 cost function with order 2 to a function of order 3: [0.0, 4000.0, 0.0]\u001b[39m\n",
      "\u001b[32m[info | PowerModels]: updated generator 1 cost function with order 2 to a function of order 3: [0.0, 1400.0, 0.0]\u001b[39m\n",
      "\u001b[32m[info | PowerModels]: updated generator 5 cost function with order 2 to a function of order 3: [0.0, 1000.0, 0.0]\u001b[39m\n",
      "\u001b[32m[info | PowerModels]: updated generator 2 cost function with order 2 to a function of order 3: [0.0, 1500.0, 0.0]\u001b[39m\n",
      "\u001b[32m[info | PowerModels]: updated generator 3 cost function with order 2 to a function of order 3: [0.0, 3000.0, 0.0]\u001b[39m\n",
      "\u001b[35m[warn | PowerModels]: this code only supports positive rate_a values, changing the value on branch 4 to 11148.1255\u001b[39m\n",
      "\u001b[35m[warn | PowerModels]: this code only supports positive rate_a values, changing the value on branch 5 to 4053.8638\u001b[39m\n",
      "\u001b[35m[warn | PowerModels]: this code only supports positive rate_a values, changing the value on branch 2 to 3960.5183\u001b[39m\n",
      "\u001b[35m[warn | PowerModels]: this code only supports positive rate_a values, changing the value on branch 3 to 18812.4618\u001b[39m\n",
      "  0.019741 seconds (7.42 k allocations: 664.297 KiB)\n",
      "The solver termination status is LOCALLY_SOLVED\n",
      "The cost of generation is 17551.890838594773.\n",
      "The active power generated at generator 1 is 40.00000096584895 MW.\n"
     ]
    }
   ],
   "source": [
    "include(\"C:/Users/mansi/Dropbox/6.7201_optimization_methods/Project/ac-opf.jl\")\n"
   ]
  },
  {
   "cell_type": "code",
   "execution_count": 22,
   "id": "5a2fd184-8a92-4164-9914-af393ce5d48f",
   "metadata": {},
   "outputs": [
    {
     "data": {
      "text/plain": [
       "1-dimensional DenseAxisArray{Any,1,...} with index sets:\n",
       "    Dimension 1, Tuple{Int64, Any, Any}[]\n",
       "And data, a 0-element Vector{Any}"
      ]
     },
     "execution_count": 22,
     "metadata": {},
     "output_type": "execute_result"
    }
   ],
   "source": [
    "using Plots\n",
    "using DataFrames\n",
    "# Extract solution values\n",
    "vm_values = value.(vm)\n",
    "va_values = value.(va)\n",
    "pg_values = value.(pg)\n",
    "p_values = value.(p)\n",
    "q_values = value.(q)\n",
    "p_dc_values = value.(p_dc)"
   ]
  },
  {
   "cell_type": "code",
   "execution_count": 23,
   "id": "b1364edf-d1ab-415f-96d5-e606dc5b03c1",
   "metadata": {},
   "outputs": [
    {
     "data": {
      "text/plain": [
       "12-element Vector{Tuple{Int64, Int64, Int64}}:\n",
       " (5, 3, 4)\n",
       " (4, 2, 3)\n",
       " (6, 4, 5)\n",
       " (2, 1, 4)\n",
       " (3, 1, 5)\n",
       " (1, 1, 2)\n",
       " (5, 4, 3)\n",
       " (4, 3, 2)\n",
       " (6, 5, 4)\n",
       " (2, 4, 1)\n",
       " (3, 5, 1)\n",
       " (1, 2, 1)"
      ]
     },
     "execution_count": 23,
     "metadata": {},
     "output_type": "execute_result"
    }
   ],
   "source": [
    "# Extract indices from DenseAxisArray\n",
    "bus_indices = collect(axes(vm_values)[1])\n",
    "gen_indices = collect(axes(pg_values)[1]);\n",
    "branch_indices = collect(axes(p_values)[1])"
   ]
  },
  {
   "cell_type": "code",
   "execution_count": 24,
   "id": "647b847f-e116-4e02-b52a-24e3f99294db",
   "metadata": {},
   "outputs": [],
   "source": [
    "VM = zeros(length(bus_indices));\n",
    "for i = 1:length(bus_indices)\n",
    "VM[bus_indices[i]]  = vm_values[bus_indices[i]]\n",
    "end\n",
    "    \n",
    "VA = zeros(length(bus_indices));\n",
    "for i = 1:length(bus_indices)\n",
    "VA[bus_indices[i]]  = va_values[bus_indices[i]]\n",
    "end\n",
    "\n",
    "PG = zeros(length(gen_indices));\n",
    "for i = 1:length(gen_indices)\n",
    "PG[gen_indices[i]]  = pg_values[gen_indices[i]]\n",
    "end\n",
    "\n",
    "PB = zeros(length(branch_indices));\n",
    "for i = 1:length(branch_indices)\n",
    "PB[i]  = p_values[branch_indices[i]]\n",
    "end\n",
    "\n",
    "QB = zeros(length(branch_indices));\n",
    "for i = 1:length(branch_indices)\n",
    "QB[i]  = q_values[branch_indices[i]]\n",
    "end"
   ]
  },
  {
   "cell_type": "code",
   "execution_count": 25,
   "id": "f0471637-6f68-47a2-96f5-9f2bcd61415a",
   "metadata": {},
   "outputs": [
    {
     "data": {
      "image/png": "[encoded data removed]",
      "image/svg+xml": [
       "<?xml version=\"1.0\" encoding=\"utf-8\"?>\n",
       "<svg xmlns=\"http://www.w3.org/2000/svg\" xmlns:xlink=\"http://www.w3.org/1999/xlink\" width=\"600\" height=\"400\" viewBox=\"0 0 2400 1600\">\n",
       "<defs>\n",
       "  <clipPath id=\"clip030\">\n",
       "    <rect x=\"0\" y=\"0\" width=\"2400\" height=\"1600\"/>\n",
       "  </clipPath>\n",
       "</defs>\n",
       "<path clip-path=\"url(#clip030)\" d=\"M0 1600 L2400 1600 L2400 0 L0 0  Z\" fill=\"#ffffff\" fill-rule=\"evenodd\" fill-opacity=\"1\"/>\n",
       "<defs>\n",
       "  <clipPath id=\"clip031\">\n",
       "    <rect x=\"480\" y=\"0\" width=\"1681\" height=\"1600\"/>\n",
       "  </clipPath>\n",
       "</defs>\n",
       "<path clip-path=\"url(#clip030)\" d=\"M186.274 1486.45 L2352.76 1486.45 L2352.76 47.2441 L186.274 47.2441  Z\" fill=\"#ffffff\" fill-rule=\"evenodd\" fill-opacity=\"1\"/>\n",
       "<defs>\n",
       "  <clipPath id=\"clip032\">\n",
       "    <rect x=\"186\" y=\"47\" width=\"2167\" height=\"1440\"/>\n",
       "  </clipPath>\n",
       "</defs>\n",
       "<polyline clip-path=\"url(#clip032)\" style=\"stroke:#000000; stroke-linecap:round; stroke-linejoin:round; stroke-width:2; stroke-opacity:0.1; fill:none\" points=\"466.114,1486.45 466.114,47.2441 \"/>\n",
       "<polyline clip-path=\"url(#clip032)\" style=\"stroke:#000000; stroke-linecap:round; stroke-linejoin:round; stroke-width:2; stroke-opacity:0.1; fill:none\" points=\"867.815,1486.45 867.815,47.2441 \"/>\n",
       "<polyline clip-path=\"url(#clip032)\" style=\"stroke:#000000; stroke-linecap:round; stroke-linejoin:round; stroke-width:2; stroke-opacity:0.1; fill:none\" points=\"1269.51,1486.45 1269.51,47.2441 \"/>\n",
       "<polyline clip-path=\"url(#clip032)\" style=\"stroke:#000000; stroke-linecap:round; stroke-linejoin:round; stroke-width:2; stroke-opacity:0.1; fill:none\" points=\"1671.22,1486.45 1671.22,47.2441 \"/>\n",
       "<polyline clip-path=\"url(#clip032)\" style=\"stroke:#000000; stroke-linecap:round; stroke-linejoin:round; stroke-width:2; stroke-opacity:0.1; fill:none\" points=\"2072.92,1486.45 2072.92,47.2441 \"/>\n",
       "<polyline clip-path=\"url(#clip030)\" style=\"stroke:#000000; stroke-linecap:round; stroke-linejoin:round; stroke-width:4; stroke-opacity:1; fill:none\" points=\"186.274,1486.45 2352.76,1486.45 \"/>\n",
       "<polyline clip-path=\"url(#clip030)\" style=\"stroke:#000000; stroke-linecap:round; stroke-linejoin:round; stroke-width:4; stroke-opacity:1; fill:none\" points=\"466.114,1486.45 466.114,1467.55 \"/>\n",
       "<polyline clip-path=\"url(#clip030)\" style=\"stroke:#000000; stroke-linecap:round; stroke-linejoin:round; stroke-width:4; stroke-opacity:1; fill:none\" points=\"867.815,1486.45 867.815,1467.55 \"/>\n",
       "<polyline clip-path=\"url(#clip030)\" style=\"stroke:#000000; stroke-linecap:round; stroke-linejoin:round; stroke-width:4; stroke-opacity:1; fill:none\" points=\"1269.51,1486.45 1269.51,1467.55 \"/>\n",
       "<polyline clip-path=\"url(#clip030)\" style=\"stroke:#000000; stroke-linecap:round; stroke-linejoin:round; stroke-width:4; stroke-opacity:1; fill:none\" points=\"1671.22,1486.45 1671.22,1467.55 \"/>\n",
       "<polyline clip-path=\"url(#clip030)\" style=\"stroke:#000000; stroke-linecap:round; stroke-linejoin:round; stroke-width:4; stroke-opacity:1; fill:none\" points=\"2072.92,1486.45 2072.92,1467.55 \"/>\n",
       "<path clip-path=\"url(#clip030)\" d=\"M456.496 1544.91 L464.135 1544.91 L464.135 1518.55 L455.825 1520.21 L455.825 1515.95 L464.089 1514.29 L468.765 1514.29 L468.765 1544.91 L476.404 1544.91 L476.404 1548.85 L456.496 1548.85 L456.496 1544.91 Z\" fill=\"#000000\" fill-rule=\"nonzero\" fill-opacity=\"1\" /><path clip-path=\"url(#clip030)\" d=\"M862.468 1544.91 L878.787 1544.91 L878.787 1548.85 L856.843 1548.85 L856.843 1544.91 Q859.505 1542.16 864.088 1537.53 Q868.694 1532.88 869.875 1531.53 Q872.12 1529.01 873 1527.27 Q873.903 1525.51 873.903 1523.82 Q873.903 1521.07 871.958 1519.33 Q870.037 1517.6 866.935 1517.6 Q864.736 1517.6 862.282 1518.36 Q859.852 1519.13 857.074 1520.68 L857.074 1515.95 Q859.898 1514.82 862.352 1514.24 Q864.805 1513.66 866.842 1513.66 Q872.213 1513.66 875.407 1516.35 Q878.602 1519.03 878.602 1523.52 Q878.602 1525.65 877.792 1527.57 Q877.004 1529.47 874.898 1532.07 Q874.319 1532.74 871.217 1535.95 Q868.116 1539.15 862.468 1544.91 Z\" fill=\"#000000\" fill-rule=\"nonzero\" fill-opacity=\"1\" /><path clip-path=\"url(#clip030)\" d=\"M1273.76 1530.21 Q1277.12 1530.93 1278.99 1533.2 Q1280.89 1535.47 1280.89 1538.8 Q1280.89 1543.92 1277.37 1546.72 Q1273.86 1549.52 1267.37 1549.52 Q1265.2 1549.52 1262.88 1549.08 Q1260.59 1548.66 1258.14 1547.81 L1258.14 1543.29 Q1260.08 1544.43 1262.4 1545.01 Q1264.71 1545.58 1267.23 1545.58 Q1271.63 1545.58 1273.92 1543.85 Q1276.24 1542.11 1276.24 1538.8 Q1276.24 1535.75 1274.09 1534.03 Q1271.96 1532.3 1268.14 1532.3 L1264.11 1532.3 L1264.11 1528.45 L1268.32 1528.45 Q1271.77 1528.45 1273.6 1527.09 Q1275.43 1525.7 1275.43 1523.11 Q1275.43 1520.45 1273.53 1519.03 Q1271.66 1517.6 1268.14 1517.6 Q1266.22 1517.6 1264.02 1518.01 Q1261.82 1518.43 1259.18 1519.31 L1259.18 1515.14 Q1261.84 1514.4 1264.16 1514.03 Q1266.49 1513.66 1268.55 1513.66 Q1273.88 1513.66 1276.98 1516.09 Q1280.08 1518.5 1280.08 1522.62 Q1280.08 1525.49 1278.44 1527.48 Q1276.8 1529.45 1273.76 1530.21 Z\" fill=\"#000000\" fill-rule=\"nonzero\" fill-opacity=\"1\" /><path clip-path=\"url(#clip030)\" d=\"M1674.22 1518.36 L1662.42 1536.81 L1674.22 1536.81 L1674.22 1518.36 M1673 1514.29 L1678.88 1514.29 L1678.88 1536.81 L1683.81 1536.81 L1683.81 1540.7 L1678.88 1540.7 L1678.88 1548.85 L1674.22 1548.85 L1674.22 1540.7 L1658.62 1540.7 L1658.62 1536.19 L1673 1514.29 Z\" fill=\"#000000\" fill-rule=\"nonzero\" fill-opacity=\"1\" /><path clip-path=\"url(#clip030)\" d=\"M2063.19 1514.29 L2081.55 1514.29 L2081.55 1518.22 L2067.48 1518.22 L2067.48 1526.7 Q2068.49 1526.35 2069.51 1526.19 Q2070.53 1526 2071.55 1526 Q2077.34 1526 2080.72 1529.17 Q2084.1 1532.34 2084.1 1537.76 Q2084.1 1543.34 2080.62 1546.44 Q2077.15 1549.52 2070.83 1549.52 Q2068.66 1549.52 2066.39 1549.15 Q2064.14 1548.78 2061.73 1548.04 L2061.73 1543.34 Q2063.82 1544.47 2066.04 1545.03 Q2068.26 1545.58 2070.74 1545.58 Q2074.74 1545.58 2077.08 1543.48 Q2079.42 1541.37 2079.42 1537.76 Q2079.42 1534.15 2077.08 1532.04 Q2074.74 1529.94 2070.74 1529.94 Q2068.86 1529.94 2066.99 1530.35 Q2065.14 1530.77 2063.19 1531.65 L2063.19 1514.29 Z\" fill=\"#000000\" fill-rule=\"nonzero\" fill-opacity=\"1\" /><polyline clip-path=\"url(#clip032)\" style=\"stroke:#000000; stroke-linecap:round; stroke-linejoin:round; stroke-width:2; stroke-opacity:0.1; fill:none\" points=\"186.274,1486.45 2352.76,1486.45 \"/>\n",
       "<polyline clip-path=\"url(#clip032)\" style=\"stroke:#000000; stroke-linecap:round; stroke-linejoin:round; stroke-width:2; stroke-opacity:0.1; fill:none\" points=\"186.274,1159.36 2352.76,1159.36 \"/>\n",
       "<polyline clip-path=\"url(#clip032)\" style=\"stroke:#000000; stroke-linecap:round; stroke-linejoin:round; stroke-width:2; stroke-opacity:0.1; fill:none\" points=\"186.274,832.264 2352.76,832.264 \"/>\n",
       "<polyline clip-path=\"url(#clip032)\" style=\"stroke:#000000; stroke-linecap:round; stroke-linejoin:round; stroke-width:2; stroke-opacity:0.1; fill:none\" points=\"186.274,505.173 2352.76,505.173 \"/>\n",
       "<polyline clip-path=\"url(#clip032)\" style=\"stroke:#000000; stroke-linecap:round; stroke-linejoin:round; stroke-width:2; stroke-opacity:0.1; fill:none\" points=\"186.274,178.081 2352.76,178.081 \"/>\n",
       "<polyline clip-path=\"url(#clip030)\" style=\"stroke:#000000; stroke-linecap:round; stroke-linejoin:round; stroke-width:4; stroke-opacity:1; fill:none\" points=\"186.274,1486.45 186.274,47.2441 \"/>\n",
       "<polyline clip-path=\"url(#clip030)\" style=\"stroke:#000000; stroke-linecap:round; stroke-linejoin:round; stroke-width:4; stroke-opacity:1; fill:none\" points=\"186.274,1486.45 205.172,1486.45 \"/>\n",
       "<polyline clip-path=\"url(#clip030)\" style=\"stroke:#000000; stroke-linecap:round; stroke-linejoin:round; stroke-width:4; stroke-opacity:1; fill:none\" points=\"186.274,1159.36 205.172,1159.36 \"/>\n",
       "<polyline clip-path=\"url(#clip030)\" style=\"stroke:#000000; stroke-linecap:round; stroke-linejoin:round; stroke-width:4; stroke-opacity:1; fill:none\" points=\"186.274,832.264 205.172,832.264 \"/>\n",
       "<polyline clip-path=\"url(#clip030)\" style=\"stroke:#000000; stroke-linecap:round; stroke-linejoin:round; stroke-width:4; stroke-opacity:1; fill:none\" points=\"186.274,505.173 205.172,505.173 \"/>\n",
       "<polyline clip-path=\"url(#clip030)\" style=\"stroke:#000000; stroke-linecap:round; stroke-linejoin:round; stroke-width:4; stroke-opacity:1; fill:none\" points=\"186.274,178.081 205.172,178.081 \"/>\n",
       "<path clip-path=\"url(#clip030)\" d=\"M62.9365 1472.25 Q59.3254 1472.25 57.4967 1475.81 Q55.6912 1479.35 55.6912 1486.48 Q55.6912 1493.59 57.4967 1497.15 Q59.3254 1500.7 62.9365 1500.7 Q66.5707 1500.7 68.3763 1497.15 Q70.205 1493.59 70.205 1486.48 Q70.205 1479.35 68.3763 1475.81 Q66.5707 1472.25 62.9365 1472.25 M62.9365 1468.54 Q68.7467 1468.54 71.8022 1473.15 Q74.8809 1477.73 74.8809 1486.48 Q74.8809 1495.21 71.8022 1499.82 Q68.7467 1504.4 62.9365 1504.4 Q57.1264 1504.4 54.0477 1499.82 Q50.9921 1495.21 50.9921 1486.48 Q50.9921 1477.73 54.0477 1473.15 Q57.1264 1468.54 62.9365 1468.54 Z\" fill=\"#000000\" fill-rule=\"nonzero\" fill-opacity=\"1\" /><path clip-path=\"url(#clip030)\" d=\"M83.0984 1497.85 L87.9827 1497.85 L87.9827 1503.73 L83.0984 1503.73 L83.0984 1497.85 Z\" fill=\"#000000\" fill-rule=\"nonzero\" fill-opacity=\"1\" /><path clip-path=\"url(#clip030)\" d=\"M108.168 1472.25 Q104.557 1472.25 102.728 1475.81 Q100.922 1479.35 100.922 1486.48 Q100.922 1493.59 102.728 1497.15 Q104.557 1500.7 108.168 1500.7 Q111.802 1500.7 113.608 1497.15 Q115.436 1493.59 115.436 1486.48 Q115.436 1479.35 113.608 1475.81 Q111.802 1472.25 108.168 1472.25 M108.168 1468.54 Q113.978 1468.54 117.033 1473.15 Q120.112 1477.73 120.112 1486.48 Q120.112 1495.21 117.033 1499.82 Q113.978 1504.4 108.168 1504.4 Q102.358 1504.4 99.2789 1499.82 Q96.2234 1495.21 96.2234 1486.48 Q96.2234 1477.73 99.2789 1473.15 Q102.358 1468.54 108.168 1468.54 Z\" fill=\"#000000\" fill-rule=\"nonzero\" fill-opacity=\"1\" /><path clip-path=\"url(#clip030)\" d=\"M138.33 1472.25 Q134.719 1472.25 132.89 1475.81 Q131.084 1479.35 131.084 1486.48 Q131.084 1493.59 132.89 1497.15 Q134.719 1500.7 138.33 1500.7 Q141.964 1500.7 143.769 1497.15 Q145.598 1493.59 145.598 1486.48 Q145.598 1479.35 143.769 1475.81 Q141.964 1472.25 138.33 1472.25 M138.33 1468.54 Q144.14 1468.54 147.195 1473.15 Q150.274 1477.73 150.274 1486.48 Q150.274 1495.21 147.195 1499.82 Q144.14 1504.4 138.33 1504.4 Q132.519 1504.4 129.441 1499.82 Q126.385 1495.21 126.385 1486.48 Q126.385 1477.73 129.441 1473.15 Q132.519 1468.54 138.33 1468.54 Z\" fill=\"#000000\" fill-rule=\"nonzero\" fill-opacity=\"1\" /><path clip-path=\"url(#clip030)\" d=\"M63.9319 1145.15 Q60.3208 1145.15 58.4921 1148.72 Q56.6865 1152.26 56.6865 1159.39 Q56.6865 1166.5 58.4921 1170.06 Q60.3208 1173.6 63.9319 1173.6 Q67.5661 1173.6 69.3717 1170.06 Q71.2004 1166.5 71.2004 1159.39 Q71.2004 1152.26 69.3717 1148.72 Q67.5661 1145.15 63.9319 1145.15 M63.9319 1141.45 Q69.742 1141.45 72.7976 1146.06 Q75.8763 1150.64 75.8763 1159.39 Q75.8763 1168.12 72.7976 1172.72 Q69.742 1177.31 63.9319 1177.31 Q58.1217 1177.31 55.043 1172.72 Q51.9875 1168.12 51.9875 1159.39 Q51.9875 1150.64 55.043 1146.06 Q58.1217 1141.45 63.9319 1141.45 Z\" fill=\"#000000\" fill-rule=\"nonzero\" fill-opacity=\"1\" /><path clip-path=\"url(#clip030)\" d=\"M84.0938 1170.76 L88.978 1170.76 L88.978 1176.64 L84.0938 1176.64 L84.0938 1170.76 Z\" fill=\"#000000\" fill-rule=\"nonzero\" fill-opacity=\"1\" /><path clip-path=\"url(#clip030)\" d=\"M103.191 1172.7 L119.51 1172.7 L119.51 1176.64 L97.566 1176.64 L97.566 1172.7 Q100.228 1169.95 104.811 1165.32 Q109.418 1160.66 110.598 1159.32 Q112.844 1156.8 113.723 1155.06 Q114.626 1153.3 114.626 1151.61 Q114.626 1148.86 112.682 1147.12 Q110.76 1145.39 107.658 1145.39 Q105.459 1145.39 103.006 1146.15 Q100.575 1146.91 97.7974 1148.46 L97.7974 1143.74 Q100.621 1142.61 103.075 1142.03 Q105.529 1141.45 107.566 1141.45 Q112.936 1141.45 116.131 1144.14 Q119.325 1146.82 119.325 1151.31 Q119.325 1153.44 118.515 1155.36 Q117.728 1157.26 115.621 1159.85 Q115.043 1160.53 111.941 1163.74 Q108.839 1166.94 103.191 1172.7 Z\" fill=\"#000000\" fill-rule=\"nonzero\" fill-opacity=\"1\" /><path clip-path=\"url(#clip030)\" d=\"M129.371 1142.08 L147.728 1142.08 L147.728 1146.01 L133.654 1146.01 L133.654 1154.48 Q134.672 1154.14 135.691 1153.97 Q136.709 1153.79 137.728 1153.79 Q143.515 1153.79 146.894 1156.96 Q150.274 1160.13 150.274 1165.55 Q150.274 1171.13 146.802 1174.23 Q143.33 1177.31 137.01 1177.31 Q134.834 1177.31 132.566 1176.94 Q130.32 1176.57 127.913 1175.83 L127.913 1171.13 Q129.996 1172.26 132.219 1172.82 Q134.441 1173.37 136.918 1173.37 Q140.922 1173.37 143.26 1171.27 Q145.598 1169.16 145.598 1165.55 Q145.598 1161.94 143.26 1159.83 Q140.922 1157.72 136.918 1157.72 Q135.043 1157.72 133.168 1158.14 Q131.316 1158.56 129.371 1159.44 L129.371 1142.08 Z\" fill=\"#000000\" fill-rule=\"nonzero\" fill-opacity=\"1\" /><path clip-path=\"url(#clip030)\" d=\"M62.9365 818.063 Q59.3254 818.063 57.4967 821.628 Q55.6912 825.169 55.6912 832.299 Q55.6912 839.406 57.4967 842.97 Q59.3254 846.512 62.9365 846.512 Q66.5707 846.512 68.3763 842.97 Q70.205 839.406 70.205 832.299 Q70.205 825.169 68.3763 821.628 Q66.5707 818.063 62.9365 818.063 M62.9365 814.359 Q68.7467 814.359 71.8022 818.966 Q74.8809 823.549 74.8809 832.299 Q74.8809 841.026 71.8022 845.632 Q68.7467 850.216 62.9365 850.216 Q57.1264 850.216 54.0477 845.632 Q50.9921 841.026 50.9921 832.299 Q50.9921 823.549 54.0477 818.966 Q57.1264 814.359 62.9365 814.359 Z\" fill=\"#000000\" fill-rule=\"nonzero\" fill-opacity=\"1\" /><path clip-path=\"url(#clip030)\" d=\"M83.0984 843.665 L87.9827 843.665 L87.9827 849.544 L83.0984 849.544 L83.0984 843.665 Z\" fill=\"#000000\" fill-rule=\"nonzero\" fill-opacity=\"1\" /><path clip-path=\"url(#clip030)\" d=\"M98.2141 814.984 L116.57 814.984 L116.57 818.92 L102.496 818.92 L102.496 827.392 Q103.515 827.044 104.534 826.882 Q105.552 826.697 106.571 826.697 Q112.358 826.697 115.737 829.869 Q119.117 833.04 119.117 838.456 Q119.117 844.035 115.645 847.137 Q112.172 850.216 105.853 850.216 Q103.677 850.216 101.409 849.845 Q99.1632 849.475 96.7558 848.734 L96.7558 844.035 Q98.8391 845.169 101.061 845.725 Q103.284 846.28 105.76 846.28 Q109.765 846.28 112.103 844.174 Q114.441 842.068 114.441 838.456 Q114.441 834.845 112.103 832.739 Q109.765 830.632 105.76 830.632 Q103.885 830.632 102.01 831.049 Q100.159 831.466 98.2141 832.345 L98.2141 814.984 Z\" fill=\"#000000\" fill-rule=\"nonzero\" fill-opacity=\"1\" /><path clip-path=\"url(#clip030)\" d=\"M138.33 818.063 Q134.719 818.063 132.89 821.628 Q131.084 825.169 131.084 832.299 Q131.084 839.406 132.89 842.97 Q134.719 846.512 138.33 846.512 Q141.964 846.512 143.769 842.97 Q145.598 839.406 145.598 832.299 Q145.598 825.169 143.769 821.628 Q141.964 818.063 138.33 818.063 M138.33 814.359 Q144.14 814.359 147.195 818.966 Q150.274 823.549 150.274 832.299 Q150.274 841.026 147.195 845.632 Q144.14 850.216 138.33 850.216 Q132.519 850.216 129.441 845.632 Q126.385 841.026 126.385 832.299 Q126.385 823.549 129.441 818.966 Q132.519 814.359 138.33 814.359 Z\" fill=\"#000000\" fill-rule=\"nonzero\" fill-opacity=\"1\" /><path clip-path=\"url(#clip030)\" d=\"M63.9319 490.971 Q60.3208 490.971 58.4921 494.536 Q56.6865 498.078 56.6865 505.207 Q56.6865 512.314 58.4921 515.879 Q60.3208 519.42 63.9319 519.42 Q67.5661 519.42 69.3717 515.879 Q71.2004 512.314 71.2004 505.207 Q71.2004 498.078 69.3717 494.536 Q67.5661 490.971 63.9319 490.971 M63.9319 487.268 Q69.742 487.268 72.7976 491.874 Q75.8763 496.457 75.8763 505.207 Q75.8763 513.934 72.7976 518.541 Q69.742 523.124 63.9319 523.124 Q58.1217 523.124 55.043 518.541 Q51.9875 513.934 51.9875 505.207 Q51.9875 496.457 55.043 491.874 Q58.1217 487.268 63.9319 487.268 Z\" fill=\"#000000\" fill-rule=\"nonzero\" fill-opacity=\"1\" /><path clip-path=\"url(#clip030)\" d=\"M84.0938 516.573 L88.978 516.573 L88.978 522.453 L84.0938 522.453 L84.0938 516.573 Z\" fill=\"#000000\" fill-rule=\"nonzero\" fill-opacity=\"1\" /><path clip-path=\"url(#clip030)\" d=\"M97.9826 487.893 L120.205 487.893 L120.205 489.883 L107.658 522.453 L102.774 522.453 L114.58 491.828 L97.9826 491.828 L97.9826 487.893 Z\" fill=\"#000000\" fill-rule=\"nonzero\" fill-opacity=\"1\" /><path clip-path=\"url(#clip030)\" d=\"M129.371 487.893 L147.728 487.893 L147.728 491.828 L133.654 491.828 L133.654 500.3 Q134.672 499.953 135.691 499.791 Q136.709 499.605 137.728 499.605 Q143.515 499.605 146.894 502.777 Q150.274 505.948 150.274 511.365 Q150.274 516.943 146.802 520.045 Q143.33 523.124 137.01 523.124 Q134.834 523.124 132.566 522.754 Q130.32 522.383 127.913 521.642 L127.913 516.943 Q129.996 518.078 132.219 518.633 Q134.441 519.189 136.918 519.189 Q140.922 519.189 143.26 517.082 Q145.598 514.976 145.598 511.365 Q145.598 507.754 143.26 505.647 Q140.922 503.541 136.918 503.541 Q135.043 503.541 133.168 503.957 Q131.316 504.374 129.371 505.254 L129.371 487.893 Z\" fill=\"#000000\" fill-rule=\"nonzero\" fill-opacity=\"1\" /><path clip-path=\"url(#clip030)\" d=\"M53.7467 191.426 L61.3856 191.426 L61.3856 165.06 L53.0754 166.727 L53.0754 162.467 L61.3393 160.801 L66.0152 160.801 L66.0152 191.426 L73.654 191.426 L73.654 195.361 L53.7467 195.361 L53.7467 191.426 Z\" fill=\"#000000\" fill-rule=\"nonzero\" fill-opacity=\"1\" /><path clip-path=\"url(#clip030)\" d=\"M83.0984 189.481 L87.9827 189.481 L87.9827 195.361 L83.0984 195.361 L83.0984 189.481 Z\" fill=\"#000000\" fill-rule=\"nonzero\" fill-opacity=\"1\" /><path clip-path=\"url(#clip030)\" d=\"M108.168 163.88 Q104.557 163.88 102.728 167.444 Q100.922 170.986 100.922 178.116 Q100.922 185.222 102.728 188.787 Q104.557 192.328 108.168 192.328 Q111.802 192.328 113.608 188.787 Q115.436 185.222 115.436 178.116 Q115.436 170.986 113.608 167.444 Q111.802 163.88 108.168 163.88 M108.168 160.176 Q113.978 160.176 117.033 164.782 Q120.112 169.366 120.112 178.116 Q120.112 186.842 117.033 191.449 Q113.978 196.032 108.168 196.032 Q102.358 196.032 99.2789 191.449 Q96.2234 186.842 96.2234 178.116 Q96.2234 169.366 99.2789 164.782 Q102.358 160.176 108.168 160.176 Z\" fill=\"#000000\" fill-rule=\"nonzero\" fill-opacity=\"1\" /><path clip-path=\"url(#clip030)\" d=\"M138.33 163.88 Q134.719 163.88 132.89 167.444 Q131.084 170.986 131.084 178.116 Q131.084 185.222 132.89 188.787 Q134.719 192.328 138.33 192.328 Q141.964 192.328 143.769 188.787 Q145.598 185.222 145.598 178.116 Q145.598 170.986 143.769 167.444 Q141.964 163.88 138.33 163.88 M138.33 160.176 Q144.14 160.176 147.195 164.782 Q150.274 169.366 150.274 178.116 Q150.274 186.842 147.195 191.449 Q144.14 196.032 138.33 196.032 Q132.519 196.032 129.441 191.449 Q126.385 186.842 126.385 178.116 Q126.385 169.366 129.441 164.782 Q132.519 160.176 138.33 160.176 Z\" fill=\"#000000\" fill-rule=\"nonzero\" fill-opacity=\"1\" /><path clip-path=\"url(#clip032)\" d=\"M1912.24 76.5284 L1912.24 1486.45 L2233.6 1486.45 L2233.6 76.5284 L1912.24 76.5284 L1912.24 76.5284  Z\" fill=\"#009af9\" fill-rule=\"evenodd\" fill-opacity=\"1\"/>\n",
       "<polyline clip-path=\"url(#clip032)\" style=\"stroke:#000000; stroke-linecap:round; stroke-linejoin:round; stroke-width:4; stroke-opacity:1; fill:none\" points=\"1912.24,76.5284 1912.24,1486.45 2233.6,1486.45 2233.6,76.5284 1912.24,76.5284 \"/>\n",
       "<path clip-path=\"url(#clip032)\" d=\"M1510.54 68.0933 L1510.54 1486.45 L1831.9 1486.45 L1831.9 68.0933 L1510.54 68.0933 L1510.54 68.0933  Z\" fill=\"#009af9\" fill-rule=\"evenodd\" fill-opacity=\"1\"/>\n",
       "<polyline clip-path=\"url(#clip032)\" style=\"stroke:#000000; stroke-linecap:round; stroke-linejoin:round; stroke-width:4; stroke-opacity:1; fill:none\" points=\"1510.54,68.0933 1510.54,1486.45 1831.9,1486.45 1831.9,68.0933 1510.54,68.0933 \"/>\n",
       "<path clip-path=\"url(#clip032)\" d=\"M707.135 47.2441 L707.135 1486.45 L1028.49 1486.45 L1028.49 47.2441 L707.135 47.2441 L707.135 47.2441  Z\" fill=\"#009af9\" fill-rule=\"evenodd\" fill-opacity=\"1\"/>\n",
       "<polyline clip-path=\"url(#clip032)\" style=\"stroke:#000000; stroke-linecap:round; stroke-linejoin:round; stroke-width:4; stroke-opacity:1; fill:none\" points=\"707.135,47.2441 707.135,1486.45 1028.49,1486.45 1028.49,47.2441 707.135,47.2441 \"/>\n",
       "<path clip-path=\"url(#clip032)\" d=\"M1108.83 94.1657 L1108.83 1486.45 L1430.2 1486.45 L1430.2 94.1657 L1108.83 94.1657 L1108.83 94.1657  Z\" fill=\"#009af9\" fill-rule=\"evenodd\" fill-opacity=\"1\"/>\n",
       "<polyline clip-path=\"url(#clip032)\" style=\"stroke:#000000; stroke-linecap:round; stroke-linejoin:round; stroke-width:4; stroke-opacity:1; fill:none\" points=\"1108.83,94.1657 1108.83,1486.45 1430.2,1486.45 1430.2,94.1657 1108.83,94.1657 \"/>\n",
       "<path clip-path=\"url(#clip032)\" d=\"M305.434 87.711 L305.434 1486.45 L626.795 1486.45 L626.795 87.711 L305.434 87.711 L305.434 87.711  Z\" fill=\"#009af9\" fill-rule=\"evenodd\" fill-opacity=\"1\"/>\n",
       "<polyline clip-path=\"url(#clip032)\" style=\"stroke:#000000; stroke-linecap:round; stroke-linejoin:round; stroke-width:4; stroke-opacity:1; fill:none\" points=\"305.434,87.711 305.434,1486.45 626.795,1486.45 626.795,87.711 305.434,87.711 \"/>\n",
       "<circle clip-path=\"url(#clip032)\" style=\"fill:#009af9; stroke:none; fill-opacity:0\" cx=\"2072.92\" cy=\"76.5284\" r=\"2\"/>\n",
       "<circle clip-path=\"url(#clip032)\" style=\"fill:#009af9; stroke:none; fill-opacity:0\" cx=\"1671.22\" cy=\"68.0933\" r=\"2\"/>\n",
       "<circle clip-path=\"url(#clip032)\" style=\"fill:#009af9; stroke:none; fill-opacity:0\" cx=\"867.815\" cy=\"47.2441\" r=\"2\"/>\n",
       "<circle clip-path=\"url(#clip032)\" style=\"fill:#009af9; stroke:none; fill-opacity:0\" cx=\"1269.51\" cy=\"94.1657\" r=\"2\"/>\n",
       "<circle clip-path=\"url(#clip032)\" style=\"fill:#009af9; stroke:none; fill-opacity:0\" cx=\"466.114\" cy=\"87.711\" r=\"2\"/>\n",
       "<path clip-path=\"url(#clip030)\" d=\"M258.49 198.898 L916.293 198.898 L916.293 95.2176 L258.49 95.2176  Z\" fill=\"#ffffff\" fill-rule=\"evenodd\" fill-opacity=\"1\"/>\n",
       "<polyline clip-path=\"url(#clip030)\" style=\"stroke:#000000; stroke-linecap:round; stroke-linejoin:round; stroke-width:4; stroke-opacity:1; fill:none\" points=\"258.49,198.898 916.293,198.898 916.293,95.2176 258.49,95.2176 258.49,198.898 \"/>\n",
       "<path clip-path=\"url(#clip030)\" d=\"M282.562 167.794 L426.994 167.794 L426.994 126.322 L282.562 126.322 L282.562 167.794  Z\" fill=\"#009af9\" fill-rule=\"evenodd\" fill-opacity=\"1\"/>\n",
       "<polyline clip-path=\"url(#clip030)\" style=\"stroke:#000000; stroke-linecap:round; stroke-linejoin:round; stroke-width:4; stroke-opacity:1; fill:none\" points=\"282.562,167.794 426.994,167.794 426.994,126.322 282.562,126.322 282.562,167.794 \"/>\n",
       "<path clip-path=\"url(#clip030)\" d=\"M464.261 164.338 L451.066 129.778 L455.95 129.778 L466.899 158.875 L477.872 129.778 L482.733 129.778 L469.562 164.338 L464.261 164.338 Z\" fill=\"#000000\" fill-rule=\"nonzero\" fill-opacity=\"1\" /><path clip-path=\"url(#clip030)\" d=\"M493.96 141.398 Q490.534 141.398 488.543 144.083 Q486.552 146.745 486.552 151.398 Q486.552 156.051 488.52 158.736 Q490.51 161.398 493.96 161.398 Q497.362 161.398 499.353 158.713 Q501.344 156.027 501.344 151.398 Q501.344 146.791 499.353 144.106 Q497.362 141.398 493.96 141.398 M493.96 137.787 Q499.515 137.787 502.686 141.398 Q505.858 145.009 505.858 151.398 Q505.858 157.764 502.686 161.398 Q499.515 165.009 493.96 165.009 Q488.381 165.009 485.21 161.398 Q482.061 157.764 482.061 151.398 Q482.061 145.009 485.21 141.398 Q488.381 137.787 493.96 137.787 Z\" fill=\"#000000\" fill-rule=\"nonzero\" fill-opacity=\"1\" /><path clip-path=\"url(#clip030)\" d=\"M512.918 128.319 L517.177 128.319 L517.177 164.338 L512.918 164.338 L512.918 128.319 Z\" fill=\"#000000\" fill-rule=\"nonzero\" fill-opacity=\"1\" /><path clip-path=\"url(#clip030)\" d=\"M530.302 131.051 L530.302 138.412 L539.075 138.412 L539.075 141.722 L530.302 141.722 L530.302 155.796 Q530.302 158.967 531.158 159.87 Q532.038 160.773 534.7 160.773 L539.075 160.773 L539.075 164.338 L534.7 164.338 Q529.77 164.338 527.895 162.509 Q526.02 160.657 526.02 155.796 L526.02 141.722 L522.895 141.722 L522.895 138.412 L526.02 138.412 L526.02 131.051 L530.302 131.051 Z\" fill=\"#000000\" fill-rule=\"nonzero\" fill-opacity=\"1\" /><path clip-path=\"url(#clip030)\" d=\"M556.459 151.305 Q551.297 151.305 549.306 152.486 Q547.316 153.666 547.316 156.514 Q547.316 158.782 548.797 160.125 Q550.302 161.444 552.871 161.444 Q556.413 161.444 558.543 158.944 Q560.695 156.421 560.695 152.254 L560.695 151.305 L556.459 151.305 M564.955 149.546 L564.955 164.338 L560.695 164.338 L560.695 160.402 Q559.237 162.763 557.061 163.898 Q554.885 165.009 551.737 165.009 Q547.756 165.009 545.394 162.787 Q543.056 160.541 543.056 156.791 Q543.056 152.416 545.973 150.194 Q548.913 147.972 554.723 147.972 L560.695 147.972 L560.695 147.555 Q560.695 144.615 558.751 143.018 Q556.83 141.398 553.334 141.398 Q551.112 141.398 549.006 141.93 Q546.899 142.463 544.955 143.527 L544.955 139.592 Q547.293 138.69 549.492 138.25 Q551.691 137.787 553.774 137.787 Q559.399 137.787 562.177 140.703 Q564.955 143.62 564.955 149.546 Z\" fill=\"#000000\" fill-rule=\"nonzero\" fill-opacity=\"1\" /><path clip-path=\"url(#clip030)\" d=\"M590.788 151.074 Q590.788 146.444 588.866 143.898 Q586.968 141.352 583.519 141.352 Q580.093 141.352 578.172 143.898 Q576.274 146.444 576.274 151.074 Q576.274 155.68 578.172 158.226 Q580.093 160.773 583.519 160.773 Q586.968 160.773 588.866 158.226 Q590.788 155.68 590.788 151.074 M595.047 161.12 Q595.047 167.74 592.107 170.958 Q589.167 174.199 583.103 174.199 Q580.857 174.199 578.866 173.851 Q576.876 173.527 575.001 172.833 L575.001 168.689 Q576.876 169.708 578.704 170.194 Q580.533 170.68 582.431 170.68 Q586.621 170.68 588.704 168.481 Q590.788 166.305 590.788 161.884 L590.788 159.777 Q589.468 162.069 587.408 163.203 Q585.348 164.338 582.478 164.338 Q577.709 164.338 574.792 160.703 Q571.876 157.069 571.876 151.074 Q571.876 145.055 574.792 141.421 Q577.709 137.787 582.478 137.787 Q585.348 137.787 587.408 138.921 Q589.468 140.055 590.788 142.347 L590.788 138.412 L595.047 138.412 L595.047 161.12 Z\" fill=\"#000000\" fill-rule=\"nonzero\" fill-opacity=\"1\" /><path clip-path=\"url(#clip030)\" d=\"M625.996 150.31 L625.996 152.393 L606.413 152.393 Q606.69 156.791 609.051 159.106 Q611.436 161.398 615.672 161.398 Q618.126 161.398 620.417 160.796 Q622.732 160.194 625 158.99 L625 163.018 Q622.709 163.99 620.301 164.5 Q617.894 165.009 615.417 165.009 Q609.214 165.009 605.579 161.398 Q601.968 157.787 601.968 151.629 Q601.968 145.264 605.394 141.537 Q608.843 137.787 614.676 137.787 Q619.908 137.787 622.94 141.166 Q625.996 144.523 625.996 150.31 M621.737 149.06 Q621.69 145.565 619.769 143.481 Q617.871 141.398 614.723 141.398 Q611.158 141.398 609.005 143.412 Q606.876 145.426 606.552 149.083 L621.737 149.06 Z\" fill=\"#000000\" fill-rule=\"nonzero\" fill-opacity=\"1\" /><path clip-path=\"url(#clip030)\" d=\"M648.241 129.778 L655.209 129.778 L664.028 153.296 L672.894 129.778 L679.861 129.778 L679.861 164.338 L675.301 164.338 L675.301 133.99 L666.389 157.694 L661.69 157.694 L652.778 133.99 L652.778 164.338 L648.241 164.338 L648.241 129.778 Z\" fill=\"#000000\" fill-rule=\"nonzero\" fill-opacity=\"1\" /><path clip-path=\"url(#clip030)\" d=\"M700.741 151.305 Q695.579 151.305 693.588 152.486 Q691.597 153.666 691.597 156.514 Q691.597 158.782 693.079 160.125 Q694.583 161.444 697.153 161.444 Q700.695 161.444 702.824 158.944 Q704.977 156.421 704.977 152.254 L704.977 151.305 L700.741 151.305 M709.236 149.546 L709.236 164.338 L704.977 164.338 L704.977 160.402 Q703.519 162.763 701.343 163.898 Q699.167 165.009 696.019 165.009 Q692.037 165.009 689.676 162.787 Q687.338 160.541 687.338 156.791 Q687.338 152.416 690.255 150.194 Q693.195 147.972 699.005 147.972 L704.977 147.972 L704.977 147.555 Q704.977 144.615 703.032 143.018 Q701.111 141.398 697.616 141.398 Q695.394 141.398 693.287 141.93 Q691.181 142.463 689.236 143.527 L689.236 139.592 Q691.574 138.69 693.773 138.25 Q695.972 137.787 698.056 137.787 Q703.681 137.787 706.458 140.703 Q709.236 143.62 709.236 149.546 Z\" fill=\"#000000\" fill-rule=\"nonzero\" fill-opacity=\"1\" /><path clip-path=\"url(#clip030)\" d=\"M735.069 151.074 Q735.069 146.444 733.148 143.898 Q731.25 141.352 727.801 141.352 Q724.375 141.352 722.454 143.898 Q720.556 146.444 720.556 151.074 Q720.556 155.68 722.454 158.226 Q724.375 160.773 727.801 160.773 Q731.25 160.773 733.148 158.226 Q735.069 155.68 735.069 151.074 M739.329 161.12 Q739.329 167.74 736.389 170.958 Q733.449 174.199 727.384 174.199 Q725.139 174.199 723.148 173.851 Q721.157 173.527 719.282 172.833 L719.282 168.689 Q721.157 169.708 722.986 170.194 Q724.815 170.68 726.713 170.68 Q730.903 170.68 732.986 168.481 Q735.069 166.305 735.069 161.884 L735.069 159.777 Q733.75 162.069 731.69 163.203 Q729.63 164.338 726.759 164.338 Q721.991 164.338 719.074 160.703 Q716.157 157.069 716.157 151.074 Q716.157 145.055 719.074 141.421 Q721.991 137.787 726.759 137.787 Q729.63 137.787 731.69 138.921 Q733.75 140.055 735.069 142.347 L735.069 138.412 L739.329 138.412 L739.329 161.12 Z\" fill=\"#000000\" fill-rule=\"nonzero\" fill-opacity=\"1\" /><path clip-path=\"url(#clip030)\" d=\"M769.652 148.689 L769.652 164.338 L765.393 164.338 L765.393 148.828 Q765.393 145.148 763.958 143.319 Q762.523 141.49 759.653 141.49 Q756.203 141.49 754.213 143.69 Q752.222 145.889 752.222 149.685 L752.222 164.338 L747.94 164.338 L747.94 138.412 L752.222 138.412 L752.222 142.44 Q753.75 140.102 755.81 138.944 Q757.893 137.787 760.602 137.787 Q765.069 137.787 767.361 140.565 Q769.652 143.319 769.652 148.689 Z\" fill=\"#000000\" fill-rule=\"nonzero\" fill-opacity=\"1\" /><path clip-path=\"url(#clip030)\" d=\"M778.148 138.412 L782.407 138.412 L782.407 164.338 L778.148 164.338 L778.148 138.412 M778.148 128.319 L782.407 128.319 L782.407 133.713 L778.148 133.713 L778.148 128.319 Z\" fill=\"#000000\" fill-rule=\"nonzero\" fill-opacity=\"1\" /><path clip-path=\"url(#clip030)\" d=\"M795.532 131.051 L795.532 138.412 L804.305 138.412 L804.305 141.722 L795.532 141.722 L795.532 155.796 Q795.532 158.967 796.388 159.87 Q797.268 160.773 799.93 160.773 L804.305 160.773 L804.305 164.338 L799.93 164.338 Q795 164.338 793.125 162.509 Q791.25 160.657 791.25 155.796 L791.25 141.722 L788.125 141.722 L788.125 138.412 L791.25 138.412 L791.25 131.051 L795.532 131.051 Z\" fill=\"#000000\" fill-rule=\"nonzero\" fill-opacity=\"1\" /><path clip-path=\"url(#clip030)\" d=\"M809.467 154.106 L809.467 138.412 L813.726 138.412 L813.726 153.944 Q813.726 157.625 815.162 159.476 Q816.597 161.305 819.467 161.305 Q822.916 161.305 824.907 159.106 Q826.921 156.907 826.921 153.111 L826.921 138.412 L831.18 138.412 L831.18 164.338 L826.921 164.338 L826.921 160.356 Q825.37 162.717 823.31 163.875 Q821.273 165.009 818.564 165.009 Q814.097 165.009 811.782 162.231 Q809.467 159.453 809.467 154.106 M820.185 137.787 L820.185 137.787 Z\" fill=\"#000000\" fill-rule=\"nonzero\" fill-opacity=\"1\" /><path clip-path=\"url(#clip030)\" d=\"M857.013 142.347 L857.013 128.319 L861.272 128.319 L861.272 164.338 L857.013 164.338 L857.013 160.449 Q855.671 162.763 853.61 163.898 Q851.573 165.009 848.703 165.009 Q844.004 165.009 841.041 161.259 Q838.101 157.509 838.101 151.398 Q838.101 145.287 841.041 141.537 Q844.004 137.787 848.703 137.787 Q851.573 137.787 853.61 138.921 Q855.671 140.032 857.013 142.347 M842.499 151.398 Q842.499 156.097 844.421 158.782 Q846.365 161.444 849.745 161.444 Q853.124 161.444 855.069 158.782 Q857.013 156.097 857.013 151.398 Q857.013 146.699 855.069 144.037 Q853.124 141.352 849.745 141.352 Q846.365 141.352 844.421 144.037 Q842.499 146.699 842.499 151.398 Z\" fill=\"#000000\" fill-rule=\"nonzero\" fill-opacity=\"1\" /><path clip-path=\"url(#clip030)\" d=\"M892.221 150.31 L892.221 152.393 L872.638 152.393 Q872.916 156.791 875.277 159.106 Q877.661 161.398 881.897 161.398 Q884.351 161.398 886.643 160.796 Q888.957 160.194 891.226 158.99 L891.226 163.018 Q888.934 163.99 886.527 164.5 Q884.119 165.009 881.643 165.009 Q875.439 165.009 871.805 161.398 Q868.194 157.787 868.194 151.629 Q868.194 145.264 871.62 141.537 Q875.069 137.787 880.902 137.787 Q886.133 137.787 889.166 141.166 Q892.221 144.523 892.221 150.31 M887.962 149.06 Q887.916 145.565 885.994 143.481 Q884.096 141.398 880.948 141.398 Q877.383 141.398 875.231 143.412 Q873.101 145.426 872.777 149.083 L887.962 149.06 Z\" fill=\"#000000\" fill-rule=\"nonzero\" fill-opacity=\"1\" /></svg>\n"
      ],
      "text/html": [
       "<?xml version=\"1.0\" encoding=\"utf-8\"?>\n",
       "<svg xmlns=\"http://www.w3.org/2000/svg\" xmlns:xlink=\"http://www.w3.org/1999/xlink\" width=\"600\" height=\"400\" viewBox=\"0 0 2400 1600\">\n",
       "<defs>\n",
       "  <clipPath id=\"clip080\">\n",
       "    <rect x=\"0\" y=\"0\" width=\"2400\" height=\"1600\"/>\n",
       "  </clipPath>\n",
       "</defs>\n",
       "<path clip-path=\"url(#clip080)\" d=\"M0 1600 L2400 1600 L2400 0 L0 0  Z\" fill=\"#ffffff\" fill-rule=\"evenodd\" fill-opacity=\"1\"/>\n",
       "<defs>\n",
       "  <clipPath id=\"clip081\">\n",
       "    <rect x=\"480\" y=\"0\" width=\"1681\" height=\"1600\"/>\n",
       "  </clipPath>\n",
       "</defs>\n",
       "<path clip-path=\"url(#clip080)\" d=\"M186.274 1486.45 L2352.76 1486.45 L2352.76 47.2441 L186.274 47.2441  Z\" fill=\"#ffffff\" fill-rule=\"evenodd\" fill-opacity=\"1\"/>\n",
       "<defs>\n",
       "  <clipPath id=\"clip082\">\n",
       "    <rect x=\"186\" y=\"47\" width=\"2167\" height=\"1440\"/>\n",
       "  </clipPath>\n",
       "</defs>\n",
       "<polyline clip-path=\"url(#clip082)\" style=\"stroke:#000000; stroke-linecap:round; stroke-linejoin:round; stroke-width:2; stroke-opacity:0.1; fill:none\" points=\"466.114,1486.45 466.114,47.2441 \"/>\n",
       "<polyline clip-path=\"url(#clip082)\" style=\"stroke:#000000; stroke-linecap:round; stroke-linejoin:round; stroke-width:2; stroke-opacity:0.1; fill:none\" points=\"867.815,1486.45 867.815,47.2441 \"/>\n",
       "<polyline clip-path=\"url(#clip082)\" style=\"stroke:#000000; stroke-linecap:round; stroke-linejoin:round; stroke-width:2; stroke-opacity:0.1; fill:none\" points=\"1269.51,1486.45 1269.51,47.2441 \"/>\n",
       "<polyline clip-path=\"url(#clip082)\" style=\"stroke:#000000; stroke-linecap:round; stroke-linejoin:round; stroke-width:2; stroke-opacity:0.1; fill:none\" points=\"1671.22,1486.45 1671.22,47.2441 \"/>\n",
       "<polyline clip-path=\"url(#clip082)\" style=\"stroke:#000000; stroke-linecap:round; stroke-linejoin:round; stroke-width:2; stroke-opacity:0.1; fill:none\" points=\"2072.92,1486.45 2072.92,47.2441 \"/>\n",
       "<polyline clip-path=\"url(#clip080)\" style=\"stroke:#000000; stroke-linecap:round; stroke-linejoin:round; stroke-width:4; stroke-opacity:1; fill:none\" points=\"186.274,1486.45 2352.76,1486.45 \"/>\n",
       "<polyline clip-path=\"url(#clip080)\" style=\"stroke:#000000; stroke-linecap:round; stroke-linejoin:round; stroke-width:4; stroke-opacity:1; fill:none\" points=\"466.114,1486.45 466.114,1467.55 \"/>\n",
       "<polyline clip-path=\"url(#clip080)\" style=\"stroke:#000000; stroke-linecap:round; stroke-linejoin:round; stroke-width:4; stroke-opacity:1; fill:none\" points=\"867.815,1486.45 867.815,1467.55 \"/>\n",
       "<polyline clip-path=\"url(#clip080)\" style=\"stroke:#000000; stroke-linecap:round; stroke-linejoin:round; stroke-width:4; stroke-opacity:1; fill:none\" points=\"1269.51,1486.45 1269.51,1467.55 \"/>\n",
       "<polyline clip-path=\"url(#clip080)\" style=\"stroke:#000000; stroke-linecap:round; stroke-linejoin:round; stroke-width:4; stroke-opacity:1; fill:none\" points=\"1671.22,1486.45 1671.22,1467.55 \"/>\n",
       "<polyline clip-path=\"url(#clip080)\" style=\"stroke:#000000; stroke-linecap:round; stroke-linejoin:round; stroke-width:4; stroke-opacity:1; fill:none\" points=\"2072.92,1486.45 2072.92,1467.55 \"/>\n",
       "<path clip-path=\"url(#clip080)\" d=\"M456.496 1544.91 L464.135 1544.91 L464.135 1518.55 L455.825 1520.21 L455.825 1515.95 L464.089 1514.29 L468.765 1514.29 L468.765 1544.91 L476.404 1544.91 L476.404 1548.85 L456.496 1548.85 L456.496 1544.91 Z\" fill=\"#000000\" fill-rule=\"nonzero\" fill-opacity=\"1\" /><path clip-path=\"url(#clip080)\" d=\"M862.468 1544.91 L878.787 1544.91 L878.787 1548.85 L856.843 1548.85 L856.843 1544.91 Q859.505 1542.16 864.088 1537.53 Q868.694 1532.88 869.875 1531.53 Q872.12 1529.01 873 1527.27 Q873.903 1525.51 873.903 1523.82 Q873.903 1521.07 871.958 1519.33 Q870.037 1517.6 866.935 1517.6 Q864.736 1517.6 862.282 1518.36 Q859.852 1519.13 857.074 1520.68 L857.074 1515.95 Q859.898 1514.82 862.352 1514.24 Q864.805 1513.66 866.842 1513.66 Q872.213 1513.66 875.407 1516.35 Q878.602 1519.03 878.602 1523.52 Q878.602 1525.65 877.792 1527.57 Q877.004 1529.47 874.898 1532.07 Q874.319 1532.74 871.217 1535.95 Q868.116 1539.15 862.468 1544.91 Z\" fill=\"#000000\" fill-rule=\"nonzero\" fill-opacity=\"1\" /><path clip-path=\"url(#clip080)\" d=\"M1273.76 1530.21 Q1277.12 1530.93 1278.99 1533.2 Q1280.89 1535.47 1280.89 1538.8 Q1280.89 1543.92 1277.37 1546.72 Q1273.86 1549.52 1267.37 1549.52 Q1265.2 1549.52 1262.88 1549.08 Q1260.59 1548.66 1258.14 1547.81 L1258.14 1543.29 Q1260.08 1544.43 1262.4 1545.01 Q1264.71 1545.58 1267.23 1545.58 Q1271.63 1545.58 1273.92 1543.85 Q1276.24 1542.11 1276.24 1538.8 Q1276.24 1535.75 1274.09 1534.03 Q1271.96 1532.3 1268.14 1532.3 L1264.11 1532.3 L1264.11 1528.45 L1268.32 1528.45 Q1271.77 1528.45 1273.6 1527.09 Q1275.43 1525.7 1275.43 1523.11 Q1275.43 1520.45 1273.53 1519.03 Q1271.66 1517.6 1268.14 1517.6 Q1266.22 1517.6 1264.02 1518.01 Q1261.82 1518.43 1259.18 1519.31 L1259.18 1515.14 Q1261.84 1514.4 1264.16 1514.03 Q1266.49 1513.66 1268.55 1513.66 Q1273.88 1513.66 1276.98 1516.09 Q1280.08 1518.5 1280.08 1522.62 Q1280.08 1525.49 1278.44 1527.48 Q1276.8 1529.45 1273.76 1530.21 Z\" fill=\"#000000\" fill-rule=\"nonzero\" fill-opacity=\"1\" /><path clip-path=\"url(#clip080)\" d=\"M1674.22 1518.36 L1662.42 1536.81 L1674.22 1536.81 L1674.22 1518.36 M1673 1514.29 L1678.88 1514.29 L1678.88 1536.81 L1683.81 1536.81 L1683.81 1540.7 L1678.88 1540.7 L1678.88 1548.85 L1674.22 1548.85 L1674.22 1540.7 L1658.62 1540.7 L1658.62 1536.19 L1673 1514.29 Z\" fill=\"#000000\" fill-rule=\"nonzero\" fill-opacity=\"1\" /><path clip-path=\"url(#clip080)\" d=\"M2063.19 1514.29 L2081.55 1514.29 L2081.55 1518.22 L2067.48 1518.22 L2067.48 1526.7 Q2068.49 1526.35 2069.51 1526.19 Q2070.53 1526 2071.55 1526 Q2077.34 1526 2080.72 1529.17 Q2084.1 1532.34 2084.1 1537.76 Q2084.1 1543.34 2080.62 1546.44 Q2077.15 1549.52 2070.83 1549.52 Q2068.66 1549.52 2066.39 1549.15 Q2064.14 1548.78 2061.73 1548.04 L2061.73 1543.34 Q2063.82 1544.47 2066.04 1545.03 Q2068.26 1545.58 2070.74 1545.58 Q2074.74 1545.58 2077.08 1543.48 Q2079.42 1541.37 2079.42 1537.76 Q2079.42 1534.15 2077.08 1532.04 Q2074.74 1529.94 2070.74 1529.94 Q2068.86 1529.94 2066.99 1530.35 Q2065.14 1530.77 2063.19 1531.65 L2063.19 1514.29 Z\" fill=\"#000000\" fill-rule=\"nonzero\" fill-opacity=\"1\" /><polyline clip-path=\"url(#clip082)\" style=\"stroke:#000000; stroke-linecap:round; stroke-linejoin:round; stroke-width:2; stroke-opacity:0.1; fill:none\" points=\"186.274,1486.45 2352.76,1486.45 \"/>\n",
       "<polyline clip-path=\"url(#clip082)\" style=\"stroke:#000000; stroke-linecap:round; stroke-linejoin:round; stroke-width:2; stroke-opacity:0.1; fill:none\" points=\"186.274,1159.36 2352.76,1159.36 \"/>\n",
       "<polyline clip-path=\"url(#clip082)\" style=\"stroke:#000000; stroke-linecap:round; stroke-linejoin:round; stroke-width:2; stroke-opacity:0.1; fill:none\" points=\"186.274,832.264 2352.76,832.264 \"/>\n",
       "<polyline clip-path=\"url(#clip082)\" style=\"stroke:#000000; stroke-linecap:round; stroke-linejoin:round; stroke-width:2; stroke-opacity:0.1; fill:none\" points=\"186.274,505.173 2352.76,505.173 \"/>\n",
       "<polyline clip-path=\"url(#clip082)\" style=\"stroke:#000000; stroke-linecap:round; stroke-linejoin:round; stroke-width:2; stroke-opacity:0.1; fill:none\" points=\"186.274,178.081 2352.76,178.081 \"/>\n",
       "<polyline clip-path=\"url(#clip080)\" style=\"stroke:#000000; stroke-linecap:round; stroke-linejoin:round; stroke-width:4; stroke-opacity:1; fill:none\" points=\"186.274,1486.45 186.274,47.2441 \"/>\n",
       "<polyline clip-path=\"url(#clip080)\" style=\"stroke:#000000; stroke-linecap:round; stroke-linejoin:round; stroke-width:4; stroke-opacity:1; fill:none\" points=\"186.274,1486.45 205.172,1486.45 \"/>\n",
       "<polyline clip-path=\"url(#clip080)\" style=\"stroke:#000000; stroke-linecap:round; stroke-linejoin:round; stroke-width:4; stroke-opacity:1; fill:none\" points=\"186.274,1159.36 205.172,1159.36 \"/>\n",
       "<polyline clip-path=\"url(#clip080)\" style=\"stroke:#000000; stroke-linecap:round; stroke-linejoin:round; stroke-width:4; stroke-opacity:1; fill:none\" points=\"186.274,832.264 205.172,832.264 \"/>\n",
       "<polyline clip-path=\"url(#clip080)\" style=\"stroke:#000000; stroke-linecap:round; stroke-linejoin:round; stroke-width:4; stroke-opacity:1; fill:none\" points=\"186.274,505.173 205.172,505.173 \"/>\n",
       "<polyline clip-path=\"url(#clip080)\" style=\"stroke:#000000; stroke-linecap:round; stroke-linejoin:round; stroke-width:4; stroke-opacity:1; fill:none\" points=\"186.274,178.081 205.172,178.081 \"/>\n",
       "<path clip-path=\"url(#clip080)\" d=\"M62.9365 1472.25 Q59.3254 1472.25 57.4967 1475.81 Q55.6912 1479.35 55.6912 1486.48 Q55.6912 1493.59 57.4967 1497.15 Q59.3254 1500.7 62.9365 1500.7 Q66.5707 1500.7 68.3763 1497.15 Q70.205 1493.59 70.205 1486.48 Q70.205 1479.35 68.3763 1475.81 Q66.5707 1472.25 62.9365 1472.25 M62.9365 1468.54 Q68.7467 1468.54 71.8022 1473.15 Q74.8809 1477.73 74.8809 1486.48 Q74.8809 1495.21 71.8022 1499.82 Q68.7467 1504.4 62.9365 1504.4 Q57.1264 1504.4 54.0477 1499.82 Q50.9921 1495.21 50.9921 1486.48 Q50.9921 1477.73 54.0477 1473.15 Q57.1264 1468.54 62.9365 1468.54 Z\" fill=\"#000000\" fill-rule=\"nonzero\" fill-opacity=\"1\" /><path clip-path=\"url(#clip080)\" d=\"M83.0984 1497.85 L87.9827 1497.85 L87.9827 1503.73 L83.0984 1503.73 L83.0984 1497.85 Z\" fill=\"#000000\" fill-rule=\"nonzero\" fill-opacity=\"1\" /><path clip-path=\"url(#clip080)\" d=\"M108.168 1472.25 Q104.557 1472.25 102.728 1475.81 Q100.922 1479.35 100.922 1486.48 Q100.922 1493.59 102.728 1497.15 Q104.557 1500.7 108.168 1500.7 Q111.802 1500.7 113.608 1497.15 Q115.436 1493.59 115.436 1486.48 Q115.436 1479.35 113.608 1475.81 Q111.802 1472.25 108.168 1472.25 M108.168 1468.54 Q113.978 1468.54 117.033 1473.15 Q120.112 1477.73 120.112 1486.48 Q120.112 1495.21 117.033 1499.82 Q113.978 1504.4 108.168 1504.4 Q102.358 1504.4 99.2789 1499.82 Q96.2234 1495.21 96.2234 1486.48 Q96.2234 1477.73 99.2789 1473.15 Q102.358 1468.54 108.168 1468.54 Z\" fill=\"#000000\" fill-rule=\"nonzero\" fill-opacity=\"1\" /><path clip-path=\"url(#clip080)\" d=\"M138.33 1472.25 Q134.719 1472.25 132.89 1475.81 Q131.084 1479.35 131.084 1486.48 Q131.084 1493.59 132.89 1497.15 Q134.719 1500.7 138.33 1500.7 Q141.964 1500.7 143.769 1497.15 Q145.598 1493.59 145.598 1486.48 Q145.598 1479.35 143.769 1475.81 Q141.964 1472.25 138.33 1472.25 M138.33 1468.54 Q144.14 1468.54 147.195 1473.15 Q150.274 1477.73 150.274 1486.48 Q150.274 1495.21 147.195 1499.82 Q144.14 1504.4 138.33 1504.4 Q132.519 1504.4 129.441 1499.82 Q126.385 1495.21 126.385 1486.48 Q126.385 1477.73 129.441 1473.15 Q132.519 1468.54 138.33 1468.54 Z\" fill=\"#000000\" fill-rule=\"nonzero\" fill-opacity=\"1\" /><path clip-path=\"url(#clip080)\" d=\"M63.9319 1145.15 Q60.3208 1145.15 58.4921 1148.72 Q56.6865 1152.26 56.6865 1159.39 Q56.6865 1166.5 58.4921 1170.06 Q60.3208 1173.6 63.9319 1173.6 Q67.5661 1173.6 69.3717 1170.06 Q71.2004 1166.5 71.2004 1159.39 Q71.2004 1152.26 69.3717 1148.72 Q67.5661 1145.15 63.9319 1145.15 M63.9319 1141.45 Q69.742 1141.45 72.7976 1146.06 Q75.8763 1150.64 75.8763 1159.39 Q75.8763 1168.12 72.7976 1172.72 Q69.742 1177.31 63.9319 1177.31 Q58.1217 1177.31 55.043 1172.72 Q51.9875 1168.12 51.9875 1159.39 Q51.9875 1150.64 55.043 1146.06 Q58.1217 1141.45 63.9319 1141.45 Z\" fill=\"#000000\" fill-rule=\"nonzero\" fill-opacity=\"1\" /><path clip-path=\"url(#clip080)\" d=\"M84.0938 1170.76 L88.978 1170.76 L88.978 1176.64 L84.0938 1176.64 L84.0938 1170.76 Z\" fill=\"#000000\" fill-rule=\"nonzero\" fill-opacity=\"1\" /><path clip-path=\"url(#clip080)\" d=\"M103.191 1172.7 L119.51 1172.7 L119.51 1176.64 L97.566 1176.64 L97.566 1172.7 Q100.228 1169.95 104.811 1165.32 Q109.418 1160.66 110.598 1159.32 Q112.844 1156.8 113.723 1155.06 Q114.626 1153.3 114.626 1151.61 Q114.626 1148.86 112.682 1147.12 Q110.76 1145.39 107.658 1145.39 Q105.459 1145.39 103.006 1146.15 Q100.575 1146.91 97.7974 1148.46 L97.7974 1143.74 Q100.621 1142.61 103.075 1142.03 Q105.529 1141.45 107.566 1141.45 Q112.936 1141.45 116.131 1144.14 Q119.325 1146.82 119.325 1151.31 Q119.325 1153.44 118.515 1155.36 Q117.728 1157.26 115.621 1159.85 Q115.043 1160.53 111.941 1163.74 Q108.839 1166.94 103.191 1172.7 Z\" fill=\"#000000\" fill-rule=\"nonzero\" fill-opacity=\"1\" /><path clip-path=\"url(#clip080)\" d=\"M129.371 1142.08 L147.728 1142.08 L147.728 1146.01 L133.654 1146.01 L133.654 1154.48 Q134.672 1154.14 135.691 1153.97 Q136.709 1153.79 137.728 1153.79 Q143.515 1153.79 146.894 1156.96 Q150.274 1160.13 150.274 1165.55 Q150.274 1171.13 146.802 1174.23 Q143.33 1177.31 137.01 1177.31 Q134.834 1177.31 132.566 1176.94 Q130.32 1176.57 127.913 1175.83 L127.913 1171.13 Q129.996 1172.26 132.219 1172.82 Q134.441 1173.37 136.918 1173.37 Q140.922 1173.37 143.26 1171.27 Q145.598 1169.16 145.598 1165.55 Q145.598 1161.94 143.26 1159.83 Q140.922 1157.72 136.918 1157.72 Q135.043 1157.72 133.168 1158.14 Q131.316 1158.56 129.371 1159.44 L129.371 1142.08 Z\" fill=\"#000000\" fill-rule=\"nonzero\" fill-opacity=\"1\" /><path clip-path=\"url(#clip080)\" d=\"M62.9365 818.063 Q59.3254 818.063 57.4967 821.628 Q55.6912 825.169 55.6912 832.299 Q55.6912 839.406 57.4967 842.97 Q59.3254 846.512 62.9365 846.512 Q66.5707 846.512 68.3763 842.97 Q70.205 839.406 70.205 832.299 Q70.205 825.169 68.3763 821.628 Q66.5707 818.063 62.9365 818.063 M62.9365 814.359 Q68.7467 814.359 71.8022 818.966 Q74.8809 823.549 74.8809 832.299 Q74.8809 841.026 71.8022 845.632 Q68.7467 850.216 62.9365 850.216 Q57.1264 850.216 54.0477 845.632 Q50.9921 841.026 50.9921 832.299 Q50.9921 823.549 54.0477 818.966 Q57.1264 814.359 62.9365 814.359 Z\" fill=\"#000000\" fill-rule=\"nonzero\" fill-opacity=\"1\" /><path clip-path=\"url(#clip080)\" d=\"M83.0984 843.665 L87.9827 843.665 L87.9827 849.544 L83.0984 849.544 L83.0984 843.665 Z\" fill=\"#000000\" fill-rule=\"nonzero\" fill-opacity=\"1\" /><path clip-path=\"url(#clip080)\" d=\"M98.2141 814.984 L116.57 814.984 L116.57 818.92 L102.496 818.92 L102.496 827.392 Q103.515 827.044 104.534 826.882 Q105.552 826.697 106.571 826.697 Q112.358 826.697 115.737 829.869 Q119.117 833.04 119.117 838.456 Q119.117 844.035 115.645 847.137 Q112.172 850.216 105.853 850.216 Q103.677 850.216 101.409 849.845 Q99.1632 849.475 96.7558 848.734 L96.7558 844.035 Q98.8391 845.169 101.061 845.725 Q103.284 846.28 105.76 846.28 Q109.765 846.28 112.103 844.174 Q114.441 842.068 114.441 838.456 Q114.441 834.845 112.103 832.739 Q109.765 830.632 105.76 830.632 Q103.885 830.632 102.01 831.049 Q100.159 831.466 98.2141 832.345 L98.2141 814.984 Z\" fill=\"#000000\" fill-rule=\"nonzero\" fill-opacity=\"1\" /><path clip-path=\"url(#clip080)\" d=\"M138.33 818.063 Q134.719 818.063 132.89 821.628 Q131.084 825.169 131.084 832.299 Q131.084 839.406 132.89 842.97 Q134.719 846.512 138.33 846.512 Q141.964 846.512 143.769 842.97 Q145.598 839.406 145.598 832.299 Q145.598 825.169 143.769 821.628 Q141.964 818.063 138.33 818.063 M138.33 814.359 Q144.14 814.359 147.195 818.966 Q150.274 823.549 150.274 832.299 Q150.274 841.026 147.195 845.632 Q144.14 850.216 138.33 850.216 Q132.519 850.216 129.441 845.632 Q126.385 841.026 126.385 832.299 Q126.385 823.549 129.441 818.966 Q132.519 814.359 138.33 814.359 Z\" fill=\"#000000\" fill-rule=\"nonzero\" fill-opacity=\"1\" /><path clip-path=\"url(#clip080)\" d=\"M63.9319 490.971 Q60.3208 490.971 58.4921 494.536 Q56.6865 498.078 56.6865 505.207 Q56.6865 512.314 58.4921 515.879 Q60.3208 519.42 63.9319 519.42 Q67.5661 519.42 69.3717 515.879 Q71.2004 512.314 71.2004 505.207 Q71.2004 498.078 69.3717 494.536 Q67.5661 490.971 63.9319 490.971 M63.9319 487.268 Q69.742 487.268 72.7976 491.874 Q75.8763 496.457 75.8763 505.207 Q75.8763 513.934 72.7976 518.541 Q69.742 523.124 63.9319 523.124 Q58.1217 523.124 55.043 518.541 Q51.9875 513.934 51.9875 505.207 Q51.9875 496.457 55.043 491.874 Q58.1217 487.268 63.9319 487.268 Z\" fill=\"#000000\" fill-rule=\"nonzero\" fill-opacity=\"1\" /><path clip-path=\"url(#clip080)\" d=\"M84.0938 516.573 L88.978 516.573 L88.978 522.453 L84.0938 522.453 L84.0938 516.573 Z\" fill=\"#000000\" fill-rule=\"nonzero\" fill-opacity=\"1\" /><path clip-path=\"url(#clip080)\" d=\"M97.9826 487.893 L120.205 487.893 L120.205 489.883 L107.658 522.453 L102.774 522.453 L114.58 491.828 L97.9826 491.828 L97.9826 487.893 Z\" fill=\"#000000\" fill-rule=\"nonzero\" fill-opacity=\"1\" /><path clip-path=\"url(#clip080)\" d=\"M129.371 487.893 L147.728 487.893 L147.728 491.828 L133.654 491.828 L133.654 500.3 Q134.672 499.953 135.691 499.791 Q136.709 499.605 137.728 499.605 Q143.515 499.605 146.894 502.777 Q150.274 505.948 150.274 511.365 Q150.274 516.943 146.802 520.045 Q143.33 523.124 137.01 523.124 Q134.834 523.124 132.566 522.754 Q130.32 522.383 127.913 521.642 L127.913 516.943 Q129.996 518.078 132.219 518.633 Q134.441 519.189 136.918 519.189 Q140.922 519.189 143.26 517.082 Q145.598 514.976 145.598 511.365 Q145.598 507.754 143.26 505.647 Q140.922 503.541 136.918 503.541 Q135.043 503.541 133.168 503.957 Q131.316 504.374 129.371 505.254 L129.371 487.893 Z\" fill=\"#000000\" fill-rule=\"nonzero\" fill-opacity=\"1\" /><path clip-path=\"url(#clip080)\" d=\"M53.7467 191.426 L61.3856 191.426 L61.3856 165.06 L53.0754 166.727 L53.0754 162.467 L61.3393 160.801 L66.0152 160.801 L66.0152 191.426 L73.654 191.426 L73.654 195.361 L53.7467 195.361 L53.7467 191.426 Z\" fill=\"#000000\" fill-rule=\"nonzero\" fill-opacity=\"1\" /><path clip-path=\"url(#clip080)\" d=\"M83.0984 189.481 L87.9827 189.481 L87.9827 195.361 L83.0984 195.361 L83.0984 189.481 Z\" fill=\"#000000\" fill-rule=\"nonzero\" fill-opacity=\"1\" /><path clip-path=\"url(#clip080)\" d=\"M108.168 163.88 Q104.557 163.88 102.728 167.444 Q100.922 170.986 100.922 178.116 Q100.922 185.222 102.728 188.787 Q104.557 192.328 108.168 192.328 Q111.802 192.328 113.608 188.787 Q115.436 185.222 115.436 178.116 Q115.436 170.986 113.608 167.444 Q111.802 163.88 108.168 163.88 M108.168 160.176 Q113.978 160.176 117.033 164.782 Q120.112 169.366 120.112 178.116 Q120.112 186.842 117.033 191.449 Q113.978 196.032 108.168 196.032 Q102.358 196.032 99.2789 191.449 Q96.2234 186.842 96.2234 178.116 Q96.2234 169.366 99.2789 164.782 Q102.358 160.176 108.168 160.176 Z\" fill=\"#000000\" fill-rule=\"nonzero\" fill-opacity=\"1\" /><path clip-path=\"url(#clip080)\" d=\"M138.33 163.88 Q134.719 163.88 132.89 167.444 Q131.084 170.986 131.084 178.116 Q131.084 185.222 132.89 188.787 Q134.719 192.328 138.33 192.328 Q141.964 192.328 143.769 188.787 Q145.598 185.222 145.598 178.116 Q145.598 170.986 143.769 167.444 Q141.964 163.88 138.33 163.88 M138.33 160.176 Q144.14 160.176 147.195 164.782 Q150.274 169.366 150.274 178.116 Q150.274 186.842 147.195 191.449 Q144.14 196.032 138.33 196.032 Q132.519 196.032 129.441 191.449 Q126.385 186.842 126.385 178.116 Q126.385 169.366 129.441 164.782 Q132.519 160.176 138.33 160.176 Z\" fill=\"#000000\" fill-rule=\"nonzero\" fill-opacity=\"1\" /><path clip-path=\"url(#clip082)\" d=\"M1912.24 76.5284 L1912.24 1486.45 L2233.6 1486.45 L2233.6 76.5284 L1912.24 76.5284 L1912.24 76.5284  Z\" fill=\"#009af9\" fill-rule=\"evenodd\" fill-opacity=\"1\"/>\n",
       "<polyline clip-path=\"url(#clip082)\" style=\"stroke:#000000; stroke-linecap:round; stroke-linejoin:round; stroke-width:4; stroke-opacity:1; fill:none\" points=\"1912.24,76.5284 1912.24,1486.45 2233.6,1486.45 2233.6,76.5284 1912.24,76.5284 \"/>\n",
       "<path clip-path=\"url(#clip082)\" d=\"M1510.54 68.0933 L1510.54 1486.45 L1831.9 1486.45 L1831.9 68.0933 L1510.54 68.0933 L1510.54 68.0933  Z\" fill=\"#009af9\" fill-rule=\"evenodd\" fill-opacity=\"1\"/>\n",
       "<polyline clip-path=\"url(#clip082)\" style=\"stroke:#000000; stroke-linecap:round; stroke-linejoin:round; stroke-width:4; stroke-opacity:1; fill:none\" points=\"1510.54,68.0933 1510.54,1486.45 1831.9,1486.45 1831.9,68.0933 1510.54,68.0933 \"/>\n",
       "<path clip-path=\"url(#clip082)\" d=\"M707.135 47.2441 L707.135 1486.45 L1028.49 1486.45 L1028.49 47.2441 L707.135 47.2441 L707.135 47.2441  Z\" fill=\"#009af9\" fill-rule=\"evenodd\" fill-opacity=\"1\"/>\n",
       "<polyline clip-path=\"url(#clip082)\" style=\"stroke:#000000; stroke-linecap:round; stroke-linejoin:round; stroke-width:4; stroke-opacity:1; fill:none\" points=\"707.135,47.2441 707.135,1486.45 1028.49,1486.45 1028.49,47.2441 707.135,47.2441 \"/>\n",
       "<path clip-path=\"url(#clip082)\" d=\"M1108.83 94.1657 L1108.83 1486.45 L1430.2 1486.45 L1430.2 94.1657 L1108.83 94.1657 L1108.83 94.1657  Z\" fill=\"#009af9\" fill-rule=\"evenodd\" fill-opacity=\"1\"/>\n",
       "<polyline clip-path=\"url(#clip082)\" style=\"stroke:#000000; stroke-linecap:round; stroke-linejoin:round; stroke-width:4; stroke-opacity:1; fill:none\" points=\"1108.83,94.1657 1108.83,1486.45 1430.2,1486.45 1430.2,94.1657 1108.83,94.1657 \"/>\n",
       "<path clip-path=\"url(#clip082)\" d=\"M305.434 87.711 L305.434 1486.45 L626.795 1486.45 L626.795 87.711 L305.434 87.711 L305.434 87.711  Z\" fill=\"#009af9\" fill-rule=\"evenodd\" fill-opacity=\"1\"/>\n",
       "<polyline clip-path=\"url(#clip082)\" style=\"stroke:#000000; stroke-linecap:round; stroke-linejoin:round; stroke-width:4; stroke-opacity:1; fill:none\" points=\"305.434,87.711 305.434,1486.45 626.795,1486.45 626.795,87.711 305.434,87.711 \"/>\n",
       "<circle clip-path=\"url(#clip082)\" style=\"fill:#009af9; stroke:none; fill-opacity:0\" cx=\"2072.92\" cy=\"76.5284\" r=\"2\"/>\n",
       "<circle clip-path=\"url(#clip082)\" style=\"fill:#009af9; stroke:none; fill-opacity:0\" cx=\"1671.22\" cy=\"68.0933\" r=\"2\"/>\n",
       "<circle clip-path=\"url(#clip082)\" style=\"fill:#009af9; stroke:none; fill-opacity:0\" cx=\"867.815\" cy=\"47.2441\" r=\"2\"/>\n",
       "<circle clip-path=\"url(#clip082)\" style=\"fill:#009af9; stroke:none; fill-opacity:0\" cx=\"1269.51\" cy=\"94.1657\" r=\"2\"/>\n",
       "<circle clip-path=\"url(#clip082)\" style=\"fill:#009af9; stroke:none; fill-opacity:0\" cx=\"466.114\" cy=\"87.711\" r=\"2\"/>\n",
       "<path clip-path=\"url(#clip080)\" d=\"M258.49 198.898 L916.293 198.898 L916.293 95.2176 L258.49 95.2176  Z\" fill=\"#ffffff\" fill-rule=\"evenodd\" fill-opacity=\"1\"/>\n",
       "<polyline clip-path=\"url(#clip080)\" style=\"stroke:#000000; stroke-linecap:round; stroke-linejoin:round; stroke-width:4; stroke-opacity:1; fill:none\" points=\"258.49,198.898 916.293,198.898 916.293,95.2176 258.49,95.2176 258.49,198.898 \"/>\n",
       "<path clip-path=\"url(#clip080)\" d=\"M282.562 167.794 L426.994 167.794 L426.994 126.322 L282.562 126.322 L282.562 167.794  Z\" fill=\"#009af9\" fill-rule=\"evenodd\" fill-opacity=\"1\"/>\n",
       "<polyline clip-path=\"url(#clip080)\" style=\"stroke:#000000; stroke-linecap:round; stroke-linejoin:round; stroke-width:4; stroke-opacity:1; fill:none\" points=\"282.562,167.794 426.994,167.794 426.994,126.322 282.562,126.322 282.562,167.794 \"/>\n",
       "<path clip-path=\"url(#clip080)\" d=\"M464.261 164.338 L451.066 129.778 L455.95 129.778 L466.899 158.875 L477.872 129.778 L482.733 129.778 L469.562 164.338 L464.261 164.338 Z\" fill=\"#000000\" fill-rule=\"nonzero\" fill-opacity=\"1\" /><path clip-path=\"url(#clip080)\" d=\"M493.96 141.398 Q490.534 141.398 488.543 144.083 Q486.552 146.745 486.552 151.398 Q486.552 156.051 488.52 158.736 Q490.51 161.398 493.96 161.398 Q497.362 161.398 499.353 158.713 Q501.344 156.027 501.344 151.398 Q501.344 146.791 499.353 144.106 Q497.362 141.398 493.96 141.398 M493.96 137.787 Q499.515 137.787 502.686 141.398 Q505.858 145.009 505.858 151.398 Q505.858 157.764 502.686 161.398 Q499.515 165.009 493.96 165.009 Q488.381 165.009 485.21 161.398 Q482.061 157.764 482.061 151.398 Q482.061 145.009 485.21 141.398 Q488.381 137.787 493.96 137.787 Z\" fill=\"#000000\" fill-rule=\"nonzero\" fill-opacity=\"1\" /><path clip-path=\"url(#clip080)\" d=\"M512.918 128.319 L517.177 128.319 L517.177 164.338 L512.918 164.338 L512.918 128.319 Z\" fill=\"#000000\" fill-rule=\"nonzero\" fill-opacity=\"1\" /><path clip-path=\"url(#clip080)\" d=\"M530.302 131.051 L530.302 138.412 L539.075 138.412 L539.075 141.722 L530.302 141.722 L530.302 155.796 Q530.302 158.967 531.158 159.87 Q532.038 160.773 534.7 160.773 L539.075 160.773 L539.075 164.338 L534.7 164.338 Q529.77 164.338 527.895 162.509 Q526.02 160.657 526.02 155.796 L526.02 141.722 L522.895 141.722 L522.895 138.412 L526.02 138.412 L526.02 131.051 L530.302 131.051 Z\" fill=\"#000000\" fill-rule=\"nonzero\" fill-opacity=\"1\" /><path clip-path=\"url(#clip080)\" d=\"M556.459 151.305 Q551.297 151.305 549.306 152.486 Q547.316 153.666 547.316 156.514 Q547.316 158.782 548.797 160.125 Q550.302 161.444 552.871 161.444 Q556.413 161.444 558.543 158.944 Q560.695 156.421 560.695 152.254 L560.695 151.305 L556.459 151.305 M564.955 149.546 L564.955 164.338 L560.695 164.338 L560.695 160.402 Q559.237 162.763 557.061 163.898 Q554.885 165.009 551.737 165.009 Q547.756 165.009 545.394 162.787 Q543.056 160.541 543.056 156.791 Q543.056 152.416 545.973 150.194 Q548.913 147.972 554.723 147.972 L560.695 147.972 L560.695 147.555 Q560.695 144.615 558.751 143.018 Q556.83 141.398 553.334 141.398 Q551.112 141.398 549.006 141.93 Q546.899 142.463 544.955 143.527 L544.955 139.592 Q547.293 138.69 549.492 138.25 Q551.691 137.787 553.774 137.787 Q559.399 137.787 562.177 140.703 Q564.955 143.62 564.955 149.546 Z\" fill=\"#000000\" fill-rule=\"nonzero\" fill-opacity=\"1\" /><path clip-path=\"url(#clip080)\" d=\"M590.788 151.074 Q590.788 146.444 588.866 143.898 Q586.968 141.352 583.519 141.352 Q580.093 141.352 578.172 143.898 Q576.274 146.444 576.274 151.074 Q576.274 155.68 578.172 158.226 Q580.093 160.773 583.519 160.773 Q586.968 160.773 588.866 158.226 Q590.788 155.68 590.788 151.074 M595.047 161.12 Q595.047 167.74 592.107 170.958 Q589.167 174.199 583.103 174.199 Q580.857 174.199 578.866 173.851 Q576.876 173.527 575.001 172.833 L575.001 168.689 Q576.876 169.708 578.704 170.194 Q580.533 170.68 582.431 170.68 Q586.621 170.68 588.704 168.481 Q590.788 166.305 590.788 161.884 L590.788 159.777 Q589.468 162.069 587.408 163.203 Q585.348 164.338 582.478 164.338 Q577.709 164.338 574.792 160.703 Q571.876 157.069 571.876 151.074 Q571.876 145.055 574.792 141.421 Q577.709 137.787 582.478 137.787 Q585.348 137.787 587.408 138.921 Q589.468 140.055 590.788 142.347 L590.788 138.412 L595.047 138.412 L595.047 161.12 Z\" fill=\"#000000\" fill-rule=\"nonzero\" fill-opacity=\"1\" /><path clip-path=\"url(#clip080)\" d=\"M625.996 150.31 L625.996 152.393 L606.413 152.393 Q606.69 156.791 609.051 159.106 Q611.436 161.398 615.672 161.398 Q618.126 161.398 620.417 160.796 Q622.732 160.194 625 158.99 L625 163.018 Q622.709 163.99 620.301 164.5 Q617.894 165.009 615.417 165.009 Q609.214 165.009 605.579 161.398 Q601.968 157.787 601.968 151.629 Q601.968 145.264 605.394 141.537 Q608.843 137.787 614.676 137.787 Q619.908 137.787 622.94 141.166 Q625.996 144.523 625.996 150.31 M621.737 149.06 Q621.69 145.565 619.769 143.481 Q617.871 141.398 614.723 141.398 Q611.158 141.398 609.005 143.412 Q606.876 145.426 606.552 149.083 L621.737 149.06 Z\" fill=\"#000000\" fill-rule=\"nonzero\" fill-opacity=\"1\" /><path clip-path=\"url(#clip080)\" d=\"M648.241 129.778 L655.209 129.778 L664.028 153.296 L672.894 129.778 L679.861 129.778 L679.861 164.338 L675.301 164.338 L675.301 133.99 L666.389 157.694 L661.69 157.694 L652.778 133.99 L652.778 164.338 L648.241 164.338 L648.241 129.778 Z\" fill=\"#000000\" fill-rule=\"nonzero\" fill-opacity=\"1\" /><path clip-path=\"url(#clip080)\" d=\"M700.741 151.305 Q695.579 151.305 693.588 152.486 Q691.597 153.666 691.597 156.514 Q691.597 158.782 693.079 160.125 Q694.583 161.444 697.153 161.444 Q700.695 161.444 702.824 158.944 Q704.977 156.421 704.977 152.254 L704.977 151.305 L700.741 151.305 M709.236 149.546 L709.236 164.338 L704.977 164.338 L704.977 160.402 Q703.519 162.763 701.343 163.898 Q699.167 165.009 696.019 165.009 Q692.037 165.009 689.676 162.787 Q687.338 160.541 687.338 156.791 Q687.338 152.416 690.255 150.194 Q693.195 147.972 699.005 147.972 L704.977 147.972 L704.977 147.555 Q704.977 144.615 703.032 143.018 Q701.111 141.398 697.616 141.398 Q695.394 141.398 693.287 141.93 Q691.181 142.463 689.236 143.527 L689.236 139.592 Q691.574 138.69 693.773 138.25 Q695.972 137.787 698.056 137.787 Q703.681 137.787 706.458 140.703 Q709.236 143.62 709.236 149.546 Z\" fill=\"#000000\" fill-rule=\"nonzero\" fill-opacity=\"1\" /><path clip-path=\"url(#clip080)\" d=\"M735.069 151.074 Q735.069 146.444 733.148 143.898 Q731.25 141.352 727.801 141.352 Q724.375 141.352 722.454 143.898 Q720.556 146.444 720.556 151.074 Q720.556 155.68 722.454 158.226 Q724.375 160.773 727.801 160.773 Q731.25 160.773 733.148 158.226 Q735.069 155.68 735.069 151.074 M739.329 161.12 Q739.329 167.74 736.389 170.958 Q733.449 174.199 727.384 174.199 Q725.139 174.199 723.148 173.851 Q721.157 173.527 719.282 172.833 L719.282 168.689 Q721.157 169.708 722.986 170.194 Q724.815 170.68 726.713 170.68 Q730.903 170.68 732.986 168.481 Q735.069 166.305 735.069 161.884 L735.069 159.777 Q733.75 162.069 731.69 163.203 Q729.63 164.338 726.759 164.338 Q721.991 164.338 719.074 160.703 Q716.157 157.069 716.157 151.074 Q716.157 145.055 719.074 141.421 Q721.991 137.787 726.759 137.787 Q729.63 137.787 731.69 138.921 Q733.75 140.055 735.069 142.347 L735.069 138.412 L739.329 138.412 L739.329 161.12 Z\" fill=\"#000000\" fill-rule=\"nonzero\" fill-opacity=\"1\" /><path clip-path=\"url(#clip080)\" d=\"M769.652 148.689 L769.652 164.338 L765.393 164.338 L765.393 148.828 Q765.393 145.148 763.958 143.319 Q762.523 141.49 759.653 141.49 Q756.203 141.49 754.213 143.69 Q752.222 145.889 752.222 149.685 L752.222 164.338 L747.94 164.338 L747.94 138.412 L752.222 138.412 L752.222 142.44 Q753.75 140.102 755.81 138.944 Q757.893 137.787 760.602 137.787 Q765.069 137.787 767.361 140.565 Q769.652 143.319 769.652 148.689 Z\" fill=\"#000000\" fill-rule=\"nonzero\" fill-opacity=\"1\" /><path clip-path=\"url(#clip080)\" d=\"M778.148 138.412 L782.407 138.412 L782.407 164.338 L778.148 164.338 L778.148 138.412 M778.148 128.319 L782.407 128.319 L782.407 133.713 L778.148 133.713 L778.148 128.319 Z\" fill=\"#000000\" fill-rule=\"nonzero\" fill-opacity=\"1\" /><path clip-path=\"url(#clip080)\" d=\"M795.532 131.051 L795.532 138.412 L804.305 138.412 L804.305 141.722 L795.532 141.722 L795.532 155.796 Q795.532 158.967 796.388 159.87 Q797.268 160.773 799.93 160.773 L804.305 160.773 L804.305 164.338 L799.93 164.338 Q795 164.338 793.125 162.509 Q791.25 160.657 791.25 155.796 L791.25 141.722 L788.125 141.722 L788.125 138.412 L791.25 138.412 L791.25 131.051 L795.532 131.051 Z\" fill=\"#000000\" fill-rule=\"nonzero\" fill-opacity=\"1\" /><path clip-path=\"url(#clip080)\" d=\"M809.467 154.106 L809.467 138.412 L813.726 138.412 L813.726 153.944 Q813.726 157.625 815.162 159.476 Q816.597 161.305 819.467 161.305 Q822.916 161.305 824.907 159.106 Q826.921 156.907 826.921 153.111 L826.921 138.412 L831.18 138.412 L831.18 164.338 L826.921 164.338 L826.921 160.356 Q825.37 162.717 823.31 163.875 Q821.273 165.009 818.564 165.009 Q814.097 165.009 811.782 162.231 Q809.467 159.453 809.467 154.106 M820.185 137.787 L820.185 137.787 Z\" fill=\"#000000\" fill-rule=\"nonzero\" fill-opacity=\"1\" /><path clip-path=\"url(#clip080)\" d=\"M857.013 142.347 L857.013 128.319 L861.272 128.319 L861.272 164.338 L857.013 164.338 L857.013 160.449 Q855.671 162.763 853.61 163.898 Q851.573 165.009 848.703 165.009 Q844.004 165.009 841.041 161.259 Q838.101 157.509 838.101 151.398 Q838.101 145.287 841.041 141.537 Q844.004 137.787 848.703 137.787 Q851.573 137.787 853.61 138.921 Q855.671 140.032 857.013 142.347 M842.499 151.398 Q842.499 156.097 844.421 158.782 Q846.365 161.444 849.745 161.444 Q853.124 161.444 855.069 158.782 Q857.013 156.097 857.013 151.398 Q857.013 146.699 855.069 144.037 Q853.124 141.352 849.745 141.352 Q846.365 141.352 844.421 144.037 Q842.499 146.699 842.499 151.398 Z\" fill=\"#000000\" fill-rule=\"nonzero\" fill-opacity=\"1\" /><path clip-path=\"url(#clip080)\" d=\"M892.221 150.31 L892.221 152.393 L872.638 152.393 Q872.916 156.791 875.277 159.106 Q877.661 161.398 881.897 161.398 Q884.351 161.398 886.643 160.796 Q888.957 160.194 891.226 158.99 L891.226 163.018 Q888.934 163.99 886.527 164.5 Q884.119 165.009 881.643 165.009 Q875.439 165.009 871.805 161.398 Q868.194 157.787 868.194 151.629 Q868.194 145.264 871.62 141.537 Q875.069 137.787 880.902 137.787 Q886.133 137.787 889.166 141.166 Q892.221 144.523 892.221 150.31 M887.962 149.06 Q887.916 145.565 885.994 143.481 Q884.096 141.398 880.948 141.398 Q877.383 141.398 875.231 143.412 Q873.101 145.426 872.777 149.083 L887.962 149.06 Z\" fill=\"#000000\" fill-rule=\"nonzero\" fill-opacity=\"1\" /></svg>\n"
      ]
     },
     "execution_count": 25,
     "metadata": {},
     "output_type": "execute_result"
    }
   ],
   "source": [
    "# Plot Voltage Profile\n",
    "plot(title=\"Voltage Magnitude Profile\", xlabel=\"Bus\", ylabel=\"Voltage Magnitude (pu)\")\n",
    "bar(bus_indices, VM, label=\"Voltage Magnitude\", legend=:topleft)"
   ]
  },
  {
   "cell_type": "code",
   "execution_count": 26,
   "id": "dee9b5b7-16bd-407a-afbf-ed23f763c868",
   "metadata": {},
   "outputs": [
    {
     "data": {
      "text/html": [
       "<div><div style = \"float: left;\"><span>5×2 DataFrame</span></div><div style = \"clear: both;\"></div></div><div class = \"data-frame\" style = \"overflow-x: scroll;\"><table class = \"data-frame\" style = \"margin-bottom: 6px;\"><thead><tr class = \"header\"><th class = \"rowNumber\" style = \"font-weight: bold; text-align: right;\">Row</th><th style = \"text-align: left;\">Voltage_Magnitude</th><th style = \"text-align: left;\">Voltage_Angle</th></tr><tr class = \"subheader headerLastRow\"><th class = \"rowNumber\" style = \"font-weight: bold; text-align: right;\"></th><th title = \"Float64\" style = \"text-align: left;\">Float64</th><th title = \"Float64\" style = \"text-align: left;\">Float64</th></tr></thead><tbody><tr><td class = \"rowNumber\" style = \"font-weight: bold; text-align: right;\">1</td><td style = \"text-align: right;\">1.07762</td><td style = \"text-align: right;\">0.0489352</td></tr><tr><td class = \"rowNumber\" style = \"font-weight: bold; text-align: right;\">2</td><td style = \"text-align: right;\">1.08406</td><td style = \"text-align: right;\">-0.012822</td></tr><tr><td class = \"rowNumber\" style = \"font-weight: bold; text-align: right;\">3</td><td style = \"text-align: right;\">1.1</td><td style = \"text-align: right;\">-0.00976905</td></tr><tr><td class = \"rowNumber\" style = \"font-weight: bold; text-align: right;\">4</td><td style = \"text-align: right;\">1.06414</td><td style = \"text-align: right;\">4.06597e-35</td></tr><tr><td class = \"rowNumber\" style = \"font-weight: bold; text-align: right;\">5</td><td style = \"text-align: right;\">1.06907</td><td style = \"text-align: right;\">0.0626634</td></tr></tbody></table></div>"
      ],
      "text/latex": [
       "\\begin{tabular}{r|cc}\n",
       "\t& Voltage\\_Magnitude & Voltage\\_Angle\\\\\n",
       "\t\\hline\n",
       "\t& Float64 & Float64\\\\\n",
       "\t\\hline\n",
       "\t1 & 1.07762 & 0.0489352 \\\\\n",
       "\t2 & 1.08406 & -0.012822 \\\\\n",
       "\t3 & 1.1 & -0.00976905 \\\\\n",
       "\t4 & 1.06414 & 4.06597e-35 \\\\\n",
       "\t5 & 1.06907 & 0.0626634 \\\\\n",
       "\\end{tabular}\n"
      ],
      "text/plain": [
       "\u001b[1m5×2 DataFrame\u001b[0m\n",
       "\u001b[1m Row \u001b[0m│\u001b[1m Voltage_Magnitude \u001b[0m\u001b[1m Voltage_Angle \u001b[0m\n",
       "     │\u001b[90m Float64           \u001b[0m\u001b[90m Float64       \u001b[0m\n",
       "─────┼──────────────────────────────────\n",
       "   1 │           1.07762    0.0489352\n",
       "   2 │           1.08406   -0.012822\n",
       "   3 │           1.1       -0.00976905\n",
       "   4 │           1.06414    4.06597e-35\n",
       "   5 │           1.06907    0.0626634"
      ]
     },
     "metadata": {},
     "output_type": "display_data"
    }
   ],
   "source": [
    "# Create a DataFrame\n",
    "df = DataFrame( Voltage_Magnitude = VM, Voltage_Angle = VA)\n",
    "# Display the DataFrame\n",
    "display(df)"
   ]
  },
  {
   "cell_type": "code",
   "execution_count": 27,
   "id": "0dd8338a-d0b8-4d7a-abd3-dfc29325ff5e",
   "metadata": {},
   "outputs": [
    {
     "data": {
      "text/html": [
       "<div><div style = \"float: left;\"><span>5×1 DataFrame</span></div><div style = \"clear: both;\"></div></div><div class = \"data-frame\" style = \"overflow-x: scroll;\"><table class = \"data-frame\" style = \"margin-bottom: 6px;\"><thead><tr class = \"header\"><th class = \"rowNumber\" style = \"font-weight: bold; text-align: right;\">Row</th><th style = \"text-align: left;\">Active_Power</th></tr><tr class = \"subheader headerLastRow\"><th class = \"rowNumber\" style = \"font-weight: bold; text-align: right;\"></th><th title = \"Float64\" style = \"text-align: left;\">Float64</th></tr></thead><tbody><tr><td class = \"rowNumber\" style = \"font-weight: bold; text-align: right;\">1</td><td style = \"text-align: right;\">40.0</td></tr><tr><td class = \"rowNumber\" style = \"font-weight: bold; text-align: right;\">2</td><td style = \"text-align: right;\">170.0</td></tr><tr><td class = \"rowNumber\" style = \"font-weight: bold; text-align: right;\">3</td><td style = \"text-align: right;\">324.498</td></tr><tr><td class = \"rowNumber\" style = \"font-weight: bold; text-align: right;\">4</td><td style = \"text-align: right;\">-6.51851e-7</td></tr><tr><td class = \"rowNumber\" style = \"font-weight: bold; text-align: right;\">5</td><td style = \"text-align: right;\">470.694</td></tr></tbody></table></div>"
      ],
      "text/latex": [
       "\\begin{tabular}{r|c}\n",
       "\t& Active\\_Power\\\\\n",
       "\t\\hline\n",
       "\t& Float64\\\\\n",
       "\t\\hline\n",
       "\t1 & 40.0 \\\\\n",
       "\t2 & 170.0 \\\\\n",
       "\t3 & 324.498 \\\\\n",
       "\t4 & -6.51851e-7 \\\\\n",
       "\t5 & 470.694 \\\\\n",
       "\\end{tabular}\n"
      ],
      "text/plain": [
       "\u001b[1m5×1 DataFrame\u001b[0m\n",
       "\u001b[1m Row \u001b[0m│\u001b[1m Active_Power \u001b[0m\n",
       "     │\u001b[90m Float64      \u001b[0m\n",
       "─────┼──────────────\n",
       "   1 │  40.0\n",
       "   2 │ 170.0\n",
       "   3 │ 324.498\n",
       "   4 │  -6.51851e-7\n",
       "   5 │ 470.694"
      ]
     },
     "metadata": {},
     "output_type": "display_data"
    }
   ],
   "source": [
    "# Create a DataFrame\n",
    "df = DataFrame(Active_Power = PG*ref[:baseMVA])\n",
    "# Display the DataFrame\n",
    "display(df)"
   ]
  },
  {
   "cell_type": "code",
   "execution_count": 28,
   "id": "c35b0afe-c1a8-4248-abc2-bf4999efecf5",
   "metadata": {},
   "outputs": [
    {
     "data": {
      "text/html": [
       "<div><div style = \"float: left;\"><span>12×3 DataFrame</span></div><div style = \"clear: both;\"></div></div><div class = \"data-frame\" style = \"overflow-x: scroll;\"><table class = \"data-frame\" style = \"margin-bottom: 6px;\"><thead><tr class = \"header\"><th class = \"rowNumber\" style = \"font-weight: bold; text-align: right;\">Row</th><th style = \"text-align: left;\">branch</th><th style = \"text-align: left;\">Active_Power_flow</th><th style = \"text-align: left;\">Reactive_Power_flow</th></tr><tr class = \"subheader headerLastRow\"><th class = \"rowNumber\" style = \"font-weight: bold; text-align: right;\"></th><th title = \"Tuple{Int64, Int64, Int64}\" style = \"text-align: left;\">Tuple…</th><th title = \"Float64\" style = \"text-align: left;\">Float64</th><th title = \"Float64\" style = \"text-align: left;\">Float64</th></tr></thead><tbody><tr><td class = \"rowNumber\" style = \"font-weight: bold; text-align: right;\">1</td><td style = \"text-align: left;\">(5, 3, 4)</td><td style = \"text-align: right;\">-24.9508</td><td style = \"text-align: right;\">135.1</td></tr><tr><td class = \"rowNumber\" style = \"font-weight: bold; text-align: right;\">2</td><td style = \"text-align: left;\">(4, 2, 3)</td><td style = \"text-align: right;\">-49.2064</td><td style = \"text-align: right;\">-156.068</td></tr><tr><td class = \"rowNumber\" style = \"font-weight: bold; text-align: right;\">3</td><td style = \"text-align: left;\">(6, 4, 5)</td><td style = \"text-align: right;\">-238.502</td><td style = \"text-align: right;\">13.3104</td></tr><tr><td class = \"rowNumber\" style = \"font-weight: bold; text-align: right;\">4</td><td style = \"text-align: left;\">(2, 1, 4)</td><td style = \"text-align: right;\">187.869</td><td style = \"text-align: right;\">33.1319</td></tr><tr><td class = \"rowNumber\" style = \"font-weight: bold; text-align: right;\">5</td><td style = \"text-align: left;\">(3, 1, 5)</td><td style = \"text-align: right;\">-230.246</td><td style = \"text-align: right;\">166.818</td></tr><tr><td class = \"rowNumber\" style = \"font-weight: bold; text-align: right;\">6</td><td style = \"text-align: left;\">(1, 1, 2)</td><td style = \"text-align: right;\">252.378</td><td style = \"text-align: right;\">-42.45</td></tr><tr><td class = \"rowNumber\" style = \"font-weight: bold; text-align: right;\">7</td><td style = \"text-align: left;\">(5, 4, 3)</td><td style = \"text-align: right;\">25.4168</td><td style = \"text-align: right;\">-131.23</td></tr><tr><td class = \"rowNumber\" style = \"font-weight: bold; text-align: right;\">8</td><td style = \"text-align: left;\">(4, 3, 2)</td><td style = \"text-align: right;\">49.4493</td><td style = \"text-align: right;\">156.29</td></tr><tr><td class = \"rowNumber\" style = \"font-weight: bold; text-align: right;\">9</td><td style = \"text-align: left;\">(6, 5, 4)</td><td style = \"text-align: right;\">239.998</td><td style = \"text-align: right;\">0.891135</td></tr><tr><td class = \"rowNumber\" style = \"font-weight: bold; text-align: right;\">10</td><td style = \"text-align: left;\">(2, 4, 1)</td><td style = \"text-align: right;\">-186.915</td><td style = \"text-align: right;\">-24.3529</td></tr><tr><td class = \"rowNumber\" style = \"font-weight: bold; text-align: right;\">11</td><td style = \"text-align: left;\">(3, 5, 1)</td><td style = \"text-align: right;\">230.695</td><td style = \"text-align: right;\">-165.931</td></tr><tr><td class = \"rowNumber\" style = \"font-weight: bold; text-align: right;\">12</td><td style = \"text-align: left;\">(1, 2, 1)</td><td style = \"text-align: right;\">-250.794</td><td style = \"text-align: right;\">57.4585</td></tr></tbody></table></div>"
      ],
      "text/latex": [
       "\\begin{tabular}{r|ccc}\n",
       "\t& branch & Active\\_Power\\_flow & Reactive\\_Power\\_flow\\\\\n",
       "\t\\hline\n",
       "\t& Tuple… & Float64 & Float64\\\\\n",
       "\t\\hline\n",
       "\t1 & (5, 3, 4) & -24.9508 & 135.1 \\\\\n",
       "\t2 & (4, 2, 3) & -49.2064 & -156.068 \\\\\n",
       "\t3 & (6, 4, 5) & -238.502 & 13.3104 \\\\\n",
       "\t4 & (2, 1, 4) & 187.869 & 33.1319 \\\\\n",
       "\t5 & (3, 1, 5) & -230.246 & 166.818 \\\\\n",
       "\t6 & (1, 1, 2) & 252.378 & -42.45 \\\\\n",
       "\t7 & (5, 4, 3) & 25.4168 & -131.23 \\\\\n",
       "\t8 & (4, 3, 2) & 49.4493 & 156.29 \\\\\n",
       "\t9 & (6, 5, 4) & 239.998 & 0.891135 \\\\\n",
       "\t10 & (2, 4, 1) & -186.915 & -24.3529 \\\\\n",
       "\t11 & (3, 5, 1) & 230.695 & -165.931 \\\\\n",
       "\t12 & (1, 2, 1) & -250.794 & 57.4585 \\\\\n",
       "\\end{tabular}\n"
      ],
      "text/plain": [
       "\u001b[1m12×3 DataFrame\u001b[0m\n",
       "\u001b[1m Row \u001b[0m│\u001b[1m branch    \u001b[0m\u001b[1m Active_Power_flow \u001b[0m\u001b[1m Reactive_Power_flow \u001b[0m\n",
       "     │\u001b[90m Tuple…    \u001b[0m\u001b[90m Float64           \u001b[0m\u001b[90m Float64             \u001b[0m\n",
       "─────┼───────────────────────────────────────────────────\n",
       "   1 │ (5, 3, 4)           -24.9508           135.1\n",
       "   2 │ (4, 2, 3)           -49.2064          -156.068\n",
       "   3 │ (6, 4, 5)          -238.502             13.3104\n",
       "   4 │ (2, 1, 4)           187.869             33.1319\n",
       "   5 │ (3, 1, 5)          -230.246            166.818\n",
       "   6 │ (1, 1, 2)           252.378            -42.45\n",
       "   7 │ (5, 4, 3)            25.4168          -131.23\n",
       "   8 │ (4, 3, 2)            49.4493           156.29\n",
       "   9 │ (6, 5, 4)           239.998              0.891135\n",
       "  10 │ (2, 4, 1)          -186.915            -24.3529\n",
       "  11 │ (3, 5, 1)           230.695           -165.931\n",
       "  12 │ (1, 2, 1)          -250.794             57.4585"
      ]
     },
     "metadata": {},
     "output_type": "display_data"
    }
   ],
   "source": [
    "# Create a DataFrame\n",
    "df = DataFrame(branch = branch_indices,Active_Power_flow = PB*ref[:baseMVA],Reactive_Power_flow = QB*ref[:baseMVA])\n",
    "# Display the DataFrame\n",
    "display(df)"
   ]
  },
  {
   "cell_type": "code",
   "execution_count": null,
   "id": "c3cb7274-473a-4d1e-afea-487885c21589",
   "metadata": {},
   "outputs": [],
   "source": [
    "# Plot Voltage Profile\n",
    "plot(title=\"Voltage Magnitude Profile\", xlabel=\"Bus\", ylabel=\"Voltage Magnitude (pu)\")\n",
    "bar(bus_indices, VA, label=\"Voltage Angle\", legend=:topleft)"
   ]
  },
  {
   "cell_type": "code",
   "execution_count": null,
   "id": "8c724017-73b9-491e-83f5-ea9db445a574",
   "metadata": {},
   "outputs": [],
   "source": []
  },
  {
   "cell_type": "code",
   "execution_count": null,
   "id": "7012ded2-7add-4aa3-8c8a-8b08638aac03",
   "metadata": {},
   "outputs": [],
   "source": []
  }
 ],
 "metadata": {
  "kernelspec": {
   "display_name": "Julia 1.9.3",
   "language": "julia",
   "name": "julia-1.9"
  },
  "language_info": {
   "file_extension": ".jl",
   "mimetype": "application/julia",
   "name": "julia",
   "version": "1.9.3"
  }
 },
 "nbformat": 4,
 "nbformat_minor": 5
}
