{
 "cells": [
  {
   "cell_type": "code",
   "execution_count": 79,
   "id": "3460a3c6-3b65-43c3-ad41-91962a994723",
   "metadata": {},
   "outputs": [
    {
     "name": "stderr",
     "output_type": "stream",
     "text": [
      "\u001b[32m\u001b[1m   Resolving\u001b[22m\u001b[39m package versions...\n",
      "\u001b[32m\u001b[1m  No Changes\u001b[22m\u001b[39m to `C:\\Users\\mansi\\.julia\\environments\\v1.9\\Project.toml`\n",
      "\u001b[32m\u001b[1m  No Changes\u001b[22m\u001b[39m to `C:\\Users\\mansi\\.julia\\environments\\v1.9\\Manifest.toml`\n",
      "\u001b[32m\u001b[1m   Resolving\u001b[22m\u001b[39m package versions...\n",
      "\u001b[32m\u001b[1m  No Changes\u001b[22m\u001b[39m to `C:\\Users\\mansi\\.julia\\environments\\v1.9\\Project.toml`\n",
      "\u001b[32m\u001b[1m  No Changes\u001b[22m\u001b[39m to `C:\\Users\\mansi\\.julia\\environments\\v1.9\\Manifest.toml`\n",
      "\u001b[32m\u001b[1m   Resolving\u001b[22m\u001b[39m package versions...\n",
      "\u001b[32m\u001b[1m  No Changes\u001b[22m\u001b[39m to `C:\\Users\\mansi\\.julia\\environments\\v1.9\\Project.toml`\n",
      "\u001b[32m\u001b[1m  No Changes\u001b[22m\u001b[39m to `C:\\Users\\mansi\\.julia\\environments\\v1.9\\Manifest.toml`\n",
      "\u001b[32m\u001b[1m   Resolving\u001b[22m\u001b[39m package versions...\n",
      "\u001b[32m\u001b[1m  No Changes\u001b[22m\u001b[39m to `C:\\Users\\mansi\\.julia\\environments\\v1.9\\Project.toml`\n",
      "\u001b[32m\u001b[1m  No Changes\u001b[22m\u001b[39m to `C:\\Users\\mansi\\.julia\\environments\\v1.9\\Manifest.toml`\n",
      "\u001b[32m\u001b[1m   Resolving\u001b[22m\u001b[39m package versions...\n",
      "\u001b[32m\u001b[1m  No Changes\u001b[22m\u001b[39m to `C:\\Users\\mansi\\.julia\\environments\\v1.9\\Project.toml`\n",
      "\u001b[32m\u001b[1m  No Changes\u001b[22m\u001b[39m to `C:\\Users\\mansi\\.julia\\environments\\v1.9\\Manifest.toml`\n"
     ]
    }
   ],
   "source": [
    "using Pkg\n",
    "Pkg.add(\"JuMP\")\n",
    "Pkg.add(\"PowerModels\")\n",
    "Pkg.add(\"Ipopt\")\n",
    "Pkg.add(\"GLPK\")\n",
    "Pkg.add(\"DataFrames\")"
   ]
  },
  {
   "cell_type": "code",
   "execution_count": 13,
   "id": "62c8c2ac-e755-4bf0-8f10-3c9606a9a77b",
   "metadata": {
    "scrolled": true
   },
   "outputs": [
    {
     "name": "stdout",
     "output_type": "stream",
     "text": [
      "\u001b[35m[warn | PowerModels]: this code only supports angmin values in -90 deg. to 90 deg., tightening the value on branch 8 from -360.0 to -60.0 deg.\u001b[39m\n",
      "\u001b[35m[warn | PowerModels]: this code only supports angmax values in -90 deg. to 90 deg., tightening the value on branch 8 from 360.0 to 60.0 deg.\u001b[39m\n",
      "\u001b[35m[warn | PowerModels]: this code only supports angmin values in -90 deg. to 90 deg., tightening the value on branch 4 from -360.0 to -60.0 deg.\u001b[39m\n",
      "\u001b[35m[warn | PowerModels]: this code only supports angmax values in -90 deg. to 90 deg., tightening the value on branch 4 from 360.0 to 60.0 deg.\u001b[39m\n",
      "\u001b[35m[warn | PowerModels]: this code only supports angmin values in -90 deg. to 90 deg., tightening the value on branch 1 from -360.0 to -60.0 deg.\u001b[39m\n",
      "\u001b[35m[warn | PowerModels]: this code only supports angmax values in -90 deg. to 90 deg., tightening the value on branch 1 from 360.0 to 60.0 deg.\u001b[39m\n",
      "\u001b[35m[warn | PowerModels]: this code only supports angmin values in -90 deg. to 90 deg., tightening the value on branch 5 from -360.0 to -60.0 deg.\u001b[39m\n",
      "\u001b[35m[warn | PowerModels]: this code only supports angmax values in -90 deg. to 90 deg., tightening the value on branch 5 from 360.0 to 60.0 deg.\u001b[39m\n",
      "\u001b[35m[warn | PowerModels]: this code only supports angmin values in -90 deg. to 90 deg., tightening the value on branch 2 from -360.0 to -60.0 deg.\u001b[39m\n",
      "\u001b[35m[warn | PowerModels]: this code only supports angmax values in -90 deg. to 90 deg., tightening the value on branch 2 from 360.0 to 60.0 deg.\u001b[39m\n",
      "\u001b[35m[warn | PowerModels]: this code only supports angmin values in -90 deg. to 90 deg., tightening the value on branch 6 from -360.0 to -60.0 deg.\u001b[39m\n",
      "\u001b[35m[warn | PowerModels]: this code only supports angmax values in -90 deg. to 90 deg., tightening the value on branch 6 from 360.0 to 60.0 deg.\u001b[39m\n",
      "\u001b[35m[warn | PowerModels]: this code only supports angmin values in -90 deg. to 90 deg., tightening the value on branch 7 from -360.0 to -60.0 deg.\u001b[39m\n",
      "\u001b[35m[warn | PowerModels]: this code only supports angmax values in -90 deg. to 90 deg., tightening the value on branch 7 from 360.0 to 60.0 deg.\u001b[39m\n",
      "\u001b[35m[warn | PowerModels]: this code only supports angmin values in -90 deg. to 90 deg., tightening the value on branch 9 from -360.0 to -60.0 deg.\u001b[39m\n",
      "\u001b[35m[warn | PowerModels]: this code only supports angmax values in -90 deg. to 90 deg., tightening the value on branch 9 from 360.0 to 60.0 deg.\u001b[39m\n",
      "\u001b[35m[warn | PowerModels]: this code only supports angmin values in -90 deg. to 90 deg., tightening the value on branch 3 from -360.0 to -60.0 deg.\u001b[39m\n",
      "\u001b[35m[warn | PowerModels]: this code only supports angmax values in -90 deg. to 90 deg., tightening the value on branch 3 from 360.0 to 60.0 deg.\u001b[39m\n",
      "\u001b[35m[warn | PowerModels]: the voltage setpoint on generator 1 does not match the value at bus 1\u001b[39m\n",
      "\u001b[35m[warn | PowerModels]: the voltage setpoint on generator 2 does not match the value at bus 2\u001b[39m\n",
      "\u001b[35m[warn | PowerModels]: the voltage setpoint on generator 3 does not match the value at bus 3\u001b[39m\n",
      "  0.007983 seconds (603 allocations: 27.562 KiB)\n",
      "The cost of generation is 5216.026532170461.\n",
      "Economic Dispatch Results:\n",
      "The solver termination status is LOCALLY_SOLVED\n",
      "Generator 2: Active Power Generation = 134.37758428386962 MW\n",
      "Generator 3: Active Power Generation = 94.05791562585229 MW\n",
      "Generator 1: Active Power Generation = 86.56449694703169 MW\n"
     ]
    }
   ],
   "source": [
    "include(\"C:/Users/mansi/Dropbox/6.7201_optimization_methods/Project/ac-ED.jl\")\n"
   ]
  },
  {
   "cell_type": "code",
   "execution_count": 14,
   "id": "5a2fd184-8a92-4164-9914-af393ce5d48f",
   "metadata": {},
   "outputs": [
    {
     "name": "stderr",
     "output_type": "stream",
     "text": [
      "\u001b[36m\u001b[1m[ \u001b[22m\u001b[39m\u001b[36m\u001b[1mInfo: \u001b[22m\u001b[39mPrecompiling Plots [91a5bcdd-55d7-5caf-9e0b-520d859cae80]\n",
      "\u001b[36m\u001b[1m[ \u001b[22m\u001b[39m\u001b[36m\u001b[1mInfo: \u001b[22m\u001b[39mPrecompiling IJuliaExt [2f4121a4-3b3a-5ce6-9c5e-1f2673ce168a]\n",
      "\u001b[36m\u001b[1m[ \u001b[22m\u001b[39m\u001b[36m\u001b[1mInfo: \u001b[22m\u001b[39mPrecompiling DataFrames [a93c6f00-e57d-5684-b7b6-d8193f3e46c0]\n"
     ]
    },
    {
     "data": {
      "text/plain": [
       "1-dimensional DenseAxisArray{Float64,1,...} with index sets:\n",
       "    Dimension 1, [2, 3, 1]\n",
       "And data, a 3-element Vector{Float64}:\n",
       " 1.343775842838696\n",
       " 0.9405791562585228\n",
       " 0.8656449694703169"
      ]
     },
     "execution_count": 14,
     "metadata": {},
     "output_type": "execute_result"
    }
   ],
   "source": [
    "using Plots\n",
    "using DataFrames\n",
    "# Extract solution values\n",
    "pg_values = value.(pg_ed)"
   ]
  },
  {
   "cell_type": "code",
   "execution_count": 15,
   "id": "b1364edf-d1ab-415f-96d5-e606dc5b03c1",
   "metadata": {},
   "outputs": [],
   "source": [
    "# Extract indices from DenseAxisArray\n",
    "gen_indices = collect(axes(pg_values)[1]);"
   ]
  },
  {
   "cell_type": "code",
   "execution_count": 16,
   "id": "647b847f-e116-4e02-b52a-24e3f99294db",
   "metadata": {},
   "outputs": [],
   "source": [
    "PG = zeros(length(gen_indices));\n",
    "for i = 1:length(gen_indices)\n",
    "PG[gen_indices[i]]  = pg_values[gen_indices[i]]\n",
    "end"
   ]
  },
  {
   "cell_type": "code",
   "execution_count": 17,
   "id": "0dd8338a-d0b8-4d7a-abd3-dfc29325ff5e",
   "metadata": {},
   "outputs": [
    {
     "data": {
      "text/html": [
       "<div><div style = \"float: left;\"><span>3×1 DataFrame</span></div><div style = \"clear: both;\"></div></div><div class = \"data-frame\" style = \"overflow-x: scroll;\"><table class = \"data-frame\" style = \"margin-bottom: 6px;\"><thead><tr class = \"header\"><th class = \"rowNumber\" style = \"font-weight: bold; text-align: right;\">Row</th><th style = \"text-align: left;\">Active_Power</th></tr><tr class = \"subheader headerLastRow\"><th class = \"rowNumber\" style = \"font-weight: bold; text-align: right;\"></th><th title = \"Float64\" style = \"text-align: left;\">Float64</th></tr></thead><tbody><tr><td class = \"rowNumber\" style = \"font-weight: bold; text-align: right;\">1</td><td style = \"text-align: right;\">86.5645</td></tr><tr><td class = \"rowNumber\" style = \"font-weight: bold; text-align: right;\">2</td><td style = \"text-align: right;\">134.378</td></tr><tr><td class = \"rowNumber\" style = \"font-weight: bold; text-align: right;\">3</td><td style = \"text-align: right;\">94.0579</td></tr></tbody></table></div>"
      ],
      "text/latex": [
       "\\begin{tabular}{r|c}\n",
       "\t& Active\\_Power\\\\\n",
       "\t\\hline\n",
       "\t& Float64\\\\\n",
       "\t\\hline\n",
       "\t1 & 86.5645 \\\\\n",
       "\t2 & 134.378 \\\\\n",
       "\t3 & 94.0579 \\\\\n",
       "\\end{tabular}\n"
      ],
      "text/plain": [
       "\u001b[1m3×1 DataFrame\u001b[0m\n",
       "\u001b[1m Row \u001b[0m│\u001b[1m Active_Power \u001b[0m\n",
       "     │\u001b[90m Float64      \u001b[0m\n",
       "─────┼──────────────\n",
       "   1 │      86.5645\n",
       "   2 │     134.378\n",
       "   3 │      94.0579"
      ]
     },
     "metadata": {},
     "output_type": "display_data"
    }
   ],
   "source": [
    "# Create a DataFrame\n",
    "df = DataFrame(Active_Power = PG*ref[:baseMVA])\n",
    "# Display the DataFrame\n",
    "display(df)"
   ]
  },
  {
   "cell_type": "code",
   "execution_count": 18,
   "id": "c35b0afe-c1a8-4248-abc2-bf4999efecf5",
   "metadata": {},
   "outputs": [
    {
     "ename": "LoadError",
     "evalue": "UndefVarError: `PB` not defined",
     "output_type": "error",
     "traceback": [
      "UndefVarError: `PB` not defined",
      "",
      "Stacktrace:",
      " [1] top-level scope",
      "   @ In[18]:2"
     ]
    }
   ],
   "source": [
    "# Create a DataFrame\n",
    "df = DataFrame(branch = branch_indices,Active_Power_flow = PB*ref[:baseMVA],Reactive_Power_flow = QB*ref[:baseMVA])\n",
    "# Display the DataFrame\n",
    "display(df)"
   ]
  },
  {
   "cell_type": "code",
   "execution_count": 19,
   "id": "c3cb7274-473a-4d1e-afea-487885c21589",
   "metadata": {},
   "outputs": [
    {
     "ename": "LoadError",
     "evalue": "UndefVarError: `bus_indices` not defined",
     "output_type": "error",
     "traceback": [
      "UndefVarError: `bus_indices` not defined",
      "",
      "Stacktrace:",
      " [1] top-level scope",
      "   @ In[19]:3"
     ]
    }
   ],
   "source": [
    "# Plot Voltage Profile\n",
    "plot(title=\"Voltage Magnitude Profile\", xlabel=\"Bus\", ylabel=\"Voltage Magnitude (pu)\")\n",
    "bar(bus_indices, VA, label=\"Voltage Angle\", legend=:topleft)"
   ]
  },
  {
   "cell_type": "code",
   "execution_count": 8,
   "id": "8c724017-73b9-491e-83f5-ea9db445a574",
   "metadata": {},
   "outputs": [
    {
     "data": {
      "text/plain": [
       "Dict{Int64, Float64} with 14 entries:\n",
       "  5  => 0.076\n",
       "  7  => 0.0\n",
       "  12 => 0.061\n",
       "  8  => 0.0\n",
       "  1  => 0.0\n",
       "  4  => 0.478\n",
       "  6  => 0.112\n",
       "  13 => 0.135\n",
       "  11 => 0.035\n",
       "  2  => 0.217\n",
       "  10 => 0.09\n",
       "  9  => 0.295\n",
       "  14 => 0.149\n",
       "  3  => 0.942"
      ]
     },
     "execution_count": 8,
     "metadata": {},
     "output_type": "execute_result"
    }
   ],
   "source": [
    "demand"
   ]
  },
  {
   "cell_type": "code",
   "execution_count": 21,
   "id": "c9a9703f-f2cb-4969-9478-d777629448d5",
   "metadata": {},
   "outputs": [
    {
     "data": {
      "text/latex": [
       "$$ 850.0000000000001 pg\\_ed_{2}^2 + 1225 pg\\_ed_{3}^2 + 1100 pg\\_ed_{1}^2 + 120 pg\\_ed_{2} + 100 pg\\_ed_{3} + 500 pg\\_ed_{1} + 1085 $$"
      ],
      "text/plain": [
       "850.0000000000001 pg_ed[2]² + 1225 pg_ed[3]² + 1100 pg_ed[1]² + 120 pg_ed[2] + 100 pg_ed[3] + 500 pg_ed[1] + 1085"
      ]
     },
     "execution_count": 21,
     "metadata": {},
     "output_type": "execute_result"
    }
   ],
   "source": [
    "sum(ref[:gen][i][\"cost\"][1] * pg_ed[i]^2 + ref[:gen][i][\"cost\"][2] * pg_ed[i] + ref[:gen][i][\"cost\"][3] for (i, _) in ref[:gen])"
   ]
  },
  {
   "cell_type": "code",
   "execution_count": null,
   "id": "1a59d59f-2336-491e-8236-8190789eb178",
   "metadata": {},
   "outputs": [],
   "source": []
  }
 ],
 "metadata": {
  "kernelspec": {
   "display_name": "Julia 1.9.3",
   "language": "julia",
   "name": "julia-1.9"
  },
  "language_info": {
   "file_extension": ".jl",
   "mimetype": "application/julia",
   "name": "julia",
   "version": "1.9.3"
  }
 },
 "nbformat": 4,
 "nbformat_minor": 5
}
