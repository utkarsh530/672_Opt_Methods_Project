{
 "cells": [
  {
   "cell_type": "code",
   "execution_count": 3,
   "id": "3460a3c6-3b65-43c3-ad41-91962a994723",
   "metadata": {},
   "outputs": [
    {
     "name": "stderr",
     "output_type": "stream",
     "text": [
      "\u001b[32m\u001b[1m  Activating\u001b[22m\u001b[39m new project at `~/Documents/MIT/Fall 2023/6.7200/Project`\n"
     ]
    },
    {
     "name": "stderr",
     "output_type": "stream",
     "text": [
      "\u001b[32m\u001b[1m   Resolving\u001b[22m\u001b[39m package versions...\n"
     ]
    },
    {
     "name": "stderr",
     "output_type": "stream",
     "text": [
      "\u001b[32m\u001b[1m   Installed\u001b[22m\u001b[39m Compat ───────── v4.10.1\n",
      "\u001b[32m\u001b[1m   Installed\u001b[22m\u001b[39m BenchmarkTools ─ v1.4.0\n"
     ]
    },
    {
     "name": "stderr",
     "output_type": "stream",
     "text": [
      "\u001b[32m\u001b[1m   Installed\u001b[22m\u001b[39m JuMP ─────────── v1.17.0\n"
     ]
    },
    {
     "name": "stderr",
     "output_type": "stream",
     "text": [
      "\u001b[32m\u001b[1m    Updating\u001b[22m\u001b[39m `~/Documents/MIT/Fall 2023/6.7200/Project/Project.toml`\n",
      "  \u001b[90m[4076af6c] \u001b[39m\u001b[92m+ JuMP v1.17.0\u001b[39m\n",
      "\u001b[32m\u001b[1m    Updating\u001b[22m\u001b[39m `~/Documents/MIT/Fall 2023/6.7200/Project/Manifest.toml`\n",
      "  \u001b[90m[6e4b80f9] \u001b[39m\u001b[92m+ BenchmarkTools v1.4.0\u001b[39m\n",
      "  \u001b[90m[523fee87] \u001b[39m\u001b[92m+ CodecBzip2 v0.8.1\u001b[39m\n",
      "  \u001b[90m[944b1d66] \u001b[39m\u001b[92m+ CodecZlib v0.7.3\u001b[39m\n",
      "  \u001b[90m[bbf7d656] \u001b[39m\u001b[92m+ CommonSubexpressions v0.3.0\u001b[39m\n",
      "  \u001b[90m[34da2185] \u001b[39m\u001b[92m+ Compat v4.10.1\u001b[39m\n",
      "  \u001b[90m[864edb3b] \u001b[39m\u001b[92m+ DataStructures v0.18.15\u001b[39m\n",
      "  \u001b[90m[163ba53b] \u001b[39m\u001b[92m+ DiffResults v1.1.0\u001b[39m\n",
      "  \u001b[90m[b552c78f] \u001b[39m\u001b[92m+ DiffRules v1.15.1\u001b[39m\n",
      "  \u001b[90m[ffbed154] \u001b[39m\u001b[92m+ DocStringExtensions v0.9.3\u001b[39m\n",
      "  \u001b[90m[f6369f11] \u001b[39m\u001b[92m+ ForwardDiff v0.10.36\u001b[39m\n",
      "  \u001b[90m[92d709cd] \u001b[39m\u001b[92m+ IrrationalConstants v0.2.2\u001b[39m\n",
      "  \u001b[90m[692b3bcd] \u001b[39m\u001b[92m+ JLLWrappers v1.5.0\u001b[39m\n",
      "  \u001b[90m[682c06a0] \u001b[39m\u001b[92m+ JSON v0.21.4\u001b[39m\n",
      "  \u001b[90m[4076af6c] \u001b[39m\u001b[92m+ JuMP v1.17.0\u001b[39m\n",
      "  \u001b[90m[2ab3a3ac] \u001b[39m\u001b[92m+ LogExpFunctions v0.3.26\u001b[39m\n",
      "  \u001b[90m[1914dd2f] \u001b[39m\u001b[92m+ MacroTools v0.5.11\u001b[39m\n",
      "  \u001b[90m[b8f27783] \u001b[39m\u001b[92m+ MathOptInterface v1.23.0\u001b[39m\n",
      "  \u001b[90m[d8a4904e] \u001b[39m\u001b[92m+ MutableArithmetics v1.4.0\u001b[39m\n",
      "  \u001b[90m[77ba4419] \u001b[39m\u001b[92m+ NaNMath v1.0.2\u001b[39m\n",
      "  \u001b[90m[bac558e1] \u001b[39m\u001b[92m+ OrderedCollections v1.6.3\u001b[39m\n",
      "  \u001b[90m[69de0a69] \u001b[39m\u001b[92m+ Parsers v2.8.0\u001b[39m\n",
      "  \u001b[90m[aea7be01] \u001b[39m\u001b[92m+ PrecompileTools v1.2.0\u001b[39m\n",
      "  \u001b[90m[21216c6a] \u001b[39m\u001b[92m+ Preferences v1.4.1\u001b[39m\n",
      "  \u001b[90m[66db9d55] \u001b[39m\u001b[92m+ SnoopPrecompile v1.0.3\u001b[39m\n",
      "  \u001b[90m[276daf66] \u001b[39m\u001b[92m+ SpecialFunctions v2.3.1\u001b[39m\n",
      "  \u001b[90m[1e83bf80] \u001b[39m\u001b[92m+ StaticArraysCore v1.4.2\u001b[39m\n",
      "  \u001b[90m[3bb67fe8] \u001b[39m\u001b[92m+ TranscodingStreams v0.10.2\u001b[39m\n",
      "  \u001b[90m[6e34b625] \u001b[39m\u001b[92m+ Bzip2_jll v1.0.8+0\u001b[39m\n",
      "  \u001b[90m[efe28fd5] \u001b[39m\u001b[92m+ OpenSpecFun_jll v0.5.5+0\u001b[39m\n",
      "  \u001b[90m[0dad84c5] \u001b[39m\u001b[92m+ ArgTools v1.1.1\u001b[39m\n",
      "  \u001b[90m[56f22d72] \u001b[39m\u001b[92m+ Artifacts\u001b[39m\n",
      "  \u001b[90m[2a0f44e3] \u001b[39m\u001b[92m+ Base64\u001b[39m\n",
      "  \u001b[90m[ade2ca70] \u001b[39m\u001b[92m+ Dates\u001b[39m\n",
      "  \u001b[90m[f43a241f] \u001b[39m\u001b[92m+ Downloads v1.6.0\u001b[39m\n",
      "  \u001b[90m[7b1f6079] \u001b[39m\u001b[92m+ FileWatching\u001b[39m\n",
      "  \u001b[90m[b77e0a4c] \u001b[39m\u001b[92m+ InteractiveUtils\u001b[39m\n",
      "  \u001b[90m[b27032c2] \u001b[39m\u001b[92m+ LibCURL v0.6.4\u001b[39m\n",
      "  \u001b[90m[76f85450] \u001b[39m\u001b[92m+ LibGit2\u001b[39m\n",
      "  \u001b[90m[8f399da3] \u001b[39m\u001b[92m+ Libdl\u001b[39m\n",
      "  \u001b[90m[37e2e46d] \u001b[39m\u001b[92m+ LinearAlgebra\u001b[39m\n",
      "  \u001b[90m[56ddb016] \u001b[39m\u001b[92m+ Logging\u001b[39m\n",
      "  \u001b[90m[d6f4376e] \u001b[39m\u001b[92m+ Markdown\u001b[39m\n",
      "  \u001b[90m[a63ad114] \u001b[39m\u001b[92m+ Mmap\u001b[39m\n",
      "  \u001b[90m[ca575930] \u001b[39m\u001b[92m+ NetworkOptions v1.2.0\u001b[39m\n",
      "  \u001b[90m[44cfe95a] \u001b[39m\u001b[92m+ Pkg v1.9.2\u001b[39m\n",
      "  \u001b[90m[de0858da] \u001b[39m\u001b[92m+ Printf\u001b[39m\n",
      "  \u001b[90m[9abbd945] \u001b[39m\u001b[92m+ Profile\u001b[39m\n",
      "  \u001b[90m[3fa0cd96] \u001b[39m\u001b[92m+ REPL\u001b[39m\n",
      "  \u001b[90m[9a3f8284] \u001b[39m\u001b[92m+ Random\u001b[39m\n",
      "  \u001b[90m[ea8e919c] \u001b[39m\u001b[92m+ SHA v0.7.0\u001b[39m\n",
      "  \u001b[90m[9e88b42a] \u001b[39m\u001b[92m+ Serialization\u001b[39m\n",
      "  \u001b[90m[6462fe0b] \u001b[39m\u001b[92m+ Sockets\u001b[39m\n",
      "  \u001b[90m[2f01184e] \u001b[39m\u001b[92m+ SparseArrays\u001b[39m\n",
      "  \u001b[90m[10745b16] \u001b[39m\u001b[92m+ Statistics v1.9.0\u001b[39m\n",
      "  \u001b[90m[fa267f1f] \u001b[39m\u001b[92m+ TOML v1.0.3\u001b[39m\n",
      "  \u001b[90m[a4e569a6] \u001b[39m\u001b[92m+ Tar v1.10.0\u001b[39m\n",
      "  \u001b[90m[8dfed614] \u001b[39m\u001b[92m+ Test\u001b[39m\n",
      "  \u001b[90m[cf7118a7] \u001b[39m\u001b[92m+ UUIDs\u001b[39m\n",
      "  \u001b[90m[4ec0a83e] \u001b[39m\u001b[92m+ Unicode\u001b[39m\n",
      "  \u001b[90m[e66e0078] \u001b[39m\u001b[92m+ CompilerSupportLibraries_jll v1.0.5+0\u001b[39m\n",
      "  \u001b[90m[deac9b47] \u001b[39m\u001b[92m+ LibCURL_jll v8.4.0+0\u001b[39m\n",
      "  \u001b[90m[29816b5a] \u001b[39m\u001b[92m+ LibSSH2_jll v1.11.0+1\u001b[39m\n",
      "  \u001b[90m[c8ffd9c3] \u001b[39m\u001b[92m+ MbedTLS_jll v2.28.2+0\u001b[39m\n",
      "  \u001b[90m[14a3606d] \u001b[39m\u001b[92m+ MozillaCACerts_jll v2022.10.11\u001b[39m\n",
      "  \u001b[90m[4536629a] \u001b[39m\u001b[92m+ OpenBLAS_jll v0.3.21+4\u001b[39m\n",
      "  \u001b[90m[05823500] \u001b[39m\u001b[92m+ OpenLibm_jll v0.8.1+0\u001b[39m\n",
      "  \u001b[90m[bea87d4a] \u001b[39m\u001b[92m+ SuiteSparse_jll v5.10.1+6\u001b[39m\n",
      "  \u001b[90m[83775a58] \u001b[39m\u001b[92m+ Zlib_jll v1.2.13+0\u001b[39m\n",
      "  \u001b[90m[8e850b90] \u001b[39m\u001b[92m+ libblastrampoline_jll v5.8.0+0\u001b[39m\n",
      "  \u001b[90m[8e850ede] \u001b[39m\u001b[92m+ nghttp2_jll v1.52.0+1\u001b[39m\n",
      "  \u001b[90m[3f19e933] \u001b[39m\u001b[92m+ p7zip_jll v17.4.0+0\u001b[39m\n",
      "\u001b[32m\u001b[1mPrecompiling\u001b[22m\u001b[39m project...\n"
     ]
    },
    {
     "name": "stderr",
     "output_type": "stream",
     "text": [
      "\u001b[33m  ✓ \u001b[39m\u001b[90mCompat\u001b[39m\n"
     ]
    },
    {
     "name": "stderr",
     "output_type": "stream",
     "text": [
      "\u001b[33m  ✓ \u001b[39m\u001b[90mBenchmarkTools\u001b[39m\n"
     ]
    },
    {
     "name": "stderr",
     "output_type": "stream",
     "text": [
      "\u001b[33m  ✓ \u001b[39m\u001b[90mCompat → CompatLinearAlgebraExt\u001b[39m\n"
     ]
    },
    {
     "name": "stderr",
     "output_type": "stream",
     "text": [
      "\u001b[33m  ✓ \u001b[39mJuMP\n",
      "  4 dependencies successfully precompiled in 93 seconds. 34 already precompiled.\n",
      "  \u001b[33m4\u001b[39m dependencies precompiled but different versions are currently loaded. Restart julia to access the new versions\n",
      "\u001b[32m\u001b[1m   Resolving\u001b[22m\u001b[39m package versions...\n"
     ]
    },
    {
     "name": "stderr",
     "output_type": "stream",
     "text": [
      "\u001b[32m\u001b[1m    Updating\u001b[22m\u001b[39m `~/Documents/MIT/Fall 2023/6.7200/Project/Project.toml`\n",
      "  \u001b[90m[c36e90e8] \u001b[39m\u001b[92m+ PowerModels v0.19.9\u001b[39m\n",
      "\u001b[32m\u001b[1m    Updating\u001b[22m\u001b[39m `~/Documents/MIT/Fall 2023/6.7200/Project/Manifest.toml`\n",
      "  \u001b[90m[79e6a3ab] \u001b[39m\u001b[92m+ Adapt v3.7.1\u001b[39m\n",
      "  \u001b[90m[4fba245c] \u001b[39m\u001b[92m+ ArrayInterface v7.6.1\u001b[39m\n",
      "  \u001b[90m[187b0558] \u001b[39m\u001b[92m+ ConstructionBase v1.5.4\u001b[39m\n",
      "  \u001b[90m[b4f34e82] \u001b[39m\u001b[92m+ Distances v0.10.11\u001b[39m\n",
      "  \u001b[90m[6a86dc24] \u001b[39m\u001b[92m+ FiniteDiff v2.21.1\u001b[39m\n",
      "  \u001b[90m[2030c09a] \u001b[39m\u001b[92m+ InfrastructureModels v0.7.8\u001b[39m\n",
      "  \u001b[90m[d3d80556] \u001b[39m\u001b[92m+ LineSearches v7.2.0\u001b[39m\n",
      "  \u001b[90m[f28f55f0] \u001b[39m\u001b[92m+ Memento v1.4.1\u001b[39m\n",
      "  \u001b[90m[d41bc354] \u001b[39m\u001b[92m+ NLSolversBase v7.8.3\u001b[39m\n",
      "  \u001b[90m[2774e3e8] \u001b[39m\u001b[92m+ NLsolve v4.5.1\u001b[39m\n",
      "  \u001b[90m[d96e819e] \u001b[39m\u001b[92m+ Parameters v0.12.3\u001b[39m\n",
      "  \u001b[90m[c36e90e8] \u001b[39m\u001b[92m+ PowerModels v0.19.9\u001b[39m\n",
      "  \u001b[90m[189a3867] \u001b[39m\u001b[92m+ Reexport v1.2.2\u001b[39m\n",
      "  \u001b[90m[ae029012] \u001b[39m\u001b[92m+ Requires v1.3.0\u001b[39m\n",
      "  \u001b[90m[efcf1570] \u001b[39m\u001b[92m+ Setfield v1.1.1\u001b[39m\n",
      "  \u001b[90m[82ae8749] \u001b[39m\u001b[92m+ StatsAPI v1.7.0\u001b[39m\n",
      "  \u001b[90m[3a884ed6] \u001b[39m\u001b[92m+ UnPack v1.0.2\u001b[39m\n",
      "  \u001b[90m[8ba89e20] \u001b[39m\u001b[92m+ Distributed\u001b[39m\n",
      "  \u001b[90m[9fa8497b] \u001b[39m\u001b[92m+ Future\u001b[39m\n",
      "  \u001b[90m[4607b0f0] \u001b[39m\u001b[92m+ SuiteSparse\u001b[39m\n"
     ]
    },
    {
     "name": "stderr",
     "output_type": "stream",
     "text": [
      "\u001b[32m\u001b[1m   Resolving\u001b[22m\u001b[39m package versions...\n"
     ]
    },
    {
     "name": "stderr",
     "output_type": "stream",
     "text": [
      "\u001b[32m\u001b[1m    Updating\u001b[22m\u001b[39m `~/Documents/MIT/Fall 2023/6.7200/Project/Project.toml`\n",
      "  \u001b[90m[b6b21f68] \u001b[39m\u001b[92m+ Ipopt v1.5.1\u001b[39m\n",
      "\u001b[32m\u001b[1m    Updating\u001b[22m\u001b[39m `~/Documents/MIT/Fall 2023/6.7200/Project/Manifest.toml`\n",
      "  \u001b[90m[b6b21f68] \u001b[39m\u001b[92m+ Ipopt v1.5.1\u001b[39m\n",
      "  \u001b[90m[ae81ac8f] \u001b[39m\u001b[92m+ ASL_jll v0.1.3+0\u001b[39m\n",
      "  \u001b[90m[e33a78d0] \u001b[39m\u001b[92m+ Hwloc_jll v2.9.3+0\u001b[39m\n",
      "\u001b[33m⌅\u001b[39m \u001b[90m[9cc047cb] \u001b[39m\u001b[92m+ Ipopt_jll v300.1400.1302+0\u001b[39m\n",
      "  \u001b[90m[d00139f3] \u001b[39m\u001b[92m+ METIS_jll v5.1.2+0\u001b[39m\n",
      "\u001b[33m⌅\u001b[39m \u001b[90m[d7ed1dd3] \u001b[39m\u001b[92m+ MUMPS_seq_jll v500.600.100+0\u001b[39m\n",
      "\u001b[33m⌅\u001b[39m \u001b[90m[656ef2d0] \u001b[39m\u001b[92m+ OpenBLAS32_jll v0.3.21+0\u001b[39m\n",
      "\u001b[33m⌅\u001b[39m \u001b[90m[319450e9] \u001b[39m\u001b[92m+ SPRAL_jll v2023.8.2+0\u001b[39m\n",
      "\u001b[36m\u001b[1m        Info\u001b[22m\u001b[39m Packages marked with \u001b[33m⌅\u001b[39m have new versions available but compatibility constraints restrict them from upgrading. To see why use `status --outdated -m`\n"
     ]
    },
    {
     "name": "stderr",
     "output_type": "stream",
     "text": [
      "\u001b[32m\u001b[1m   Resolving\u001b[22m\u001b[39m package versions...\n"
     ]
    },
    {
     "name": "stderr",
     "output_type": "stream",
     "text": [
      "\u001b[32m\u001b[1m    Updating\u001b[22m\u001b[39m `~/Documents/MIT/Fall 2023/6.7200/Project/Project.toml`\n",
      "  \u001b[90m[60bf3e95] \u001b[39m\u001b[92m+ GLPK v1.1.3\u001b[39m\n",
      "\u001b[32m\u001b[1m    Updating\u001b[22m\u001b[39m `~/Documents/MIT/Fall 2023/6.7200/Project/Manifest.toml`\n",
      "  \u001b[90m[60bf3e95] \u001b[39m\u001b[92m+ GLPK v1.1.3\u001b[39m\n",
      "  \u001b[90m[e8aa6df9] \u001b[39m\u001b[92m+ GLPK_jll v5.0.1+0\u001b[39m\n",
      "  \u001b[90m[781609d7] \u001b[39m\u001b[92m+ GMP_jll v6.2.1+2\u001b[39m\n"
     ]
    },
    {
     "name": "stderr",
     "output_type": "stream",
     "text": [
      "\u001b[32m\u001b[1m   Resolving\u001b[22m\u001b[39m package versions...\n"
     ]
    },
    {
     "name": "stderr",
     "output_type": "stream",
     "text": [
      "\u001b[32m\u001b[1m    Updating\u001b[22m\u001b[39m `~/Documents/MIT/Fall 2023/6.7200/Project/Project.toml`\n",
      "  \u001b[90m[a93c6f00] \u001b[39m\u001b[92m+ DataFrames v1.6.1\u001b[39m\n",
      "\u001b[32m\u001b[1m    Updating\u001b[22m\u001b[39m `~/Documents/MIT/Fall 2023/6.7200/Project/Manifest.toml`\n",
      "  \u001b[90m[a8cc5b0e] \u001b[39m\u001b[92m+ Crayons v4.1.1\u001b[39m\n",
      "  \u001b[90m[9a962f9c] \u001b[39m\u001b[92m+ DataAPI v1.15.0\u001b[39m\n",
      "  \u001b[90m[a93c6f00] \u001b[39m\u001b[92m+ DataFrames v1.6.1\u001b[39m\n",
      "  \u001b[90m[e2d170a0] \u001b[39m\u001b[92m+ DataValueInterfaces v1.0.0\u001b[39m\n",
      "  \u001b[90m[842dd82b] \u001b[39m\u001b[92m+ InlineStrings v1.4.0\u001b[39m\n",
      "  \u001b[90m[41ab1584] \u001b[39m\u001b[92m+ InvertedIndices v1.3.0\u001b[39m\n",
      "  \u001b[90m[82899510] \u001b[39m\u001b[92m+ IteratorInterfaceExtensions v1.0.0\u001b[39m\n",
      "  \u001b[90m[b964fa9f] \u001b[39m\u001b[92m+ LaTeXStrings v1.3.1\u001b[39m\n",
      "  \u001b[90m[e1d29d7a] \u001b[39m\u001b[92m+ Missings v1.1.0\u001b[39m\n",
      "  \u001b[90m[2dfb63ee] \u001b[39m\u001b[92m+ PooledArrays v1.4.3\u001b[39m\n",
      "  \u001b[90m[08abe8d2] \u001b[39m\u001b[92m+ PrettyTables v2.3.1\u001b[39m\n",
      "  \u001b[90m[91c51154] \u001b[39m\u001b[92m+ SentinelArrays v1.4.1\u001b[39m\n",
      "  \u001b[90m[a2af1166] \u001b[39m\u001b[92m+ SortingAlgorithms v1.2.0\u001b[39m\n",
      "  \u001b[90m[892a3eda] \u001b[39m\u001b[92m+ StringManipulation v0.3.4\u001b[39m\n",
      "  \u001b[90m[3783bdb8] \u001b[39m\u001b[92m+ TableTraits v1.0.1\u001b[39m\n",
      "  \u001b[90m[bd369af6] \u001b[39m\u001b[92m+ Tables v1.11.1\u001b[39m\n"
     ]
    }
   ],
   "source": [
    "using Pkg\n",
    "Pkg.activate(\".\")\n",
    "Pkg.add(\"JuMP\")\n",
    "Pkg.add(\"PowerModels\")\n",
    "Pkg.add(\"Ipopt\")\n",
    "Pkg.add(\"GLPK\")\n",
    "Pkg.add(\"DataFrames\")"
   ]
  },
  {
   "cell_type": "code",
   "execution_count": 5,
   "id": "62c8c2ac-e755-4bf0-8f10-3c9606a9a77b",
   "metadata": {
    "scrolled": true
   },
   "outputs": [
    {
     "name": "stdout",
     "output_type": "stream",
     "text": [
      "#= /Users/utkarsh/Documents/MIT/Fall 2023/6.7200/Project/ac-ED.jl:28 =# @__DIR__() = \"/Users/utkarsh/Documents/MIT/Fall 2023/6.7200/Project\"\n",
      "file_name = \"/Users/utkarsh/Documents/MIT/Fall 2023/6.7200/Project/Data/case57.m\"\n"
     ]
    },
    {
     "name": "stdout",
     "output_type": "stream",
     "text": [
      "\u001b[35m[warn | PowerModels]: this code only supports angmin values in -90 deg. to 90 deg., tightening the value on branch 32 from -360.0 to -60.0 deg.\u001b[39m\n"
     ]
    },
    {
     "name": "stdout",
     "output_type": "stream",
     "text": [
      "\u001b[35m[warn | PowerModels]: this code only supports angmax values in -90 deg. to 90 deg., tightening the value on branch 32 from 360.0 to 60.0 deg.\u001b[39m\n"
     ]
    },
    {
     "name": "stdout",
     "output_type": "stream",
     "text": [
      "\u001b[35m[warn | PowerModels]: this code only supports angmin values in -90 deg. to 90 deg., tightening the value on branch 29 from -360.0 to -60.0 deg.\u001b[39m\n"
     ]
    },
    {
     "name": "stdout",
     "output_type": "stream",
     "text": [
      "\u001b[35m[warn | PowerModels]: this code only supports angmax values in -90 deg. to 90 deg., tightening the value on branch 29 from 360.0 to 60.0 deg.\u001b[39m\n"
     ]
    },
    {
     "name": "stdout",
     "output_type": "stream",
     "text": [
      "\u001b[35m[warn | PowerModels]: this code only supports angmin values in -90 deg. to 90 deg., tightening the value on branch 1 from -360.0 to -60.0 deg.\u001b[39m\n"
     ]
    },
    {
     "name": "stdout",
     "output_type": "stream",
     "text": [
      "\u001b[35m[warn | PowerModels]: this code only supports angmax values in -90 deg. to 90 deg., tightening the value on branch 1 from 360.0 to 60.0 deg.\u001b[39m\n"
     ]
    },
    {
     "name": "stdout",
     "output_type": "stream",
     "text": [
      "\u001b[35m[warn | PowerModels]: this code only supports angmin values in -90 deg. to 90 deg., tightening the value on branch 54 from -360.0 to -60.0 deg.\u001b[39m\n"
     ]
    },
    {
     "name": "stdout",
     "output_type": "stream",
     "text": [
      "\u001b[35m[warn | PowerModels]: this code only supports angmax values in -90 deg. to 90 deg., tightening the value on branch 54 from 360.0 to 60.0 deg.\u001b[39m\n"
     ]
    },
    {
     "name": "stdout",
     "output_type": "stream",
     "text": [
      "\u001b[35m[warn | PowerModels]: this code only supports angmin values in -90 deg. to 90 deg., tightening the value on branch 78 from -360.0 to -60.0 deg.\u001b[39m\n"
     ]
    },
    {
     "name": "stdout",
     "output_type": "stream",
     "text": [
      "\u001b[35m[warn | PowerModels]: this code only supports angmax values in -90 deg. to 90 deg., tightening the value on branch 78 from 360.0 to 60.0 deg.\u001b[39m\n"
     ]
    },
    {
     "name": "stdout",
     "output_type": "stream",
     "text": [
      "\u001b[35m[warn | PowerModels]: this code only supports angmin values in -90 deg. to 90 deg., tightening the value on branch 2 from -360.0 to -60.0 deg.\u001b[39m\n"
     ]
    },
    {
     "name": "stdout",
     "output_type": "stream",
     "text": [
      "\u001b[35m[warn | PowerModels]: this code only supports angmax values in -90 deg. to 90 deg., tightening the value on branch 2 from 360.0 to 60.0 deg.\u001b[39m\n"
     ]
    },
    {
     "name": "stdout",
     "output_type": "stream",
     "text": [
      "\u001b[35m[warn | PowerModels]: this code only supports angmin values in -90 deg. to 90 deg., tightening the value on branch 74 from -360.0 to -60.0 deg.\u001b[39m\n"
     ]
    },
    {
     "name": "stdout",
     "output_type": "stream",
     "text": [
      "\u001b[35m[warn | PowerModels]: this code only supports angmax values in -90 deg. to 90 deg., tightening the value on branch 74 from 360.0 to 60.0 deg.\u001b[39m\n"
     ]
    },
    {
     "name": "stdout",
     "output_type": "stream",
     "text": [
      "\u001b[35m[warn | PowerModels]: this code only supports angmin values in -90 deg. to 90 deg., tightening the value on branch 41 from -360.0 to -60.0 deg.\u001b[39m\n"
     ]
    },
    {
     "name": "stdout",
     "output_type": "stream",
     "text": [
      "\u001b[35m[warn | PowerModels]: this code only supports angmax values in -90 deg. to 90 deg., tightening the value on branch 41 from 360.0 to 60.0 deg.\u001b[39m\n"
     ]
    },
    {
     "name": "stdout",
     "output_type": "stream",
     "text": [
      "\u001b[35m[warn | PowerModels]: this code only supports angmin values in -90 deg. to 90 deg., tightening the value on branch 65 from -360.0 to -60.0 deg.\u001b[39m\n"
     ]
    },
    {
     "name": "stdout",
     "output_type": "stream",
     "text": [
      "\u001b[35m[warn | PowerModels]: this code only supports angmax values in -90 deg. to 90 deg., tightening the value on branch 65 from 360.0 to 60.0 deg.\u001b[39m\n"
     ]
    },
    {
     "name": "stdout",
     "output_type": "stream",
     "text": [
      "\u001b[35m[warn | PowerModels]: this code only supports angmin values in -90 deg. to 90 deg., tightening the value on branch 51 from -360.0 to -60.0 deg.\u001b[39m\n"
     ]
    },
    {
     "name": "stdout",
     "output_type": "stream",
     "text": [
      "\u001b[35m[warn | PowerModels]: this code only supports angmax values in -90 deg. to 90 deg., tightening the value on branch 51 from 360.0 to 60.0 deg.\u001b[39m\n"
     ]
    },
    {
     "name": "stdout",
     "output_type": "stream",
     "text": [
      "\u001b[35m[warn | PowerModels]: this code only supports angmin values in -90 deg. to 90 deg., tightening the value on branch 53 from -360.0 to -60.0 deg.\u001b[39m\n"
     ]
    },
    {
     "name": "stdout",
     "output_type": "stream",
     "text": [
      "\u001b[35m[warn | PowerModels]: this code only supports angmax values in -90 deg. to 90 deg., tightening the value on branch 53 from 360.0 to 60.0 deg.\u001b[39m\n"
     ]
    },
    {
     "name": "stdout",
     "output_type": "stream",
     "text": [
      "\u001b[35m[warn | PowerModels]: this code only supports angmin values in -90 deg. to 90 deg., tightening the value on branch 27 from -360.0 to -60.0 deg.\u001b[39m\n"
     ]
    },
    {
     "name": "stdout",
     "output_type": "stream",
     "text": [
      "\u001b[35m[warn | PowerModels]: this code only supports angmax values in -90 deg. to 90 deg., tightening the value on branch 27 from 360.0 to 60.0 deg.\u001b[39m\n"
     ]
    },
    {
     "name": "stdout",
     "output_type": "stream",
     "text": [
      "\u001b[35m[warn | PowerModels]: this code only supports angmin values in -90 deg. to 90 deg., tightening the value on branch 75 from -360.0 to -60.0 deg.\u001b[39m\n"
     ]
    },
    {
     "name": "stdout",
     "output_type": "stream",
     "text": [
      "\u001b[35m[warn | PowerModels]: this code only supports angmax values in -90 deg. to 90 deg., tightening the value on branch 75 from 360.0 to 60.0 deg.\u001b[39m\n"
     ]
    },
    {
     "name": "stdout",
     "output_type": "stream",
     "text": [
      "\u001b[35m[warn | PowerModels]: this code only supports angmin values in -90 deg. to 90 deg., tightening the value on branch 42 from -360.0 to -60.0 deg.\u001b[39m\n"
     ]
    },
    {
     "name": "stdout",
     "output_type": "stream",
     "text": [
      "\u001b[35m[warn | PowerModels]: this code only supports angmax values in -90 deg. to 90 deg., tightening the value on branch 42 from 360.0 to 60.0 deg.\u001b[39m\n"
     ]
    },
    {
     "name": "stdout",
     "output_type": "stream",
     "text": [
      "\u001b[35m[warn | PowerModels]: this code only supports angmin values in -90 deg. to 90 deg., tightening the value on branch 33 from -360.0 to -60.0 deg.\u001b[39m\n"
     ]
    },
    {
     "name": "stdout",
     "output_type": "stream",
     "text": [
      "\u001b[35m[warn | PowerModels]: this code only supports angmax values in -90 deg. to 90 deg., tightening the value on branch 33 from 360.0 to 60.0 deg.\u001b[39m\n"
     ]
    },
    {
     "name": "stdout",
     "output_type": "stream",
     "text": [
      "\u001b[35m[warn | PowerModels]: this code only supports angmin values in -90 deg. to 90 deg., tightening the value on branch 28 from -360.0 to -60.0 deg.\u001b[39m\n"
     ]
    },
    {
     "name": "stdout",
     "output_type": "stream",
     "text": [
      "\u001b[35m[warn | PowerModels]: this code only supports angmax values in -90 deg. to 90 deg., tightening the value on branch 28 from 360.0 to 60.0 deg.\u001b[39m\n"
     ]
    },
    {
     "name": "stdout",
     "output_type": "stream",
     "text": [
      "\u001b[35m[warn | PowerModels]: this code only supports angmin values in -90 deg. to 90 deg., tightening the value on branch 50 from -360.0 to -60.0 deg.\u001b[39m\n"
     ]
    },
    {
     "name": "stdout",
     "output_type": "stream",
     "text": [
      "\u001b[35m[warn | PowerModels]: this code only supports angmax values in -90 deg. to 90 deg., tightening the value on branch 50 from 360.0 to 60.0 deg.\u001b[39m\n"
     ]
    },
    {
     "name": "stdout",
     "output_type": "stream",
     "text": [
      "\u001b[35m[warn | PowerModels]: this code only supports angmin values in -90 deg. to 90 deg., tightening the value on branch 52 from -360.0 to -60.0 deg.\u001b[39m\n"
     ]
    },
    {
     "name": "stdout",
     "output_type": "stream",
     "text": [
      "\u001b[35m[warn | PowerModels]: this code only supports angmax values in -90 deg. to 90 deg., tightening the value on branch 52 from 360.0 to 60.0 deg.\u001b[39m\n"
     ]
    },
    {
     "name": "stdout",
     "output_type": "stream",
     "text": [
      "\u001b[35m[warn | PowerModels]: this code only supports angmin values in -90 deg. to 90 deg., tightening the value on branch 63 from -360.0 to -60.0 deg.\u001b[39m\n"
     ]
    },
    {
     "name": "stdout",
     "output_type": "stream",
     "text": [
      "\u001b[35m[warn | PowerModels]: this code only supports angmax values in -90 deg. to 90 deg., tightening the value on branch 63 from 360.0 to 60.0 deg.\u001b[39m\n"
     ]
    },
    {
     "name": "stdout",
     "output_type": "stream",
     "text": [
      "\u001b[35m[warn | PowerModels]: this code only supports angmin values in -90 deg. to 90 deg., tightening the value on branch 26 from -360.0 to -60.0 deg.\u001b[39m\n"
     ]
    },
    {
     "name": "stdout",
     "output_type": "stream",
     "text": [
      "\u001b[35m[warn | PowerModels]: this code only supports angmax values in -90 deg. to 90 deg., tightening the value on branch 26 from 360.0 to 60.0 deg.\u001b[39m\n"
     ]
    },
    {
     "name": "stdout",
     "output_type": "stream",
     "text": [
      "\u001b[35m[warn | PowerModels]: this code only supports angmin values in -90 deg. to 90 deg., tightening the value on branch 10 from -360.0 to -60.0 deg.\u001b[39m\n"
     ]
    },
    {
     "name": "stdout",
     "output_type": "stream",
     "text": [
      "\u001b[35m[warn | PowerModels]: this code only supports angmax values in -90 deg. to 90 deg., tightening the value on branch 10 from 360.0 to 60.0 deg.\u001b[39m\n"
     ]
    },
    {
     "name": "stdout",
     "output_type": "stream",
     "text": [
      "\u001b[35m[warn | PowerModels]: this code only supports angmin values in -90 deg. to 90 deg., tightening the value on branch 77 from -360.0 to -60.0 deg.\u001b[39m\n"
     ]
    },
    {
     "name": "stdout",
     "output_type": "stream",
     "text": [
      "\u001b[35m[warn | PowerModels]: this code only supports angmax values in -90 deg. to 90 deg., tightening the value on branch 77 from 360.0 to 60.0 deg.\u001b[39m\n"
     ]
    },
    {
     "name": "stdout",
     "output_type": "stream",
     "text": [
      "\u001b[35m[warn | PowerModels]: this code only supports angmin values in -90 deg. to 90 deg., tightening the value on branch 24 from -360.0 to -60.0 deg.\u001b[39m\n"
     ]
    },
    {
     "name": "stdout",
     "output_type": "stream",
     "text": [
      "\u001b[35m[warn | PowerModels]: this code only supports angmax values in -90 deg. to 90 deg., tightening the value on branch 24 from 360.0 to 60.0 deg.\u001b[39m\n"
     ]
    },
    {
     "name": "stdout",
     "output_type": "stream",
     "text": [
      "\u001b[35m[warn | PowerModels]: this code only supports angmin values in -90 deg. to 90 deg., tightening the value on branch 58 from -360.0 to -60.0 deg.\u001b[39m\n"
     ]
    },
    {
     "name": "stdout",
     "output_type": "stream",
     "text": [
      "\u001b[35m[warn | PowerModels]: this code only supports angmax values in -90 deg. to 90 deg., tightening the value on branch 58 from 360.0 to 60.0 deg.\u001b[39m\n"
     ]
    },
    {
     "name": "stdout",
     "output_type": "stream",
     "text": [
      "\u001b[35m[warn | PowerModels]: this code only supports angmin values in -90 deg. to 90 deg., tightening the value on branch 25 from -360.0 to -60.0 deg.\u001b[39m\n"
     ]
    },
    {
     "name": "stdout",
     "output_type": "stream",
     "text": [
      "\u001b[35m[warn | PowerModels]: this code only supports angmax values in -90 deg. to 90 deg., tightening the value on branch 25 from 360.0 to 60.0 deg.\u001b[39m\n"
     ]
    },
    {
     "name": "stdout",
     "output_type": "stream",
     "text": [
      "\u001b[35m[warn | PowerModels]: this code only supports angmin values in -90 deg. to 90 deg., tightening the value on branch 23 from -360.0 to -60.0 deg.\u001b[39m\n"
     ]
    },
    {
     "name": "stdout",
     "output_type": "stream",
     "text": [
      "\u001b[35m[warn | PowerModels]: this code only supports angmax values in -90 deg. to 90 deg., tightening the value on branch 23 from 360.0 to 60.0 deg.\u001b[39m\n"
     ]
    },
    {
     "name": "stdout",
     "output_type": "stream",
     "text": [
      "\u001b[35m[warn | PowerModels]: this code only supports angmin values in -90 deg. to 90 deg., tightening the value on branch 49 from -360.0 to -60.0 deg.\u001b[39m\n"
     ]
    },
    {
     "name": "stdout",
     "output_type": "stream",
     "text": [
      "\u001b[35m[warn | PowerModels]: this code only supports angmax values in -90 deg. to 90 deg., tightening the value on branch 49 from 360.0 to 60.0 deg.\u001b[39m\n"
     ]
    },
    {
     "name": "stdout",
     "output_type": "stream",
     "text": [
      "\u001b[35m[warn | PowerModels]: this code only supports angmin values in -90 deg. to 90 deg., tightening the value on branch 59 from -360.0 to -60.0 deg.\u001b[39m\n"
     ]
    },
    {
     "name": "stdout",
     "output_type": "stream",
     "text": [
      "\u001b[35m[warn | PowerModels]: this code only supports angmax values in -90 deg. to 90 deg., tightening the value on branch 59 from 360.0 to 60.0 deg.\u001b[39m\n"
     ]
    },
    {
     "name": "stdout",
     "output_type": "stream",
     "text": [
      "\u001b[35m[warn | PowerModels]: this code only supports angmin values in -90 deg. to 90 deg., tightening the value on branch 5 from -360.0 to -60.0 deg.\u001b[39m\n"
     ]
    },
    {
     "name": "stdout",
     "output_type": "stream",
     "text": [
      "\u001b[35m[warn | PowerModels]: this code only supports angmax values in -90 deg. to 90 deg., tightening the value on branch 5 from 360.0 to 60.0 deg.\u001b[39m\n"
     ]
    },
    {
     "name": "stdout",
     "output_type": "stream",
     "text": [
      "\u001b[35m[warn | PowerModels]: this code only supports angmin values in -90 deg. to 90 deg., tightening the value on branch 31 from -360.0 to -60.0 deg.\u001b[39m\n"
     ]
    },
    {
     "name": "stdout",
     "output_type": "stream",
     "text": [
      "\u001b[35m[warn | PowerModels]: this code only supports angmax values in -90 deg. to 90 deg., tightening the value on branch 31 from 360.0 to 60.0 deg.\u001b[39m\n"
     ]
    },
    {
     "name": "stdout",
     "output_type": "stream",
     "text": [
      "\u001b[35m[warn | PowerModels]: this code only supports angmin values in -90 deg. to 90 deg., tightening the value on branch 62 from -360.0 to -60.0 deg.\u001b[39m\n"
     ]
    },
    {
     "name": "stdout",
     "output_type": "stream",
     "text": [
      "\u001b[35m[warn | PowerModels]: this code only supports angmax values in -90 deg. to 90 deg., tightening the value on branch 62 from 360.0 to 60.0 deg.\u001b[39m\n"
     ]
    },
    {
     "name": "stdout",
     "output_type": "stream",
     "text": [
      "\u001b[35m[warn | PowerModels]: this code only supports angmin values in -90 deg. to 90 deg., tightening the value on branch 43 from -360.0 to -60.0 deg.\u001b[39m\n"
     ]
    },
    {
     "name": "stdout",
     "output_type": "stream",
     "text": [
      "\u001b[35m[warn | PowerModels]: this code only supports angmax values in -90 deg. to 90 deg., tightening the value on branch 43 from 360.0 to 60.0 deg.\u001b[39m\n"
     ]
    },
    {
     "name": "stdout",
     "output_type": "stream",
     "text": [
      "\u001b[35m[warn | PowerModels]: this code only supports angmin values in -90 deg. to 90 deg., tightening the value on branch 39 from -360.0 to -60.0 deg.\u001b[39m\n"
     ]
    },
    {
     "name": "stdout",
     "output_type": "stream",
     "text": [
      "\u001b[35m[warn | PowerModels]: this code only supports angmax values in -90 deg. to 90 deg., tightening the value on branch 39 from 360.0 to 60.0 deg.\u001b[39m\n"
     ]
    },
    {
     "name": "stdout",
     "output_type": "stream",
     "text": [
      "\u001b[35m[warn | PowerModels]: this code only supports angmin values in -90 deg. to 90 deg., tightening the value on branch 34 from -360.0 to -60.0 deg.\u001b[39m\n"
     ]
    },
    {
     "name": "stdout",
     "output_type": "stream",
     "text": [
      "\u001b[35m[warn | PowerModels]: this code only supports angmax values in -90 deg. to 90 deg., tightening the value on branch 34 from 360.0 to 60.0 deg.\u001b[39m\n"
     ]
    },
    {
     "name": "stdout",
     "output_type": "stream",
     "text": [
      "\u001b[35m[warn | PowerModels]: this code only supports angmin values in -90 deg. to 90 deg., tightening the value on branch 44 from -360.0 to -60.0 deg.\u001b[39m\n"
     ]
    },
    {
     "name": "stdout",
     "output_type": "stream",
     "text": [
      "\u001b[35m[warn | PowerModels]: this code only supports angmax values in -90 deg. to 90 deg., tightening the value on branch 44 from 360.0 to 60.0 deg.\u001b[39m\n"
     ]
    },
    {
     "name": "stdout",
     "output_type": "stream",
     "text": [
      "\u001b[35m[warn | PowerModels]: this code only supports angmin values in -90 deg. to 90 deg., tightening the value on branch 55 from -360.0 to -60.0 deg.\u001b[39m\n"
     ]
    },
    {
     "name": "stdout",
     "output_type": "stream",
     "text": [
      "\u001b[35m[warn | PowerModels]: this code only supports angmax values in -90 deg. to 90 deg., tightening the value on branch 55 from 360.0 to 60.0 deg.\u001b[39m\n"
     ]
    },
    {
     "name": "stdout",
     "output_type": "stream",
     "text": [
      "\u001b[35m[warn | PowerModels]: this code only supports angmin values in -90 deg. to 90 deg., tightening the value on branch 17 from -360.0 to -60.0 deg.\u001b[39m\n"
     ]
    },
    {
     "name": "stdout",
     "output_type": "stream",
     "text": [
      "\u001b[35m[warn | PowerModels]: this code only supports angmax values in -90 deg. to 90 deg., tightening the value on branch 17 from 360.0 to 60.0 deg.\u001b[39m\n"
     ]
    },
    {
     "name": "stdout",
     "output_type": "stream",
     "text": [
      "\u001b[35m[warn | PowerModels]: this code only supports angmin values in -90 deg. to 90 deg., tightening the value on branch 71 from -360.0 to -60.0 deg.\u001b[39m\n"
     ]
    },
    {
     "name": "stdout",
     "output_type": "stream",
     "text": [
      "\u001b[35m[warn | PowerModels]: this code only supports angmax values in -90 deg. to 90 deg., tightening the value on branch 71 from 360.0 to 60.0 deg.\u001b[39m\n"
     ]
    },
    {
     "name": "stdout",
     "output_type": "stream",
     "text": [
      "\u001b[35m[warn | PowerModels]: this code only supports angmin values in -90 deg. to 90 deg., tightening the value on branch 37 from -360.0 to -60.0 deg.\u001b[39m\n"
     ]
    },
    {
     "name": "stdout",
     "output_type": "stream",
     "text": [
      "\u001b[35m[warn | PowerModels]: this code only supports angmax values in -90 deg. to 90 deg., tightening the value on branch 37 from 360.0 to 60.0 deg.\u001b[39m\n"
     ]
    },
    {
     "name": "stdout",
     "output_type": "stream",
     "text": [
      "\u001b[35m[warn | PowerModels]: this code only supports angmin values in -90 deg. to 90 deg., tightening the value on branch 47 from -360.0 to -60.0 deg.\u001b[39m\n"
     ]
    },
    {
     "name": "stdout",
     "output_type": "stream",
     "text": [
      "\u001b[35m[warn | PowerModels]: this code only supports angmax values in -90 deg. to 90 deg., tightening the value on branch 47 from 360.0 to 60.0 deg.\u001b[39m\n"
     ]
    },
    {
     "name": "stdout",
     "output_type": "stream",
     "text": [
      "\u001b[35m[warn | PowerModels]: this code only supports angmin values in -90 deg. to 90 deg., tightening the value on branch 9 from -360.0 to -60.0 deg.\u001b[39m\n"
     ]
    },
    {
     "name": "stdout",
     "output_type": "stream",
     "text": [
      "\u001b[35m[warn | PowerModels]: this code only supports angmax values in -90 deg. to 90 deg., tightening the value on branch 9 from 360.0 to 60.0 deg.\u001b[39m\n"
     ]
    },
    {
     "name": "stdout",
     "output_type": "stream",
     "text": [
      "\u001b[35m[warn | PowerModels]: this code only supports angmin values in -90 deg. to 90 deg., tightening the value on branch 73 from -360.0 to -60.0 deg.\u001b[39m\n"
     ]
    },
    {
     "name": "stdout",
     "output_type": "stream",
     "text": [
      "\u001b[35m[warn | PowerModels]: this code only supports angmax values in -90 deg. to 90 deg., tightening the value on branch 73 from 360.0 to 60.0 deg.\u001b[39m\n"
     ]
    },
    {
     "name": "stdout",
     "output_type": "stream",
     "text": [
      "\u001b[35m[warn | PowerModels]: this code only supports angmin values in -90 deg. to 90 deg., tightening the value on branch 12 from -360.0 to -60.0 deg.\u001b[39m\n"
     ]
    },
    {
     "name": "stdout",
     "output_type": "stream",
     "text": [
      "\u001b[35m[warn | PowerModels]: this code only supports angmax values in -90 deg. to 90 deg., tightening the value on branch 12 from 360.0 to 60.0 deg.\u001b[39m\n"
     ]
    },
    {
     "name": "stdout",
     "output_type": "stream",
     "text": [
      "\u001b[35m[warn | PowerModels]: this code only supports angmin values in -90 deg. to 90 deg., tightening the value on branch 79 from -360.0 to -60.0 deg.\u001b[39m\n"
     ]
    },
    {
     "name": "stdout",
     "output_type": "stream",
     "text": [
      "\u001b[35m[warn | PowerModels]: this code only supports angmax values in -90 deg. to 90 deg., tightening the value on branch 79 from 360.0 to 60.0 deg.\u001b[39m\n"
     ]
    },
    {
     "name": "stdout",
     "output_type": "stream",
     "text": [
      "\u001b[35m[warn | PowerModels]: this code only supports angmin values in -90 deg. to 90 deg., tightening the value on branch 20 from -360.0 to -60.0 deg.\u001b[39m\n"
     ]
    },
    {
     "name": "stdout",
     "output_type": "stream",
     "text": [
      "\u001b[35m[warn | PowerModels]: this code only supports angmax values in -90 deg. to 90 deg., tightening the value on branch 20 from 360.0 to 60.0 deg.\u001b[39m\n"
     ]
    },
    {
     "name": "stdout",
     "output_type": "stream",
     "text": [
      "\u001b[35m[warn | PowerModels]: this code only supports angmin values in -90 deg. to 90 deg., tightening the value on branch 6 from -360.0 to -60.0 deg.\u001b[39m\n"
     ]
    },
    {
     "name": "stdout",
     "output_type": "stream",
     "text": [
      "\u001b[35m[warn | PowerModels]: this code only supports angmax values in -90 deg. to 90 deg., tightening the value on branch 6 from 360.0 to 60.0 deg.\u001b[39m\n"
     ]
    },
    {
     "name": "stdout",
     "output_type": "stream",
     "text": [
      "\u001b[35m[warn | PowerModels]: this code only supports angmin values in -90 deg. to 90 deg., tightening the value on branch 80 from -360.0 to -60.0 deg.\u001b[39m\n"
     ]
    },
    {
     "name": "stdout",
     "output_type": "stream",
     "text": [
      "\u001b[35m[warn | PowerModels]: this code only supports angmax values in -90 deg. to 90 deg., tightening the value on branch 80 from 360.0 to 60.0 deg.\u001b[39m\n"
     ]
    },
    {
     "name": "stdout",
     "output_type": "stream",
     "text": [
      "\u001b[35m[warn | PowerModels]: this code only supports angmin values in -90 deg. to 90 deg., tightening the value on branch 70 from -360.0 to -60.0 deg.\u001b[39m\n"
     ]
    },
    {
     "name": "stdout",
     "output_type": "stream",
     "text": [
      "\u001b[35m[warn | PowerModels]: this code only supports angmax values in -90 deg. to 90 deg., tightening the value on branch 70 from 360.0 to 60.0 deg.\u001b[39m\n"
     ]
    },
    {
     "name": "stdout",
     "output_type": "stream",
     "text": [
      "\u001b[35m[warn | PowerModels]: this code only supports angmin values in -90 deg. to 90 deg., tightening the value on branch 14 from -360.0 to -60.0 deg.\u001b[39m\n"
     ]
    },
    {
     "name": "stdout",
     "output_type": "stream",
     "text": [
      "\u001b[35m[warn | PowerModels]: this code only supports angmax values in -90 deg. to 90 deg., tightening the value on branch 14 from 360.0 to 60.0 deg.\u001b[39m\n"
     ]
    },
    {
     "name": "stdout",
     "output_type": "stream",
     "text": [
      "\u001b[35m[warn | PowerModels]: this code only supports angmin values in -90 deg. to 90 deg., tightening the value on branch 7 from -360.0 to -60.0 deg.\u001b[39m\n"
     ]
    },
    {
     "name": "stdout",
     "output_type": "stream",
     "text": [
      "\u001b[35m[warn | PowerModels]: this code only supports angmax values in -90 deg. to 90 deg., tightening the value on branch 7 from 360.0 to 60.0 deg.\u001b[39m\n"
     ]
    },
    {
     "name": "stdout",
     "output_type": "stream",
     "text": [
      "\u001b[35m[warn | PowerModels]: this code only supports angmin values in -90 deg. to 90 deg., tightening the value on branch 57 from -360.0 to -60.0 deg.\u001b[39m\n"
     ]
    },
    {
     "name": "stdout",
     "output_type": "stream",
     "text": [
      "\u001b[35m[warn | PowerModels]: this code only supports angmax values in -90 deg. to 90 deg., tightening the value on branch 57 from 360.0 to 60.0 deg.\u001b[39m\n"
     ]
    },
    {
     "name": "stdout",
     "output_type": "stream",
     "text": [
      "\u001b[35m[warn | PowerModels]: this code only supports angmin values in -90 deg. to 90 deg., tightening the value on branch 8 from -360.0 to -60.0 deg.\u001b[39m\n"
     ]
    },
    {
     "name": "stdout",
     "output_type": "stream",
     "text": [
      "\u001b[35m[warn | PowerModels]: this code only supports angmax values in -90 deg. to 90 deg., tightening the value on branch 8 from 360.0 to 60.0 deg.\u001b[39m\n"
     ]
    },
    {
     "name": "stdout",
     "output_type": "stream",
     "text": [
      "\u001b[35m[warn | PowerModels]: this code only supports angmin values in -90 deg. to 90 deg., tightening the value on branch 64 from -360.0 to -60.0 deg.\u001b[39m\n"
     ]
    },
    {
     "name": "stdout",
     "output_type": "stream",
     "text": [
      "\u001b[35m[warn | PowerModels]: this code only supports angmax values in -90 deg. to 90 deg., tightening the value on branch 64 from 360.0 to 60.0 deg.\u001b[39m\n"
     ]
    },
    {
     "name": "stdout",
     "output_type": "stream",
     "text": [
      "\u001b[35m[warn | PowerModels]: this code only supports angmin values in -90 deg. to 90 deg., tightening the value on branch 19 from -360.0 to -60.0 deg.\u001b[39m\n"
     ]
    },
    {
     "name": "stdout",
     "output_type": "stream",
     "text": [
      "\u001b[35m[warn | PowerModels]: this code only supports angmax values in -90 deg. to 90 deg., tightening the value on branch 19 from 360.0 to 60.0 deg.\u001b[39m\n"
     ]
    },
    {
     "name": "stdout",
     "output_type": "stream",
     "text": [
      "\u001b[35m[warn | PowerModels]: this code only supports angmin values in -90 deg. to 90 deg., tightening the value on branch 69 from -360.0 to -60.0 deg.\u001b[39m\n"
     ]
    },
    {
     "name": "stdout",
     "output_type": "stream",
     "text": [
      "\u001b[35m[warn | PowerModels]: this code only supports angmax values in -90 deg. to 90 deg., tightening the value on branch 69 from 360.0 to 60.0 deg.\u001b[39m\n"
     ]
    },
    {
     "name": "stdout",
     "output_type": "stream",
     "text": [
      "\u001b[35m[warn | PowerModels]: this code only supports angmin values in -90 deg. to 90 deg., tightening the value on branch 60 from -360.0 to -60.0 deg.\u001b[39m\n"
     ]
    },
    {
     "name": "stdout",
     "output_type": "stream",
     "text": [
      "\u001b[35m[warn | PowerModels]: this code only supports angmax values in -90 deg. to 90 deg., tightening the value on branch 60 from 360.0 to 60.0 deg.\u001b[39m\n"
     ]
    },
    {
     "name": "stdout",
     "output_type": "stream",
     "text": [
      "\u001b[35m[warn | PowerModels]: this code only supports angmin values in -90 deg. to 90 deg., tightening the value on branch 4 from -360.0 to -60.0 deg.\u001b[39m\n"
     ]
    },
    {
     "name": "stdout",
     "output_type": "stream",
     "text": [
      "\u001b[35m[warn | PowerModels]: this code only supports angmax values in -90 deg. to 90 deg., tightening the value on branch 4 from 360.0 to 60.0 deg.\u001b[39m\n"
     ]
    },
    {
     "name": "stdout",
     "output_type": "stream",
     "text": [
      "\u001b[35m[warn | PowerModels]: this code only supports angmin values in -90 deg. to 90 deg., tightening the value on branch 22 from -360.0 to -60.0 deg.\u001b[39m\n"
     ]
    },
    {
     "name": "stdout",
     "output_type": "stream",
     "text": [
      "\u001b[35m[warn | PowerModels]: this code only supports angmax values in -90 deg. to 90 deg., tightening the value on branch 22 from 360.0 to 60.0 deg.\u001b[39m\n"
     ]
    },
    {
     "name": "stdout",
     "output_type": "stream",
     "text": [
      "\u001b[35m[warn | PowerModels]: this code only supports angmin values in -90 deg. to 90 deg., tightening the value on branch 11 from -360.0 to -60.0 deg.\u001b[39m\n"
     ]
    },
    {
     "name": "stdout",
     "output_type": "stream",
     "text": [
      "\u001b[35m[warn | PowerModels]: this code only supports angmax values in -90 deg. to 90 deg., tightening the value on branch 11 from 360.0 to 60.0 deg.\u001b[39m\n"
     ]
    },
    {
     "name": "stdout",
     "output_type": "stream",
     "text": [
      "\u001b[35m[warn | PowerModels]: this code only supports angmin values in -90 deg. to 90 deg., tightening the value on branch 35 from -360.0 to -60.0 deg.\u001b[39m\n"
     ]
    },
    {
     "name": "stdout",
     "output_type": "stream",
     "text": [
      "\u001b[35m[warn | PowerModels]: this code only supports angmax values in -90 deg. to 90 deg., tightening the value on branch 35 from 360.0 to 60.0 deg.\u001b[39m\n"
     ]
    },
    {
     "name": "stdout",
     "output_type": "stream",
     "text": [
      "\u001b[35m[warn | PowerModels]: this code only supports angmin values in -90 deg. to 90 deg., tightening the value on branch 13 from -360.0 to -60.0 deg.\u001b[39m\n"
     ]
    },
    {
     "name": "stdout",
     "output_type": "stream",
     "text": [
      "\u001b[35m[warn | PowerModels]: this code only supports angmax values in -90 deg. to 90 deg., tightening the value on branch 13 from 360.0 to 60.0 deg.\u001b[39m\n"
     ]
    },
    {
     "name": "stdout",
     "output_type": "stream",
     "text": [
      "\u001b[35m[warn | PowerModels]: this code only supports angmin values in -90 deg. to 90 deg., tightening the value on branch 15 from -360.0 to -60.0 deg.\u001b[39m\n"
     ]
    },
    {
     "name": "stdout",
     "output_type": "stream",
     "text": [
      "\u001b[35m[warn | PowerModels]: this code only supports angmax values in -90 deg. to 90 deg., tightening the value on branch 15 from 360.0 to 60.0 deg.\u001b[39m\n"
     ]
    },
    {
     "name": "stdout",
     "output_type": "stream",
     "text": [
      "\u001b[35m[warn | PowerModels]: this code only supports angmin values in -90 deg. to 90 deg., tightening the value on branch 61 from -360.0 to -60.0 deg.\u001b[39m\n"
     ]
    },
    {
     "name": "stdout",
     "output_type": "stream",
     "text": [
      "\u001b[35m[warn | PowerModels]: this code only supports angmax values in -90 deg. to 90 deg., tightening the value on branch 61 from 360.0 to 60.0 deg.\u001b[39m\n"
     ]
    },
    {
     "name": "stdout",
     "output_type": "stream",
     "text": [
      "\u001b[35m[warn | PowerModels]: this code only supports angmin values in -90 deg. to 90 deg., tightening the value on branch 67 from -360.0 to -60.0 deg.\u001b[39m\n"
     ]
    },
    {
     "name": "stdout",
     "output_type": "stream",
     "text": [
      "\u001b[35m[warn | PowerModels]: this code only supports angmax values in -90 deg. to 90 deg., tightening the value on branch 67 from 360.0 to 60.0 deg.\u001b[39m\n"
     ]
    },
    {
     "name": "stdout",
     "output_type": "stream",
     "text": [
      "\u001b[35m[warn | PowerModels]: this code only supports angmin values in -90 deg. to 90 deg., tightening the value on branch 16 from -360.0 to -60.0 deg.\u001b[39m\n"
     ]
    },
    {
     "name": "stdout",
     "output_type": "stream",
     "text": [
      "\u001b[35m[warn | PowerModels]: this code only supports angmax values in -90 deg. to 90 deg., tightening the value on branch 16 from 360.0 to 60.0 deg.\u001b[39m\n"
     ]
    },
    {
     "name": "stdout",
     "output_type": "stream",
     "text": [
      "\u001b[35m[warn | PowerModels]: this code only supports angmin values in -90 deg. to 90 deg., tightening the value on branch 40 from -360.0 to -60.0 deg.\u001b[39m\n"
     ]
    },
    {
     "name": "stdout",
     "output_type": "stream",
     "text": [
      "\u001b[35m[warn | PowerModels]: this code only supports angmax values in -90 deg. to 90 deg., tightening the value on branch 40 from 360.0 to 60.0 deg.\u001b[39m\n"
     ]
    },
    {
     "name": "stdout",
     "output_type": "stream",
     "text": [
      "\u001b[35m[warn | PowerModels]: this code only supports angmin values in -90 deg. to 90 deg., tightening the value on branch 21 from -360.0 to -60.0 deg.\u001b[39m\n"
     ]
    },
    {
     "name": "stdout",
     "output_type": "stream",
     "text": [
      "\u001b[35m[warn | PowerModels]: this code only supports angmax values in -90 deg. to 90 deg., tightening the value on branch 21 from 360.0 to 60.0 deg.\u001b[39m\n"
     ]
    },
    {
     "name": "stdout",
     "output_type": "stream",
     "text": [
      "\u001b[35m[warn | PowerModels]: this code only supports angmin values in -90 deg. to 90 deg., tightening the value on branch 38 from -360.0 to -60.0 deg.\u001b[39m\n"
     ]
    },
    {
     "name": "stdout",
     "output_type": "stream",
     "text": [
      "\u001b[35m[warn | PowerModels]: this code only supports angmax values in -90 deg. to 90 deg., tightening the value on branch 38 from 360.0 to 60.0 deg.\u001b[39m\n"
     ]
    },
    {
     "name": "stdout",
     "output_type": "stream",
     "text": [
      "\u001b[35m[warn | PowerModels]: this code only supports angmin values in -90 deg. to 90 deg., tightening the value on branch 46 from -360.0 to -60.0 deg.\u001b[39m\n"
     ]
    },
    {
     "name": "stdout",
     "output_type": "stream",
     "text": [
      "\u001b[35m[warn | PowerModels]: this code only supports angmax values in -90 deg. to 90 deg., tightening the value on branch 46 from 360.0 to 60.0 deg.\u001b[39m\n"
     ]
    },
    {
     "name": "stdout",
     "output_type": "stream",
     "text": [
      "\u001b[35m[warn | PowerModels]: this code only supports angmin values in -90 deg. to 90 deg., tightening the value on branch 72 from -360.0 to -60.0 deg.\u001b[39m\n"
     ]
    },
    {
     "name": "stdout",
     "output_type": "stream",
     "text": [
      "\u001b[35m[warn | PowerModels]: this code only supports angmax values in -90 deg. to 90 deg., tightening the value on branch 72 from 360.0 to 60.0 deg.\u001b[39m\n"
     ]
    },
    {
     "name": "stdout",
     "output_type": "stream",
     "text": [
      "\u001b[35m[warn | PowerModels]: this code only supports angmin values in -90 deg. to 90 deg., tightening the value on branch 45 from -360.0 to -60.0 deg.\u001b[39m\n"
     ]
    },
    {
     "name": "stdout",
     "output_type": "stream",
     "text": [
      "\u001b[35m[warn | PowerModels]: this code only supports angmax values in -90 deg. to 90 deg., tightening the value on branch 45 from 360.0 to 60.0 deg.\u001b[39m\n"
     ]
    },
    {
     "name": "stdout",
     "output_type": "stream",
     "text": [
      "\u001b[35m[warn | PowerModels]: this code only supports angmin values in -90 deg. to 90 deg., tightening the value on branch 68 from -360.0 to -60.0 deg.\u001b[39m\n"
     ]
    },
    {
     "name": "stdout",
     "output_type": "stream",
     "text": [
      "\u001b[35m[warn | PowerModels]: this code only supports angmax values in -90 deg. to 90 deg., tightening the value on branch 68 from 360.0 to 60.0 deg.\u001b[39m\n"
     ]
    },
    {
     "name": "stdout",
     "output_type": "stream",
     "text": [
      "\u001b[35m[warn | PowerModels]: this code only supports angmin values in -90 deg. to 90 deg., tightening the value on branch 56 from -360.0 to -60.0 deg.\u001b[39m\n"
     ]
    },
    {
     "name": "stdout",
     "output_type": "stream",
     "text": [
      "\u001b[35m[warn | PowerModels]: this code only supports angmax values in -90 deg. to 90 deg., tightening the value on branch 56 from 360.0 to 60.0 deg.\u001b[39m\n"
     ]
    },
    {
     "name": "stdout",
     "output_type": "stream",
     "text": [
      "\u001b[35m[warn | PowerModels]: this code only supports angmin values in -90 deg. to 90 deg., tightening the value on branch 36 from -360.0 to -60.0 deg.\u001b[39m\n"
     ]
    },
    {
     "name": "stdout",
     "output_type": "stream",
     "text": [
      "\u001b[35m[warn | PowerModels]: this code only supports angmax values in -90 deg. to 90 deg., tightening the value on branch 36 from 360.0 to 60.0 deg.\u001b[39m\n"
     ]
    },
    {
     "name": "stdout",
     "output_type": "stream",
     "text": [
      "\u001b[35m[warn | PowerModels]: this code only supports angmin values in -90 deg. to 90 deg., tightening the value on branch 66 from -360.0 to -60.0 deg.\u001b[39m\n"
     ]
    },
    {
     "name": "stdout",
     "output_type": "stream",
     "text": [
      "\u001b[35m[warn | PowerModels]: this code only supports angmax values in -90 deg. to 90 deg., tightening the value on branch 66 from 360.0 to 60.0 deg.\u001b[39m\n"
     ]
    },
    {
     "name": "stdout",
     "output_type": "stream",
     "text": [
      "\u001b[35m[warn | PowerModels]: this code only supports angmin values in -90 deg. to 90 deg., tightening the value on branch 76 from -360.0 to -60.0 deg.\u001b[39m\n"
     ]
    },
    {
     "name": "stdout",
     "output_type": "stream",
     "text": [
      "\u001b[35m[warn | PowerModels]: this code only supports angmax values in -90 deg. to 90 deg., tightening the value on branch 76 from 360.0 to 60.0 deg.\u001b[39m\n"
     ]
    },
    {
     "name": "stdout",
     "output_type": "stream",
     "text": [
      "\u001b[35m[warn | PowerModels]: this code only supports angmin values in -90 deg. to 90 deg., tightening the value on branch 48 from -360.0 to -60.0 deg.\u001b[39m\n"
     ]
    },
    {
     "name": "stdout",
     "output_type": "stream",
     "text": [
      "\u001b[35m[warn | PowerModels]: this code only supports angmax values in -90 deg. to 90 deg., tightening the value on branch 48 from 360.0 to 60.0 deg.\u001b[39m\n"
     ]
    },
    {
     "name": "stdout",
     "output_type": "stream",
     "text": [
      "\u001b[35m[warn | PowerModels]: this code only supports angmin values in -90 deg. to 90 deg., tightening the value on branch 18 from -360.0 to -60.0 deg.\u001b[39m\n"
     ]
    },
    {
     "name": "stdout",
     "output_type": "stream",
     "text": [
      "\u001b[35m[warn | PowerModels]: this code only supports angmax values in -90 deg. to 90 deg., tightening the value on branch 18 from 360.0 to 60.0 deg.\u001b[39m\n"
     ]
    },
    {
     "name": "stdout",
     "output_type": "stream",
     "text": [
      "\u001b[35m[warn | PowerModels]: this code only supports angmin values in -90 deg. to 90 deg., tightening the value on branch 30 from -360.0 to -60.0 deg.\u001b[39m\n"
     ]
    },
    {
     "name": "stdout",
     "output_type": "stream",
     "text": [
      "\u001b[35m[warn | PowerModels]: this code only supports angmax values in -90 deg. to 90 deg., tightening the value on branch 30 from 360.0 to 60.0 deg.\u001b[39m\n"
     ]
    },
    {
     "name": "stdout",
     "output_type": "stream",
     "text": [
      "\u001b[35m[warn | PowerModels]: this code only supports angmin values in -90 deg. to 90 deg., tightening the value on branch 3 from -360.0 to -60.0 deg.\u001b[39m\n"
     ]
    },
    {
     "name": "stdout",
     "output_type": "stream",
     "text": [
      "\u001b[35m[warn | PowerModels]: this code only supports angmax values in -90 deg. to 90 deg., tightening the value on branch 3 from 360.0 to 60.0 deg.\u001b[39m\n"
     ]
    },
    {
     "name": "stdout",
     "output_type": "stream",
     "text": [
      "\u001b[35m[warn | PowerModels]: this code only supports positive rate_a values, changing the value on branch 32 to 812.8833\u001b[39m\n"
     ]
    },
    {
     "name": "stdout",
     "output_type": "stream",
     "text": [
      "\u001b[35m[warn | PowerModels]: this code only supports positive rate_a values, changing the value on branch 29 to 136.0822\u001b[39m\n"
     ]
    },
    {
     "name": "stdout",
     "output_type": "stream",
     "text": [
      "\u001b[35m[warn | PowerModels]: this code only supports positive rate_a values, changing the value on branch 1 to 3847.3894\u001b[39m\n"
     ]
    },
    {
     "name": "stdout",
     "output_type": "stream",
     "text": [
      "\u001b[35m[warn | PowerModels]: this code only supports positive rate_a values, changing the value on branch 54 to 150.0137\u001b[39m\n"
     ]
    },
    {
     "name": "stdout",
     "output_type": "stream",
     "text": [
      "\u001b[35m[warn | PowerModels]: this code only supports positive rate_a values, changing the value on branch 78 to 532.3157\u001b[39m\n"
     ]
    },
    {
     "name": "stdout",
     "output_type": "stream",
     "text": [
      "\u001b[35m[warn | PowerModels]: this code only supports positive rate_a values, changing the value on branch 2 to 1247.4434\u001b[39m\n"
     ]
    },
    {
     "name": "stdout",
     "output_type": "stream",
     "text": [
      "\u001b[35m[warn | PowerModels]: this code only supports positive rate_a values, changing the value on branch 74 to 144.1927\u001b[39m\n"
     ]
    },
    {
     "name": "stdout",
     "output_type": "stream",
     "text": [
      "\u001b[35m[warn | PowerModels]: this code only supports positive rate_a values, changing the value on branch 41 to 1733.9543\u001b[39m\n"
     ]
    },
    {
     "name": "stdout",
     "output_type": "stream",
     "text": [
      "\u001b[35m[warn | PowerModels]: this code only supports positive rate_a values, changing the value on branch 65 to 1578.0932\u001b[39m\n"
     ]
    },
    {
     "name": "stdout",
     "output_type": "stream",
     "text": [
      "\u001b[35m[warn | PowerModels]: this code only supports positive rate_a values, changing the value on branch 51 to 2507.6787\u001b[39m\n"
     ]
    },
    {
     "name": "stdout",
     "output_type": "stream",
     "text": [
      "\u001b[35m[warn | PowerModels]: this code only supports positive rate_a values, changing the value on branch 53 to 3192.2455\u001b[39m\n"
     ]
    },
    {
     "name": "stdout",
     "output_type": "stream",
     "text": [
      "\u001b[35m[warn | PowerModels]: this code only supports positive rate_a values, changing the value on branch 27 to 612.8195\u001b[39m\n"
     ]
    },
    {
     "name": "stdout",
     "output_type": "stream",
     "text": [
      "\u001b[35m[warn | PowerModels]: this code only supports positive rate_a values, changing the value on branch 75 to 272.1359\u001b[39m\n"
     ]
    },
    {
     "name": "stdout",
     "output_type": "stream",
     "text": [
      "\u001b[35m[warn | PowerModels]: this code only supports positive rate_a values, changing the value on branch 42 to 462.4661\u001b[39m\n"
     ]
    },
    {
     "name": "stdout",
     "output_type": "stream",
     "text": [
      "\u001b[35m[warn | PowerModels]: this code only supports positive rate_a values, changing the value on branch 33 to 6194.1498\u001b[39m\n"
     ]
    },
    {
     "name": "stdout",
     "output_type": "stream",
     "text": [
      "\u001b[35m[warn | PowerModels]: this code only supports positive rate_a values, changing the value on branch 28 to 1960.5504\u001b[39m\n"
     ]
    },
    {
     "name": "stdout",
     "output_type": "stream",
     "text": [
      "\u001b[35m[warn | PowerModels]: this code only supports positive rate_a values, changing the value on branch 50 to 935.724\u001b[39m\n"
     ]
    },
    {
     "name": "stdout",
     "output_type": "stream",
     "text": [
      "\u001b[35m[warn | PowerModels]: this code only supports positive rate_a values, changing the value on branch 52 to 2027.3706\u001b[39m\n"
     ]
    },
    {
     "name": "stdout",
     "output_type": "stream",
     "text": [
      "\u001b[35m[warn | PowerModels]: this code only supports positive rate_a values, changing the value on branch 63 to 744.1237\u001b[39m\n"
     ]
    },
    {
     "name": "stdout",
     "output_type": "stream",
     "text": [
      "\u001b[35m[warn | PowerModels]: this code only supports positive rate_a values, changing the value on branch 26 to 1349.3681\u001b[39m\n"
     ]
    },
    {
     "name": "stdout",
     "output_type": "stream",
     "text": [
      "\u001b[35m[warn | PowerModels]: this code only supports positive rate_a values, changing the value on branch 10 to 1267.6318\u001b[39m\n"
     ]
    },
    {
     "name": "stdout",
     "output_type": "stream",
     "text": [
      "\u001b[35m[warn | PowerModels]: this code only supports positive rate_a values, changing the value on branch 77 to 359.1489\u001b[39m\n"
     ]
    },
    {
     "name": "stdout",
     "output_type": "stream",
     "text": [
      "\u001b[35m[warn | PowerModels]: this code only supports positive rate_a values, changing the value on branch 24 to 1468.3499\u001b[39m\n"
     ]
    },
    {
     "name": "stdout",
     "output_type": "stream",
     "text": [
      "\u001b[35m[warn | PowerModels]: this code only supports positive rate_a values, changing the value on branch 58 to 1078.3132\u001b[39m\n"
     ]
    },
    {
     "name": "stdout",
     "output_type": "stream",
     "text": [
      "\u001b[35m[warn | PowerModels]: this code only supports positive rate_a values, changing the value on branch 25 to 1851.9923\u001b[39m\n"
     ]
    },
    {
     "name": "stdout",
     "output_type": "stream",
     "text": [
      "\u001b[35m[warn | PowerModels]: this code only supports positive rate_a values, changing the value on branch 23 to 869.6329\u001b[39m\n"
     ]
    },
    {
     "name": "stdout",
     "output_type": "stream",
     "text": [
      "\u001b[35m[warn | PowerModels]: this code only supports positive rate_a values, changing the value on branch 49 to 2406.1829\u001b[39m\n"
     ]
    },
    {
     "name": "stdout",
     "output_type": "stream",
     "text": [
      "\u001b[35m[warn | PowerModels]: this code only supports positive rate_a values, changing the value on branch 59 to 1528.7107\u001b[39m\n"
     ]
    },
    {
     "name": "stdout",
     "output_type": "stream",
     "text": [
      "\u001b[35m[warn | PowerModels]: this code only supports positive rate_a values, changing the value on branch 5 to 729.0435\u001b[39m\n"
     ]
    },
    {
     "name": "stdout",
     "output_type": "stream",
     "text": [
      "\u001b[35m[warn | PowerModels]: this code only supports positive rate_a values, changing the value on branch 31 to 144.6636\u001b[39m\n"
     ]
    },
    {
     "name": "stdout",
     "output_type": "stream",
     "text": [
      "\u001b[35m[warn | PowerModels]: this code only supports positive rate_a values, changing the value on branch 62 to 731.4562\u001b[39m\n"
     ]
    },
    {
     "name": "stdout",
     "output_type": "stream",
     "text": [
      "\u001b[35m[warn | PowerModels]: this code only supports positive rate_a values, changing the value on branch 43 to 189.0384\u001b[39m\n"
     ]
    },
    {
     "name": "stdout",
     "output_type": "stream",
     "text": [
      "\u001b[35m[warn | PowerModels]: this code only supports positive rate_a values, changing the value on branch 39 to 988.4954\u001b[39m\n"
     ]
    },
    {
     "name": "stdout",
     "output_type": "stream",
     "text": [
      "\u001b[35m[warn | PowerModels]: this code only supports positive rate_a values, changing the value on branch 34 to 368.2616\u001b[39m\n"
     ]
    },
    {
     "name": "stdout",
     "output_type": "stream",
     "text": [
      "\u001b[35m[warn | PowerModels]: this code only supports positive rate_a values, changing the value on branch 44 to 123.5494\u001b[39m\n"
     ]
    },
    {
     "name": "stdout",
     "output_type": "stream",
     "text": [
      "\u001b[35m[warn | PowerModels]: this code only supports positive rate_a values, changing the value on branch 55 to 275.154\u001b[39m\n"
     ]
    },
    {
     "name": "stdout",
     "output_type": "stream",
     "text": [
      "\u001b[35m[warn | PowerModels]: this code only supports positive rate_a values, changing the value on branch 17 to 1015.9951\u001b[39m\n"
     ]
    },
    {
     "name": "stdout",
     "output_type": "stream",
     "text": [
      "\u001b[35m[warn | PowerModels]: this code only supports positive rate_a values, changing the value on branch 71 to 734.3806\u001b[39m\n"
     ]
    },
    {
     "name": "stdout",
     "output_type": "stream",
     "text": [
      "\u001b[35m[warn | PowerModels]: this code only supports positive rate_a values, changing the value on branch 37 to 2375.4807\u001b[39m\n"
     ]
    },
    {
     "name": "stdout",
     "output_type": "stream",
     "text": [
      "\u001b[35m[warn | PowerModels]: this code only supports positive rate_a values, changing the value on branch 47 to 1198.5817\u001b[39m\n"
     ]
    },
    {
     "name": "stdout",
     "output_type": "stream",
     "text": [
      "\u001b[35m[warn | PowerModels]: this code only supports positive rate_a values, changing the value on branch 9 to 653.6106\u001b[39m\n"
     ]
    },
    {
     "name": "stdout",
     "output_type": "stream",
     "text": [
      "\u001b[35m[warn | PowerModels]: this code only supports positive rate_a values, changing the value on branch 73 to 94.0253\u001b[39m\n"
     ]
    },
    {
     "name": "stdout",
     "output_type": "stream",
     "text": [
      "\u001b[35m[warn | PowerModels]: this code only supports positive rate_a values, changing the value on branch 12 to 680.3141\u001b[39m\n"
     ]
    },
    {
     "name": "stdout",
     "output_type": "stream",
     "text": [
      "\u001b[35m[warn | PowerModels]: this code only supports positive rate_a values, changing the value on branch 79 to 1956.9253\u001b[39m\n"
     ]
    },
    {
     "name": "stdout",
     "output_type": "stream",
     "text": [
      "\u001b[35m[warn | PowerModels]: this code only supports positive rate_a values, changing the value on branch 20 to 261.3029\u001b[39m\n"
     ]
    },
    {
     "name": "stdout",
     "output_type": "stream",
     "text": [
      "\u001b[35m[warn | PowerModels]: this code only supports positive rate_a values, changing the value on branch 6 to 1080.9867\u001b[39m\n"
     ]
    },
    {
     "name": "stdout",
     "output_type": "stream",
     "text": [
      "\u001b[35m[warn | PowerModels]: this code only supports positive rate_a values, changing the value on branch 80 to 932.4501\u001b[39m\n"
     ]
    },
    {
     "name": "stdout",
     "output_type": "stream",
     "text": [
      "\u001b[35m[warn | PowerModels]: this code only supports positive rate_a values, changing the value on branch 70 to 394.0634\u001b[39m\n"
     ]
    },
    {
     "name": "stdout",
     "output_type": "stream",
     "text": [
      "\u001b[35m[warn | PowerModels]: this code only supports positive rate_a values, changing the value on branch 14 to 1235.159\u001b[39m\n"
     ]
    },
    {
     "name": "stdout",
     "output_type": "stream",
     "text": [
      "\u001b[35m[warn | PowerModels]: this code only supports positive rate_a values, changing the value on branch 7 to 637.3598\u001b[39m\n"
     ]
    },
    {
     "name": "stdout",
     "output_type": "stream",
     "text": [
      "\u001b[35m[warn | PowerModels]: this code only supports positive rate_a values, changing the value on branch 57 to 1722.0167\u001b[39m\n"
     ]
    },
    {
     "name": "stdout",
     "output_type": "stream",
     "text": [
      "\u001b[35m[warn | PowerModels]: this code only supports positive rate_a values, changing the value on branch 8 to 2183.3951\u001b[39m\n"
     ]
    },
    {
     "name": "stdout",
     "output_type": "stream",
     "text": [
      "\u001b[35m[warn | PowerModels]: this code only supports positive rate_a values, changing the value on branch 64 to 432.1229\u001b[39m\n"
     ]
    },
    {
     "name": "stdout",
     "output_type": "stream",
     "text": [
      "\u001b[35m[warn | PowerModels]: this code only supports positive rate_a values, changing the value on branch 19 to 202.4509\u001b[39m\n"
     ]
    },
    {
     "name": "stdout",
     "output_type": "stream",
     "text": [
      "\u001b[35m[warn | PowerModels]: this code only supports positive rate_a values, changing the value on branch 69 to 376.4361\u001b[39m\n"
     ]
    },
    {
     "name": "stdout",
     "output_type": "stream",
     "text": [
      "\u001b[35m[warn | PowerModels]: this code only supports positive rate_a values, changing the value on branch 60 to 1565.2459\u001b[39m\n"
     ]
    },
    {
     "name": "stdout",
     "output_type": "stream",
     "text": [
      "\u001b[35m[warn | PowerModels]: this code only supports positive rate_a values, changing the value on branch 4 to 769.3336\u001b[39m\n"
     ]
    },
    {
     "name": "stdout",
     "output_type": "stream",
     "text": [
      "\u001b[35m[warn | PowerModels]: this code only supports positive rate_a values, changing the value on branch 22 to 1548.8537\u001b[39m\n"
     ]
    },
    {
     "name": "stdout",
     "output_type": "stream",
     "text": [
      "\u001b[35m[warn | PowerModels]: this code only supports positive rate_a values, changing the value on branch 11 to 372.0129\u001b[39m\n"
     ]
    },
    {
     "name": "stdout",
     "output_type": "stream",
     "text": [
      "\u001b[35m[warn | PowerModels]: this code only supports positive rate_a values, changing the value on branch 35 to 95.0594\u001b[39m\n"
     ]
    },
    {
     "name": "stdout",
     "output_type": "stream",
     "text": [
      "\u001b[35m[warn | PowerModels]: this code only supports positive rate_a values, changing the value on branch 13 to 2476.9148\u001b[39m\n"
     ]
    },
    {
     "name": "stdout",
     "output_type": "stream",
     "text": [
      "\u001b[35m[warn | PowerModels]: this code only supports positive rate_a values, changing the value on branch 15 to 1211.7638\u001b[39m\n"
     ]
    },
    {
     "name": "stdout",
     "output_type": "stream",
     "text": [
      "\u001b[35m[warn | PowerModels]: this code only supports positive rate_a values, changing the value on branch 61 to 3800.3591\u001b[39m\n"
     ]
    },
    {
     "name": "stdout",
     "output_type": "stream",
     "text": [
      "\u001b[35m[warn | PowerModels]: this code only supports positive rate_a values, changing the value on branch 67 to 475.8181\u001b[39m\n"
     ]
    },
    {
     "name": "stdout",
     "output_type": "stream",
     "text": [
      "\u001b[35m[warn | PowerModels]: this code only supports positive rate_a values, changing the value on branch 16 to 532.6556\u001b[39m\n"
     ]
    },
    {
     "name": "stdout",
     "output_type": "stream",
     "text": [
      "\u001b[35m[warn | PowerModels]: this code only supports positive rate_a values, changing the value on branch 40 to 1559.2165\u001b[39m\n"
     ]
    },
    {
     "name": "stdout",
     "output_type": "stream",
     "text": [
      "\u001b[35m[warn | PowerModels]: this code only supports positive rate_a values, changing the value on branch 21 to 1585.711\u001b[39m\n"
     ]
    },
    {
     "name": "stdout",
     "output_type": "stream",
     "text": [
      "\u001b[35m[warn | PowerModels]: this code only supports positive rate_a values, changing the value on branch 38 to 370.9633\u001b[39m\n"
     ]
    },
    {
     "name": "stdout",
     "output_type": "stream",
     "text": [
      "\u001b[35m[warn | PowerModels]: this code only supports positive rate_a values, changing the value on branch 46 to 117.9016\u001b[39m\n"
     ]
    },
    {
     "name": "stdout",
     "output_type": "stream",
     "text": [
      "\u001b[35m[warn | PowerModels]: this code only supports positive rate_a values, changing the value on branch 72 to 808.3805\u001b[39m\n"
     ]
    },
    {
     "name": "stdout",
     "output_type": "stream",
     "text": [
      "\u001b[35m[warn | PowerModels]: this code only supports positive rate_a values, changing the value on branch 45 to 2111.1396\u001b[39m\n"
     ]
    },
    {
     "name": "stdout",
     "output_type": "stream",
     "text": [
      "\u001b[35m[warn | PowerModels]: this code only supports positive rate_a values, changing the value on branch 68 to 902.8196\u001b[39m\n"
     ]
    },
    {
     "name": "stdout",
     "output_type": "stream",
     "text": [
      "\u001b[35m[warn | PowerModels]: this code only supports positive rate_a values, changing the value on branch 56 to 272.719\u001b[39m\n"
     ]
    },
    {
     "name": "stdout",
     "output_type": "stream",
     "text": [
      "\u001b[35m[warn | PowerModels]: this code only supports positive rate_a values, changing the value on branch 36 to 91.3498\u001b[39m\n"
     ]
    },
    {
     "name": "stdout",
     "output_type": "stream",
     "text": [
      "\u001b[35m[warn | PowerModels]: this code only supports positive rate_a values, changing the value on branch 66 to 588.2735\u001b[39m\n"
     ]
    },
    {
     "name": "stdout",
     "output_type": "stream",
     "text": [
      "\u001b[35m[warn | PowerModels]: this code only supports positive rate_a values, changing the value on branch 76 to 82.9227\u001b[39m\n"
     ]
    },
    {
     "name": "stdout",
     "output_type": "stream",
     "text": [
      "\u001b[35m[warn | PowerModels]: this code only supports positive rate_a values, changing the value on branch 48 to 1633.2724\u001b[39m\n"
     ]
    },
    {
     "name": "stdout",
     "output_type": "stream",
     "text": [
      "\u001b[35m[warn | PowerModels]: this code only supports positive rate_a values, changing the value on branch 18 to 2027.4102\u001b[39m\n"
     ]
    },
    {
     "name": "stdout",
     "output_type": "stream",
     "text": [
      "\u001b[35m[warn | PowerModels]: this code only supports positive rate_a values, changing the value on branch 30 to 216.8628\u001b[39m\n"
     ]
    },
    {
     "name": "stdout",
     "output_type": "stream",
     "text": [
      "\u001b[35m[warn | PowerModels]: this code only supports positive rate_a values, changing the value on branch 3 to 2935.5795\u001b[39m\n"
     ]
    },
    {
     "name": "stdout",
     "output_type": "stream",
     "text": [
      "\n",
      "******************************************************************************\n",
      "This program contains Ipopt, a library for large-scale nonlinear optimization.\n",
      " Ipopt is released as open source code under the Eclipse Public License (EPL).\n",
      "         For more information visit https://github.com/coin-or/Ipopt\n",
      "******************************************************************************\n",
      "\n",
      "  0.125596 seconds (190.98 k allocations: 12.731 MiB, 80.00% compilation time: 56% of which was recompilation)\n"
     ]
    },
    {
     "name": "stdout",
     "output_type": "stream",
     "text": [
      "The cost of generation is 42676.35385771657.\n",
      "Economic Dispatch Results:\n",
      "The solver termination status is LOCALLY_SOLVED\n",
      "Generator 5: Active Power Generation = 491.4505325427948 MW\n",
      "Generator 4: Active Power Generation = 92.11229238261056 MW\n",
      "Generator 6: Active Power Generation = 92.11229238261056 MW\n",
      "Generator 7: Active Power Generation = 338.55481114400106 MW\n",
      "Generator 2: Active Power Generation = 92.11229238261056 MW\n",
      "Generator 3: Active Power Generation = 43.684491743379624 MW\n",
      "Generator 1: Active Power Generation = 140.77327465070385 MW\n"
     ]
    }
   ],
   "source": [
    "include(joinpath(@__DIR__, \"ac-ED.jl\"))\n"
   ]
  },
  {
   "cell_type": "code",
   "execution_count": 6,
   "id": "5a2fd184-8a92-4164-9914-af393ce5d48f",
   "metadata": {},
   "outputs": [
    {
     "ename": "UndefVarError",
     "evalue": "UndefVarError: `vm` not defined",
     "output_type": "error",
     "traceback": [
      "UndefVarError: `vm` not defined\n",
      "\n",
      "Stacktrace:\n",
      " [1] top-level scope\n",
      "   @ ~/Documents/MIT/Fall 2023/6.7200/Project/p1.ipynb:4"
     ]
    }
   ],
   "source": [
    "using Plots\n",
    "using DataFrames\n",
    "# Extract solution values\n",
    "vm_values = value.(vm)\n",
    "va_values = value.(va)\n",
    "pg_values = value.(pg)\n",
    "p_values = value.(p)\n",
    "q_values = value.(q)\n",
    "p_dc_values = value.(p_dc)"
   ]
  },
  {
   "cell_type": "code",
   "execution_count": 7,
   "id": "b1364edf-d1ab-415f-96d5-e606dc5b03c1",
   "metadata": {},
   "outputs": [
    {
     "ename": "UndefVarError",
     "evalue": "UndefVarError: `vm_values` not defined",
     "output_type": "error",
     "traceback": [
      "UndefVarError: `vm_values` not defined\n",
      "\n",
      "Stacktrace:\n",
      " [1] top-level scope\n",
      "   @ ~/Documents/MIT/Fall 2023/6.7200/Project/p1.ipynb:2"
     ]
    }
   ],
   "source": [
    "# Extract indices from DenseAxisArray\n",
    "bus_indices = collect(axes(vm_values)[1])\n",
    "gen_indices = collect(axes(pg_values)[1]);\n",
    "branch_indices = collect(axes(p_values)[1])"
   ]
  },
  {
   "cell_type": "code",
   "execution_count": 8,
   "id": "647b847f-e116-4e02-b52a-24e3f99294db",
   "metadata": {},
   "outputs": [
    {
     "ename": "UndefVarError",
     "evalue": "UndefVarError: `bus_indices` not defined",
     "output_type": "error",
     "traceback": [
      "UndefVarError: `bus_indices` not defined\n",
      "\n",
      "Stacktrace:\n",
      " [1] top-level scope\n",
      "   @ ~/Documents/MIT/Fall 2023/6.7200/Project/p1.ipynb:1"
     ]
    }
   ],
   "source": [
    "VM = zeros(length(bus_indices));\n",
    "for i = 1:length(bus_indices)\n",
    "VM[bus_indices[i]]  = vm_values[bus_indices[i]]\n",
    "end\n",
    "    \n",
    "VA = zeros(length(bus_indices));\n",
    "for i = 1:length(bus_indices)\n",
    "VA[bus_indices[i]]  = va_values[bus_indices[i]]\n",
    "end\n",
    "\n",
    "PG = zeros(length(gen_indices));\n",
    "for i = 1:length(gen_indices)\n",
    "PG[gen_indices[i]]  = pg_values[gen_indices[i]]\n",
    "end\n",
    "\n",
    "PB = zeros(length(branch_indices));\n",
    "for i = 1:length(branch_indices)\n",
    "PB[i]  = p_values[branch_indices[i]]\n",
    "end\n",
    "\n",
    "QB = zeros(length(branch_indices));\n",
    "for i = 1:length(branch_indices)\n",
    "QB[i]  = q_values[branch_indices[i]]\n",
    "end"
   ]
  },
  {
   "cell_type": "code",
   "execution_count": 9,
   "id": "f0471637-6f68-47a2-96f5-9f2bcd61415a",
   "metadata": {},
   "outputs": [
    {
     "ename": "UndefVarError",
     "evalue": "UndefVarError: `bus_indices` not defined",
     "output_type": "error",
     "traceback": [
      "UndefVarError: `bus_indices` not defined\n",
      "\n",
      "Stacktrace:\n",
      " [1] top-level scope\n",
      "   @ ~/Documents/MIT/Fall 2023/6.7200/Project/p1.ipynb:3"
     ]
    }
   ],
   "source": [
    "# Plot Voltage Profile\n",
    "plot(title=\"Voltage Magnitude Profile\", xlabel=\"Bus\", ylabel=\"Voltage Magnitude (pu)\")\n",
    "bar(bus_indices, VM, label=\"Voltage Magnitude\", legend=:topleft)"
   ]
  },
  {
   "cell_type": "code",
   "execution_count": 192,
   "id": "dee9b5b7-16bd-407a-afbf-ed23f763c868",
   "metadata": {},
   "outputs": [
    {
     "data": {
      "text/html": [
       "<div><div style = \"float: left;\"><span>5×2 DataFrame</span></div><div style = \"clear: both;\"></div></div><div class = \"data-frame\" style = \"overflow-x: scroll;\"><table class = \"data-frame\" style = \"margin-bottom: 6px;\"><thead><tr class = \"header\"><th class = \"rowNumber\" style = \"font-weight: bold; text-align: right;\">Row</th><th style = \"text-align: left;\">Voltage_Magnitude</th><th style = \"text-align: left;\">Voltage_Angle</th></tr><tr class = \"subheader headerLastRow\"><th class = \"rowNumber\" style = \"font-weight: bold; text-align: right;\"></th><th title = \"Float64\" style = \"text-align: left;\">Float64</th><th title = \"Float64\" style = \"text-align: left;\">Float64</th></tr></thead><tbody><tr><td class = \"rowNumber\" style = \"font-weight: bold; text-align: right;\">1</td><td style = \"text-align: right;\">1.0</td><td style = \"text-align: right;\">0.0</td></tr><tr><td class = \"rowNumber\" style = \"font-weight: bold; text-align: right;\">2</td><td style = \"text-align: right;\">1.0</td><td style = \"text-align: right;\">0.0</td></tr><tr><td class = \"rowNumber\" style = \"font-weight: bold; text-align: right;\">3</td><td style = \"text-align: right;\">1.0</td><td style = \"text-align: right;\">0.0</td></tr><tr><td class = \"rowNumber\" style = \"font-weight: bold; text-align: right;\">4</td><td style = \"text-align: right;\">1.0</td><td style = \"text-align: right;\">0.0</td></tr><tr><td class = \"rowNumber\" style = \"font-weight: bold; text-align: right;\">5</td><td style = \"text-align: right;\">1.0</td><td style = \"text-align: right;\">0.0</td></tr></tbody></table></div>"
      ],
      "text/latex": [
       "\\begin{tabular}{r|cc}\n",
       "\t& Voltage\\_Magnitude & Voltage\\_Angle\\\\\n",
       "\t\\hline\n",
       "\t& Float64 & Float64\\\\\n",
       "\t\\hline\n",
       "\t1 & 1.0 & 0.0 \\\\\n",
       "\t2 & 1.0 & 0.0 \\\\\n",
       "\t3 & 1.0 & 0.0 \\\\\n",
       "\t4 & 1.0 & 0.0 \\\\\n",
       "\t5 & 1.0 & 0.0 \\\\\n",
       "\\end{tabular}\n"
      ],
      "text/plain": [
       "\u001b[1m5×2 DataFrame\u001b[0m\n",
       "\u001b[1m Row \u001b[0m│\u001b[1m Voltage_Magnitude \u001b[0m\u001b[1m Voltage_Angle \u001b[0m\n",
       "     │\u001b[90m Float64           \u001b[0m\u001b[90m Float64       \u001b[0m\n",
       "─────┼──────────────────────────────────\n",
       "   1 │               1.0            0.0\n",
       "   2 │               1.0            0.0\n",
       "   3 │               1.0            0.0\n",
       "   4 │               1.0            0.0\n",
       "   5 │               1.0            0.0"
      ]
     },
     "metadata": {},
     "output_type": "display_data"
    }
   ],
   "source": [
    "# Create a DataFrame\n",
    "df = DataFrame( Voltage_Magnitude = VM, Voltage_Angle = VA)\n",
    "# Display the DataFrame\n",
    "display(df)"
   ]
  },
  {
   "cell_type": "code",
   "execution_count": 193,
   "id": "0dd8338a-d0b8-4d7a-abd3-dfc29325ff5e",
   "metadata": {},
   "outputs": [
    {
     "data": {
      "text/html": [
       "<div><div style = \"float: left;\"><span>5×1 DataFrame</span></div><div style = \"clear: both;\"></div></div><div class = \"data-frame\" style = \"overflow-x: scroll;\"><table class = \"data-frame\" style = \"margin-bottom: 6px;\"><thead><tr class = \"header\"><th class = \"rowNumber\" style = \"font-weight: bold; text-align: right;\">Row</th><th style = \"text-align: left;\">Active_Power</th></tr><tr class = \"subheader headerLastRow\"><th class = \"rowNumber\" style = \"font-weight: bold; text-align: right;\"></th><th title = \"Float64\" style = \"text-align: left;\">Float64</th></tr></thead><tbody><tr><td class = \"rowNumber\" style = \"font-weight: bold; text-align: right;\">1</td><td style = \"text-align: right;\">-9.9284e-7</td></tr><tr><td class = \"rowNumber\" style = \"font-weight: bold; text-align: right;\">2</td><td style = \"text-align: right;\">-9.93317e-7</td></tr><tr><td class = \"rowNumber\" style = \"font-weight: bold; text-align: right;\">3</td><td style = \"text-align: right;\">-9.96659e-7</td></tr><tr><td class = \"rowNumber\" style = \"font-weight: bold; text-align: right;\">4</td><td style = \"text-align: right;\">-9.97494e-7</td></tr><tr><td class = \"rowNumber\" style = \"font-weight: bold; text-align: right;\">5</td><td style = \"text-align: right;\">-9.89976e-7</td></tr></tbody></table></div>"
      ],
      "text/latex": [
       "\\begin{tabular}{r|c}\n",
       "\t& Active\\_Power\\\\\n",
       "\t\\hline\n",
       "\t& Float64\\\\\n",
       "\t\\hline\n",
       "\t1 & -9.9284e-7 \\\\\n",
       "\t2 & -9.93317e-7 \\\\\n",
       "\t3 & -9.96659e-7 \\\\\n",
       "\t4 & -9.97494e-7 \\\\\n",
       "\t5 & -9.89976e-7 \\\\\n",
       "\\end{tabular}\n"
      ],
      "text/plain": [
       "\u001b[1m5×1 DataFrame\u001b[0m\n",
       "\u001b[1m Row \u001b[0m│\u001b[1m Active_Power \u001b[0m\n",
       "     │\u001b[90m Float64      \u001b[0m\n",
       "─────┼──────────────\n",
       "   1 │  -9.9284e-7\n",
       "   2 │  -9.93317e-7\n",
       "   3 │  -9.96659e-7\n",
       "   4 │  -9.97494e-7\n",
       "   5 │  -9.89976e-7"
      ]
     },
     "metadata": {},
     "output_type": "display_data"
    }
   ],
   "source": [
    "# Create a DataFrame\n",
    "df = DataFrame(Active_Power = PG*ref[:baseMVA])\n",
    "# Display the DataFrame\n",
    "display(df)"
   ]
  },
  {
   "cell_type": "code",
   "execution_count": 171,
   "id": "c35b0afe-c1a8-4248-abc2-bf4999efecf5",
   "metadata": {},
   "outputs": [
    {
     "data": {
      "text/html": [
       "<div><div style = \"float: left;\"><span>82×3 DataFrame</span></div><div style = \"float: right;\"><span style = \"font-style: italic;\">57 rows omitted</span></div><div style = \"clear: both;\"></div></div><div class = \"data-frame\" style = \"overflow-x: scroll;\"><table class = \"data-frame\" style = \"margin-bottom: 6px;\"><thead><tr class = \"header\"><th class = \"rowNumber\" style = \"font-weight: bold; text-align: right;\">Row</th><th style = \"text-align: left;\">branch</th><th style = \"text-align: left;\">Active_Power_flow</th><th style = \"text-align: left;\">Reactive_Power_flow</th></tr><tr class = \"subheader headerLastRow\"><th class = \"rowNumber\" style = \"font-weight: bold; text-align: right;\"></th><th title = \"Tuple{Int64, Int64, Int64}\" style = \"text-align: left;\">Tuple…</th><th title = \"Float64\" style = \"text-align: left;\">Float64</th><th title = \"Float64\" style = \"text-align: left;\">Float64</th></tr></thead><tbody><tr><td class = \"rowNumber\" style = \"font-weight: bold; text-align: right;\">1</td><td style = \"text-align: left;\">(5, 2, 5)</td><td style = \"text-align: right;\">83.2952</td><td style = \"text-align: right;\">4.45475</td></tr><tr><td class = \"rowNumber\" style = \"font-weight: bold; text-align: right;\">2</td><td style = \"text-align: left;\">(35, 25, 27)</td><td style = \"text-align: right;\">-4.90491</td><td style = \"text-align: right;\">-0.655519</td></tr><tr><td class = \"rowNumber\" style = \"font-weight: bold; text-align: right;\">3</td><td style = \"text-align: left;\">(16, 12, 13)</td><td style = \"text-align: right;\">-6.62081e-31</td><td style = \"text-align: right;\">-10.2789</td></tr><tr><td class = \"rowNumber\" style = \"font-weight: bold; text-align: right;\">4</td><td style = \"text-align: left;\">(20, 14, 15)</td><td style = \"text-align: right;\">1.5865</td><td style = \"text-align: right;\">0.733683</td></tr><tr><td class = \"rowNumber\" style = \"font-weight: bold; text-align: right;\">5</td><td style = \"text-align: left;\">(12, 6, 10)</td><td style = \"text-align: right;\">15.8606</td><td style = \"text-align: right;\">0.942237</td></tr><tr><td class = \"rowNumber\" style = \"font-weight: bold; text-align: right;\">6</td><td style = \"text-align: left;\">(30, 15, 23)</td><td style = \"text-align: right;\">4.99241</td><td style = \"text-align: right;\">3.0709</td></tr><tr><td class = \"rowNumber\" style = \"font-weight: bold; text-align: right;\">7</td><td style = \"text-align: left;\">(28, 10, 22)</td><td style = \"text-align: right;\">7.57847</td><td style = \"text-align: right;\">4.46717</td></tr><tr><td class = \"rowNumber\" style = \"font-weight: bold; text-align: right;\">8</td><td style = \"text-align: left;\">(24, 19, 20)</td><td style = \"text-align: right;\">-6.73564</td><td style = \"text-align: right;\">-2.5336</td></tr><tr><td class = \"rowNumber\" style = \"font-weight: bold; text-align: right;\">9</td><td style = \"text-align: left;\">(8, 5, 7)</td><td style = \"text-align: right;\">-13.9762</td><td style = \"text-align: right;\">9.36016</td></tr><tr><td class = \"rowNumber\" style = \"font-weight: bold; text-align: right;\">10</td><td style = \"text-align: left;\">(17, 12, 14)</td><td style = \"text-align: right;\">7.86301</td><td style = \"text-align: right;\">2.49275</td></tr><tr><td class = \"rowNumber\" style = \"font-weight: bold; text-align: right;\">11</td><td style = \"text-align: left;\">(23, 18, 19)</td><td style = \"text-align: right;\">2.76959</td><td style = \"text-align: right;\">0.876966</td></tr><tr><td class = \"rowNumber\" style = \"font-weight: bold; text-align: right;\">12</td><td style = \"text-align: left;\">(19, 12, 16)</td><td style = \"text-align: right;\">7.16745</td><td style = \"text-align: right;\">3.80857</td></tr><tr><td class = \"rowNumber\" style = \"font-weight: bold; text-align: right;\">13</td><td style = \"text-align: left;\">(32, 23, 24)</td><td style = \"text-align: right;\">1.75978</td><td style = \"text-align: right;\">1.405</td></tr><tr><td style = \"text-align: right;\">&vellip;</td><td style = \"text-align: right;\">&vellip;</td><td style = \"text-align: right;\">&vellip;</td><td style = \"text-align: right;\">&vellip;</td></tr><tr><td class = \"rowNumber\" style = \"font-weight: bold; text-align: right;\">71</td><td style = \"text-align: left;\">(40, 28, 8)</td><td style = \"text-align: right;\">0.501622</td><td style = \"text-align: right;\">-4.37183</td></tr><tr><td class = \"rowNumber\" style = \"font-weight: bold; text-align: right;\">72</td><td style = \"text-align: left;\">(34, 26, 25)</td><td style = \"text-align: right;\">-3.5</td><td style = \"text-align: right;\">-2.3</td></tr><tr><td class = \"rowNumber\" style = \"font-weight: bold; text-align: right;\">73</td><td style = \"text-align: left;\">(4, 4, 3)</td><td style = \"text-align: right;\">-75.0216</td><td style = \"text-align: right;\">-1.24065</td></tr><tr><td class = \"rowNumber\" style = \"font-weight: bold; text-align: right;\">74</td><td style = \"text-align: left;\">(13, 11, 9)</td><td style = \"text-align: right;\">-2.34391e-31</td><td style = \"text-align: right;\">11.8705</td></tr><tr><td class = \"rowNumber\" style = \"font-weight: bold; text-align: right;\">75</td><td style = \"text-align: left;\">(21, 17, 16)</td><td style = \"text-align: right;\">-3.60241</td><td style = \"text-align: right;\">-1.85904</td></tr><tr><td class = \"rowNumber\" style = \"font-weight: bold; text-align: right;\">76</td><td style = \"text-align: left;\">(2, 3, 1)</td><td style = \"text-align: right;\">-78.158</td><td style = \"text-align: right;\">-3.69862</td></tr><tr><td class = \"rowNumber\" style = \"font-weight: bold; text-align: right;\">77</td><td style = \"text-align: left;\">(27, 21, 10)</td><td style = \"text-align: right;\">-15.6147</td><td style = \"text-align: right;\">-9.56675</td></tr><tr><td class = \"rowNumber\" style = \"font-weight: bold; text-align: right;\">78</td><td style = \"text-align: left;\">(10, 8, 6)</td><td style = \"text-align: right;\">-29.5017</td><td style = \"text-align: right;\">9.90038</td></tr><tr><td class = \"rowNumber\" style = \"font-weight: bold; text-align: right;\">79</td><td style = \"text-align: left;\">(26, 17, 10)</td><td style = \"text-align: right;\">-5.39759</td><td style = \"text-align: right;\">-3.94096</td></tr><tr><td class = \"rowNumber\" style = \"font-weight: bold; text-align: right;\">80</td><td style = \"text-align: left;\">(18, 15, 12)</td><td style = \"text-align: right;\">-17.6222</td><td style = \"text-align: right;\">-6.70203</td></tr><tr><td class = \"rowNumber\" style = \"font-weight: bold; text-align: right;\">81</td><td style = \"text-align: left;\">(38, 30, 27)</td><td style = \"text-align: right;\">-6.92973</td><td style = \"text-align: right;\">-1.35722</td></tr><tr><td class = \"rowNumber\" style = \"font-weight: bold; text-align: right;\">82</td><td style = \"text-align: left;\">(15, 12, 4)</td><td style = \"text-align: right;\">-44.0761</td><td style = \"text-align: right;\">-10.6646</td></tr></tbody></table></div>"
      ],
      "text/latex": [
       "\\begin{tabular}{r|ccc}\n",
       "\t& branch & Active\\_Power\\_flow & Reactive\\_Power\\_flow\\\\\n",
       "\t\\hline\n",
       "\t& Tuple… & Float64 & Float64\\\\\n",
       "\t\\hline\n",
       "\t1 & (5, 2, 5) & 83.2952 & 4.45475 \\\\\n",
       "\t2 & (35, 25, 27) & -4.90491 & -0.655519 \\\\\n",
       "\t3 & (16, 12, 13) & -6.62081e-31 & -10.2789 \\\\\n",
       "\t4 & (20, 14, 15) & 1.5865 & 0.733683 \\\\\n",
       "\t5 & (12, 6, 10) & 15.8606 & 0.942237 \\\\\n",
       "\t6 & (30, 15, 23) & 4.99241 & 3.0709 \\\\\n",
       "\t7 & (28, 10, 22) & 7.57847 & 4.46717 \\\\\n",
       "\t8 & (24, 19, 20) & -6.73564 & -2.5336 \\\\\n",
       "\t9 & (8, 5, 7) & -13.9762 & 9.36016 \\\\\n",
       "\t10 & (17, 12, 14) & 7.86301 & 2.49275 \\\\\n",
       "\t11 & (23, 18, 19) & 2.76959 & 0.876966 \\\\\n",
       "\t12 & (19, 12, 16) & 7.16745 & 3.80857 \\\\\n",
       "\t13 & (32, 23, 24) & 1.75978 & 1.405 \\\\\n",
       "\t14 & (37, 27, 29) & 6.19272 & 1.67415 \\\\\n",
       "\t15 & (6, 2, 6) & 62.8633 & 0.657014 \\\\\n",
       "\t16 & (41, 6, 28) & 18.7807 & -0.0670703 \\\\\n",
       "\t17 & (11, 6, 9) & 27.6911 & -5.39342 \\\\\n",
       "\t18 & (36, 28, 27) & 18.2196 & 5.39391 \\\\\n",
       "\t19 & (1, 1, 2) & 138.0 & 0.268531 \\\\\n",
       "\t20 & (31, 22, 24) & 5.6397 & 2.72363 \\\\\n",
       "\t21 & (9, 6, 7) & 37.2862 & -0.678995 \\\\\n",
       "\t22 & (22, 15, 18) & 6.00991 & 1.85908 \\\\\n",
       "\t23 & (14, 9, 10) & 27.6911 & 4.63815 \\\\\n",
       "\t24 & (3, 2, 4) & 46.9358 & 3.0941 \\\\\n",
       "\t25 & (39, 29, 30) & 3.70456 & 0.60758 \\\\\n",
       "\t26 & (29, 21, 22) & -1.88527 & -1.63325 \\\\\n",
       "\t27 & (7, 4, 6) & 69.0975 & -12.5156 \\\\\n",
       "\t28 & (25, 10, 20) & 9.03497 & 3.4514 \\\\\n",
       "\t29 & (33, 24, 25) & -1.35033 & 1.72826 \\\\\n",
       "\t30 & (40, 8, 28) & -0.498261 & 0.0996169 \\\\\n",
       "\t$\\dots$ & $\\dots$ & $\\dots$ & $\\dots$ \\\\\n",
       "\\end{tabular}\n"
      ],
      "text/plain": [
       "\u001b[1m82×3 DataFrame\u001b[0m\n",
       "\u001b[1m Row \u001b[0m│\u001b[1m branch       \u001b[0m\u001b[1m Active_Power_flow \u001b[0m\u001b[1m Reactive_Power_flow \u001b[0m\n",
       "     │\u001b[90m Tuple…       \u001b[0m\u001b[90m Float64           \u001b[0m\u001b[90m Float64             \u001b[0m\n",
       "─────┼──────────────────────────────────────────────────────\n",
       "   1 │ (5, 2, 5)          83.2952                  4.45475\n",
       "   2 │ (35, 25, 27)       -4.90491                -0.655519\n",
       "   3 │ (16, 12, 13)       -6.62081e-31           -10.2789\n",
       "   4 │ (20, 14, 15)        1.5865                  0.733683\n",
       "   5 │ (12, 6, 10)        15.8606                  0.942237\n",
       "   6 │ (30, 15, 23)        4.99241                 3.0709\n",
       "   7 │ (28, 10, 22)        7.57847                 4.46717\n",
       "   8 │ (24, 19, 20)       -6.73564                -2.5336\n",
       "   9 │ (8, 5, 7)         -13.9762                  9.36016\n",
       "  10 │ (17, 12, 14)        7.86301                 2.49275\n",
       "  11 │ (23, 18, 19)        2.76959                 0.876966\n",
       "  ⋮  │      ⋮                ⋮                   ⋮\n",
       "  73 │ (4, 4, 3)         -75.0216                 -1.24065\n",
       "  74 │ (13, 11, 9)        -2.34391e-31            11.8705\n",
       "  75 │ (21, 17, 16)       -3.60241                -1.85904\n",
       "  76 │ (2, 3, 1)         -78.158                  -3.69862\n",
       "  77 │ (27, 21, 10)      -15.6147                 -9.56675\n",
       "  78 │ (10, 8, 6)        -29.5017                  9.90038\n",
       "  79 │ (26, 17, 10)       -5.39759                -3.94096\n",
       "  80 │ (18, 15, 12)      -17.6222                 -6.70203\n",
       "  81 │ (38, 30, 27)       -6.92973                -1.35722\n",
       "  82 │ (15, 12, 4)       -44.0761                -10.6646\n",
       "\u001b[36m                                             61 rows omitted\u001b[0m"
      ]
     },
     "metadata": {},
     "output_type": "display_data"
    }
   ],
   "source": [
    "# Create a DataFrame\n",
    "df = DataFrame(branch = branch_indices,Active_Power_flow = PB*ref[:baseMVA],Reactive_Power_flow = QB*ref[:baseMVA])\n",
    "# Display the DataFrame\n",
    "display(df)"
   ]
  },
  {
   "cell_type": "code",
   "execution_count": 172,
   "id": "c3cb7274-473a-4d1e-afea-487885c21589",
   "metadata": {},
   "outputs": [
    {
     "data": {
      "image/png": "[encoded data removed]",
      "image/svg+xml": [
       "<?xml version=\"1.0\" encoding=\"utf-8\"?>\n",
       "<svg xmlns=\"http://www.w3.org/2000/svg\" xmlns:xlink=\"http://www.w3.org/1999/xlink\" width=\"600\" height=\"400\" viewBox=\"0 0 2400 1600\">\n",
       "<defs>\n",
       "  <clipPath id=\"clip250\">\n",
       "    <rect x=\"0\" y=\"0\" width=\"2400\" height=\"1600\"/>\n",
       "  </clipPath>\n",
       "</defs>\n",
       "<path clip-path=\"url(#clip250)\" d=\"M0 1600 L2400 1600 L2400 0 L0 0  Z\" fill=\"#ffffff\" fill-rule=\"evenodd\" fill-opacity=\"1\"/>\n",
       "<defs>\n",
       "  <clipPath id=\"clip251\">\n",
       "    <rect x=\"480\" y=\"0\" width=\"1681\" height=\"1600\"/>\n",
       "  </clipPath>\n",
       "</defs>\n",
       "<path clip-path=\"url(#clip250)\" d=\"M224.098 1486.45 L2352.76 1486.45 L2352.76 47.2441 L224.098 47.2441  Z\" fill=\"#ffffff\" fill-rule=\"evenodd\" fill-opacity=\"1\"/>\n",
       "<defs>\n",
       "  <clipPath id=\"clip252\">\n",
       "    <rect x=\"224\" y=\"47\" width=\"2130\" height=\"1440\"/>\n",
       "  </clipPath>\n",
       "</defs>\n",
       "<polyline clip-path=\"url(#clip252)\" style=\"stroke:#000000; stroke-linecap:round; stroke-linejoin:round; stroke-width:2; stroke-opacity:0.1; fill:none\" points=\"303.034,1486.45 303.034,47.2441 \"/>\n",
       "<polyline clip-path=\"url(#clip252)\" style=\"stroke:#000000; stroke-linecap:round; stroke-linejoin:round; stroke-width:2; stroke-opacity:0.1; fill:none\" points=\"938.771,1486.45 938.771,47.2441 \"/>\n",
       "<polyline clip-path=\"url(#clip252)\" style=\"stroke:#000000; stroke-linecap:round; stroke-linejoin:round; stroke-width:2; stroke-opacity:0.1; fill:none\" points=\"1574.51,1486.45 1574.51,47.2441 \"/>\n",
       "<polyline clip-path=\"url(#clip252)\" style=\"stroke:#000000; stroke-linecap:round; stroke-linejoin:round; stroke-width:2; stroke-opacity:0.1; fill:none\" points=\"2210.25,1486.45 2210.25,47.2441 \"/>\n",
       "<polyline clip-path=\"url(#clip250)\" style=\"stroke:#000000; stroke-linecap:round; stroke-linejoin:round; stroke-width:4; stroke-opacity:1; fill:none\" points=\"224.098,1486.45 2352.76,1486.45 \"/>\n",
       "<polyline clip-path=\"url(#clip250)\" style=\"stroke:#000000; stroke-linecap:round; stroke-linejoin:round; stroke-width:4; stroke-opacity:1; fill:none\" points=\"303.034,1486.45 303.034,1467.55 \"/>\n",
       "<polyline clip-path=\"url(#clip250)\" style=\"stroke:#000000; stroke-linecap:round; stroke-linejoin:round; stroke-width:4; stroke-opacity:1; fill:none\" points=\"938.771,1486.45 938.771,1467.55 \"/>\n",
       "<polyline clip-path=\"url(#clip250)\" style=\"stroke:#000000; stroke-linecap:round; stroke-linejoin:round; stroke-width:4; stroke-opacity:1; fill:none\" points=\"1574.51,1486.45 1574.51,1467.55 \"/>\n",
       "<polyline clip-path=\"url(#clip250)\" style=\"stroke:#000000; stroke-linecap:round; stroke-linejoin:round; stroke-width:4; stroke-opacity:1; fill:none\" points=\"2210.25,1486.45 2210.25,1467.55 \"/>\n",
       "<path clip-path=\"url(#clip250)\" d=\"M303.034 1517.37 Q299.423 1517.37 297.594 1520.93 Q295.788 1524.47 295.788 1531.6 Q295.788 1538.71 297.594 1542.27 Q299.423 1545.82 303.034 1545.82 Q306.668 1545.82 308.473 1542.27 Q310.302 1538.71 310.302 1531.6 Q310.302 1524.47 308.473 1520.93 Q306.668 1517.37 303.034 1517.37 M303.034 1513.66 Q308.844 1513.66 311.899 1518.27 Q314.978 1522.85 314.978 1531.6 Q314.978 1540.33 311.899 1544.94 Q308.844 1549.52 303.034 1549.52 Q297.223 1549.52 294.145 1544.94 Q291.089 1540.33 291.089 1531.6 Q291.089 1522.85 294.145 1518.27 Q297.223 1513.66 303.034 1513.66 Z\" fill=\"#000000\" fill-rule=\"nonzero\" fill-opacity=\"1\" /><path clip-path=\"url(#clip250)\" d=\"M913.459 1544.91 L921.098 1544.91 L921.098 1518.55 L912.788 1520.21 L912.788 1515.95 L921.051 1514.29 L925.727 1514.29 L925.727 1544.91 L933.366 1544.91 L933.366 1548.85 L913.459 1548.85 L913.459 1544.91 Z\" fill=\"#000000\" fill-rule=\"nonzero\" fill-opacity=\"1\" /><path clip-path=\"url(#clip250)\" d=\"M952.81 1517.37 Q949.199 1517.37 947.371 1520.93 Q945.565 1524.47 945.565 1531.6 Q945.565 1538.71 947.371 1542.27 Q949.199 1545.82 952.81 1545.82 Q956.445 1545.82 958.25 1542.27 Q960.079 1538.71 960.079 1531.6 Q960.079 1524.47 958.25 1520.93 Q956.445 1517.37 952.81 1517.37 M952.81 1513.66 Q958.621 1513.66 961.676 1518.27 Q964.755 1522.85 964.755 1531.6 Q964.755 1540.33 961.676 1544.94 Q958.621 1549.52 952.81 1549.52 Q947 1549.52 943.922 1544.94 Q940.866 1540.33 940.866 1531.6 Q940.866 1522.85 943.922 1518.27 Q947 1513.66 952.81 1513.66 Z\" fill=\"#000000\" fill-rule=\"nonzero\" fill-opacity=\"1\" /><path clip-path=\"url(#clip250)\" d=\"M1553.28 1544.91 L1569.6 1544.91 L1569.6 1548.85 L1547.66 1548.85 L1547.66 1544.91 Q1550.32 1542.16 1554.9 1537.53 Q1559.51 1532.88 1560.69 1531.53 Q1562.93 1529.01 1563.81 1527.27 Q1564.72 1525.51 1564.72 1523.82 Q1564.72 1521.07 1562.77 1519.33 Q1560.85 1517.6 1557.75 1517.6 Q1555.55 1517.6 1553.1 1518.36 Q1550.67 1519.13 1547.89 1520.68 L1547.89 1515.95 Q1550.71 1514.82 1553.17 1514.24 Q1555.62 1513.66 1557.66 1513.66 Q1563.03 1513.66 1566.22 1516.35 Q1569.42 1519.03 1569.42 1523.52 Q1569.42 1525.65 1568.61 1527.57 Q1567.82 1529.47 1565.71 1532.07 Q1565.13 1532.74 1562.03 1535.95 Q1558.93 1539.15 1553.28 1544.91 Z\" fill=\"#000000\" fill-rule=\"nonzero\" fill-opacity=\"1\" /><path clip-path=\"url(#clip250)\" d=\"M1589.42 1517.37 Q1585.81 1517.37 1583.98 1520.93 Q1582.17 1524.47 1582.17 1531.6 Q1582.17 1538.71 1583.98 1542.27 Q1585.81 1545.82 1589.42 1545.82 Q1593.05 1545.82 1594.86 1542.27 Q1596.68 1538.71 1596.68 1531.6 Q1596.68 1524.47 1594.86 1520.93 Q1593.05 1517.37 1589.42 1517.37 M1589.42 1513.66 Q1595.23 1513.66 1598.28 1518.27 Q1601.36 1522.85 1601.36 1531.6 Q1601.36 1540.33 1598.28 1544.94 Q1595.23 1549.52 1589.42 1549.52 Q1583.61 1549.52 1580.53 1544.94 Q1577.47 1540.33 1577.47 1531.6 Q1577.47 1522.85 1580.53 1518.27 Q1583.61 1513.66 1589.42 1513.66 Z\" fill=\"#000000\" fill-rule=\"nonzero\" fill-opacity=\"1\" /><path clip-path=\"url(#clip250)\" d=\"M2199.09 1530.21 Q2202.45 1530.93 2204.32 1533.2 Q2206.22 1535.47 2206.22 1538.8 Q2206.22 1543.92 2202.7 1546.72 Q2199.18 1549.52 2192.7 1549.52 Q2190.52 1549.52 2188.21 1549.08 Q2185.92 1548.66 2183.46 1547.81 L2183.46 1543.29 Q2185.41 1544.43 2187.72 1545.01 Q2190.04 1545.58 2192.56 1545.58 Q2196.96 1545.58 2199.25 1543.85 Q2201.57 1542.11 2201.57 1538.8 Q2201.57 1535.75 2199.41 1534.03 Q2197.28 1532.3 2193.46 1532.3 L2189.44 1532.3 L2189.44 1528.45 L2193.65 1528.45 Q2197.1 1528.45 2198.93 1527.09 Q2200.76 1525.7 2200.76 1523.11 Q2200.76 1520.45 2198.86 1519.03 Q2196.98 1517.6 2193.46 1517.6 Q2191.54 1517.6 2189.34 1518.01 Q2187.14 1518.43 2184.51 1519.31 L2184.51 1515.14 Q2187.17 1514.4 2189.48 1514.03 Q2191.82 1513.66 2193.88 1513.66 Q2199.2 1513.66 2202.31 1516.09 Q2205.41 1518.5 2205.41 1522.62 Q2205.41 1525.49 2203.76 1527.48 Q2202.12 1529.45 2199.09 1530.21 Z\" fill=\"#000000\" fill-rule=\"nonzero\" fill-opacity=\"1\" /><path clip-path=\"url(#clip250)\" d=\"M2225.08 1517.37 Q2221.47 1517.37 2219.64 1520.93 Q2217.84 1524.47 2217.84 1531.6 Q2217.84 1538.71 2219.64 1542.27 Q2221.47 1545.82 2225.08 1545.82 Q2228.72 1545.82 2230.52 1542.27 Q2232.35 1538.71 2232.35 1531.6 Q2232.35 1524.47 2230.52 1520.93 Q2228.72 1517.37 2225.08 1517.37 M2225.08 1513.66 Q2230.89 1513.66 2233.95 1518.27 Q2237.03 1522.85 2237.03 1531.6 Q2237.03 1540.33 2233.95 1544.94 Q2230.89 1549.52 2225.08 1549.52 Q2219.27 1549.52 2216.2 1544.94 Q2213.14 1540.33 2213.14 1531.6 Q2213.14 1522.85 2216.2 1518.27 Q2219.27 1513.66 2225.08 1513.66 Z\" fill=\"#000000\" fill-rule=\"nonzero\" fill-opacity=\"1\" /><polyline clip-path=\"url(#clip252)\" style=\"stroke:#000000; stroke-linecap:round; stroke-linejoin:round; stroke-width:2; stroke-opacity:0.1; fill:none\" points=\"224.098,1266.08 2352.76,1266.08 \"/>\n",
       "<polyline clip-path=\"url(#clip252)\" style=\"stroke:#000000; stroke-linecap:round; stroke-linejoin:round; stroke-width:2; stroke-opacity:0.1; fill:none\" points=\"224.098,1022.31 2352.76,1022.31 \"/>\n",
       "<polyline clip-path=\"url(#clip252)\" style=\"stroke:#000000; stroke-linecap:round; stroke-linejoin:round; stroke-width:2; stroke-opacity:0.1; fill:none\" points=\"224.098,778.547 2352.76,778.547 \"/>\n",
       "<polyline clip-path=\"url(#clip252)\" style=\"stroke:#000000; stroke-linecap:round; stroke-linejoin:round; stroke-width:2; stroke-opacity:0.1; fill:none\" points=\"224.098,534.779 2352.76,534.779 \"/>\n",
       "<polyline clip-path=\"url(#clip252)\" style=\"stroke:#000000; stroke-linecap:round; stroke-linejoin:round; stroke-width:2; stroke-opacity:0.1; fill:none\" points=\"224.098,291.012 2352.76,291.012 \"/>\n",
       "<polyline clip-path=\"url(#clip252)\" style=\"stroke:#000000; stroke-linecap:round; stroke-linejoin:round; stroke-width:2; stroke-opacity:0.1; fill:none\" points=\"224.098,47.2441 2352.76,47.2441 \"/>\n",
       "<polyline clip-path=\"url(#clip250)\" style=\"stroke:#000000; stroke-linecap:round; stroke-linejoin:round; stroke-width:4; stroke-opacity:1; fill:none\" points=\"224.098,1486.45 224.098,47.2441 \"/>\n",
       "<polyline clip-path=\"url(#clip250)\" style=\"stroke:#000000; stroke-linecap:round; stroke-linejoin:round; stroke-width:4; stroke-opacity:1; fill:none\" points=\"224.098,1266.08 242.996,1266.08 \"/>\n",
       "<polyline clip-path=\"url(#clip250)\" style=\"stroke:#000000; stroke-linecap:round; stroke-linejoin:round; stroke-width:4; stroke-opacity:1; fill:none\" points=\"224.098,1022.31 242.996,1022.31 \"/>\n",
       "<polyline clip-path=\"url(#clip250)\" style=\"stroke:#000000; stroke-linecap:round; stroke-linejoin:round; stroke-width:4; stroke-opacity:1; fill:none\" points=\"224.098,778.547 242.996,778.547 \"/>\n",
       "<polyline clip-path=\"url(#clip250)\" style=\"stroke:#000000; stroke-linecap:round; stroke-linejoin:round; stroke-width:4; stroke-opacity:1; fill:none\" points=\"224.098,534.779 242.996,534.779 \"/>\n",
       "<polyline clip-path=\"url(#clip250)\" style=\"stroke:#000000; stroke-linecap:round; stroke-linejoin:round; stroke-width:4; stroke-opacity:1; fill:none\" points=\"224.098,291.012 242.996,291.012 \"/>\n",
       "<polyline clip-path=\"url(#clip250)\" style=\"stroke:#000000; stroke-linecap:round; stroke-linejoin:round; stroke-width:4; stroke-opacity:1; fill:none\" points=\"224.098,47.2441 242.996,47.2441 \"/>\n",
       "<path clip-path=\"url(#clip250)\" d=\"M51.9875 1266.53 L81.6633 1266.53 L81.6633 1270.47 L51.9875 1270.47 L51.9875 1266.53 Z\" fill=\"#000000\" fill-rule=\"nonzero\" fill-opacity=\"1\" /><path clip-path=\"url(#clip250)\" d=\"M101.756 1251.88 Q98.1447 1251.88 96.316 1255.45 Q94.5104 1258.99 94.5104 1266.12 Q94.5104 1273.22 96.316 1276.79 Q98.1447 1280.33 101.756 1280.33 Q105.39 1280.33 107.196 1276.79 Q109.024 1273.22 109.024 1266.12 Q109.024 1258.99 107.196 1255.45 Q105.39 1251.88 101.756 1251.88 M101.756 1248.18 Q107.566 1248.18 110.621 1252.78 Q113.7 1257.37 113.7 1266.12 Q113.7 1274.84 110.621 1279.45 Q107.566 1284.03 101.756 1284.03 Q95.9456 1284.03 92.8669 1279.45 Q89.8114 1274.84 89.8114 1266.12 Q89.8114 1257.37 92.8669 1252.78 Q95.9456 1248.18 101.756 1248.18 Z\" fill=\"#000000\" fill-rule=\"nonzero\" fill-opacity=\"1\" /><path clip-path=\"url(#clip250)\" d=\"M121.918 1277.48 L126.802 1277.48 L126.802 1283.36 L121.918 1283.36 L121.918 1277.48 Z\" fill=\"#000000\" fill-rule=\"nonzero\" fill-opacity=\"1\" /><path clip-path=\"url(#clip250)\" d=\"M141.015 1279.43 L157.334 1279.43 L157.334 1283.36 L135.39 1283.36 L135.39 1279.43 Q138.052 1276.67 142.635 1272.04 Q147.242 1267.39 148.422 1266.05 Q150.668 1263.52 151.547 1261.79 Q152.45 1260.03 152.45 1258.34 Q152.45 1255.58 150.505 1253.85 Q148.584 1252.11 145.482 1252.11 Q143.283 1252.11 140.83 1252.88 Q138.399 1253.64 135.621 1255.19 L135.621 1250.47 Q138.445 1249.33 140.899 1248.76 Q143.353 1248.18 145.39 1248.18 Q150.76 1248.18 153.955 1250.86 Q157.149 1253.55 157.149 1258.04 Q157.149 1260.17 156.339 1262.09 Q155.552 1263.99 153.445 1266.58 Q152.867 1267.25 149.765 1270.47 Q146.663 1273.66 141.015 1279.43 Z\" fill=\"#000000\" fill-rule=\"nonzero\" fill-opacity=\"1\" /><path clip-path=\"url(#clip250)\" d=\"M167.195 1248.8 L185.552 1248.8 L185.552 1252.74 L171.478 1252.74 L171.478 1261.21 Q172.496 1260.86 173.515 1260.7 Q174.533 1260.52 175.552 1260.52 Q181.339 1260.52 184.718 1263.69 Q188.098 1266.86 188.098 1272.27 Q188.098 1277.85 184.626 1280.96 Q181.153 1284.03 174.834 1284.03 Q172.658 1284.03 170.39 1283.66 Q168.144 1283.29 165.737 1282.55 L165.737 1277.85 Q167.82 1278.99 170.042 1279.54 Q172.265 1280.1 174.741 1280.1 Q178.746 1280.1 181.084 1277.99 Q183.422 1275.89 183.422 1272.27 Q183.422 1268.66 181.084 1266.56 Q178.746 1264.45 174.741 1264.45 Q172.866 1264.45 170.991 1264.87 Q169.14 1265.28 167.195 1266.16 L167.195 1248.8 Z\" fill=\"#000000\" fill-rule=\"nonzero\" fill-opacity=\"1\" /><path clip-path=\"url(#clip250)\" d=\"M50.9921 1022.77 L80.6679 1022.77 L80.6679 1026.7 L50.9921 1026.7 L50.9921 1022.77 Z\" fill=\"#000000\" fill-rule=\"nonzero\" fill-opacity=\"1\" /><path clip-path=\"url(#clip250)\" d=\"M100.76 1008.11 Q97.1493 1008.11 95.3206 1011.68 Q93.515 1015.22 93.515 1022.35 Q93.515 1029.46 95.3206 1033.02 Q97.1493 1036.56 100.76 1036.56 Q104.395 1036.56 106.2 1033.02 Q108.029 1029.46 108.029 1022.35 Q108.029 1015.22 106.2 1011.68 Q104.395 1008.11 100.76 1008.11 M100.76 1004.41 Q106.571 1004.41 109.626 1009.02 Q112.705 1013.6 112.705 1022.35 Q112.705 1031.08 109.626 1035.68 Q106.571 1040.27 100.76 1040.27 Q94.9502 1040.27 91.8715 1035.68 Q88.816 1031.08 88.816 1022.35 Q88.816 1013.6 91.8715 1009.02 Q94.9502 1004.41 100.76 1004.41 Z\" fill=\"#000000\" fill-rule=\"nonzero\" fill-opacity=\"1\" /><path clip-path=\"url(#clip250)\" d=\"M120.922 1033.72 L125.807 1033.72 L125.807 1039.59 L120.922 1039.59 L120.922 1033.72 Z\" fill=\"#000000\" fill-rule=\"nonzero\" fill-opacity=\"1\" /><path clip-path=\"url(#clip250)\" d=\"M140.019 1035.66 L156.339 1035.66 L156.339 1039.59 L134.394 1039.59 L134.394 1035.66 Q137.056 1032.91 141.64 1028.28 Q146.246 1023.62 147.427 1022.28 Q149.672 1019.76 150.552 1018.02 Q151.455 1016.26 151.455 1014.57 Q151.455 1011.82 149.51 1010.08 Q147.589 1008.35 144.487 1008.35 Q142.288 1008.35 139.834 1009.11 Q137.404 1009.87 134.626 1011.42 L134.626 1006.7 Q137.45 1005.57 139.904 1004.99 Q142.357 1004.41 144.394 1004.41 Q149.765 1004.41 152.959 1007.1 Q156.154 1009.78 156.154 1014.27 Q156.154 1016.4 155.343 1018.32 Q154.556 1020.22 152.45 1022.81 Q151.871 1023.48 148.769 1026.7 Q145.668 1029.9 140.019 1035.66 Z\" fill=\"#000000\" fill-rule=\"nonzero\" fill-opacity=\"1\" /><path clip-path=\"url(#clip250)\" d=\"M176.153 1008.11 Q172.542 1008.11 170.714 1011.68 Q168.908 1015.22 168.908 1022.35 Q168.908 1029.46 170.714 1033.02 Q172.542 1036.56 176.153 1036.56 Q179.788 1036.56 181.593 1033.02 Q183.422 1029.46 183.422 1022.35 Q183.422 1015.22 181.593 1011.68 Q179.788 1008.11 176.153 1008.11 M176.153 1004.41 Q181.964 1004.41 185.019 1009.02 Q188.098 1013.6 188.098 1022.35 Q188.098 1031.08 185.019 1035.68 Q181.964 1040.27 176.153 1040.27 Q170.343 1040.27 167.265 1035.68 Q164.209 1031.08 164.209 1022.35 Q164.209 1013.6 167.265 1009.02 Q170.343 1004.41 176.153 1004.41 Z\" fill=\"#000000\" fill-rule=\"nonzero\" fill-opacity=\"1\" /><path clip-path=\"url(#clip250)\" d=\"M51.9875 778.999 L81.6633 778.999 L81.6633 782.934 L51.9875 782.934 L51.9875 778.999 Z\" fill=\"#000000\" fill-rule=\"nonzero\" fill-opacity=\"1\" /><path clip-path=\"url(#clip250)\" d=\"M101.756 764.346 Q98.1447 764.346 96.316 767.911 Q94.5104 771.452 94.5104 778.582 Q94.5104 785.688 96.316 789.253 Q98.1447 792.795 101.756 792.795 Q105.39 792.795 107.196 789.253 Q109.024 785.688 109.024 778.582 Q109.024 771.452 107.196 767.911 Q105.39 764.346 101.756 764.346 M101.756 760.642 Q107.566 760.642 110.621 765.249 Q113.7 769.832 113.7 778.582 Q113.7 787.309 110.621 791.915 Q107.566 796.498 101.756 796.498 Q95.9456 796.498 92.8669 791.915 Q89.8114 787.309 89.8114 778.582 Q89.8114 769.832 92.8669 765.249 Q95.9456 760.642 101.756 760.642 Z\" fill=\"#000000\" fill-rule=\"nonzero\" fill-opacity=\"1\" /><path clip-path=\"url(#clip250)\" d=\"M121.918 789.948 L126.802 789.948 L126.802 795.827 L121.918 795.827 L121.918 789.948 Z\" fill=\"#000000\" fill-rule=\"nonzero\" fill-opacity=\"1\" /><path clip-path=\"url(#clip250)\" d=\"M137.797 791.892 L145.436 791.892 L145.436 765.526 L137.126 767.193 L137.126 762.934 L145.39 761.267 L150.066 761.267 L150.066 791.892 L157.705 791.892 L157.705 795.827 L137.797 795.827 L137.797 791.892 Z\" fill=\"#000000\" fill-rule=\"nonzero\" fill-opacity=\"1\" /><path clip-path=\"url(#clip250)\" d=\"M167.195 761.267 L185.552 761.267 L185.552 765.202 L171.478 765.202 L171.478 773.674 Q172.496 773.327 173.515 773.165 Q174.533 772.98 175.552 772.98 Q181.339 772.98 184.718 776.151 Q188.098 779.323 188.098 784.739 Q188.098 790.318 184.626 793.42 Q181.153 796.498 174.834 796.498 Q172.658 796.498 170.39 796.128 Q168.144 795.758 165.737 795.017 L165.737 790.318 Q167.82 791.452 170.042 792.008 Q172.265 792.563 174.741 792.563 Q178.746 792.563 181.084 790.457 Q183.422 788.35 183.422 784.739 Q183.422 781.128 181.084 779.022 Q178.746 776.915 174.741 776.915 Q172.866 776.915 170.991 777.332 Q169.14 777.749 167.195 778.628 L167.195 761.267 Z\" fill=\"#000000\" fill-rule=\"nonzero\" fill-opacity=\"1\" /><path clip-path=\"url(#clip250)\" d=\"M50.9921 535.231 L80.6679 535.231 L80.6679 539.166 L50.9921 539.166 L50.9921 535.231 Z\" fill=\"#000000\" fill-rule=\"nonzero\" fill-opacity=\"1\" /><path clip-path=\"url(#clip250)\" d=\"M100.76 520.578 Q97.1493 520.578 95.3206 524.143 Q93.515 527.685 93.515 534.814 Q93.515 541.921 95.3206 545.485 Q97.1493 549.027 100.76 549.027 Q104.395 549.027 106.2 545.485 Q108.029 541.921 108.029 534.814 Q108.029 527.685 106.2 524.143 Q104.395 520.578 100.76 520.578 M100.76 516.874 Q106.571 516.874 109.626 521.481 Q112.705 526.064 112.705 534.814 Q112.705 543.541 109.626 548.147 Q106.571 552.731 100.76 552.731 Q94.9502 552.731 91.8715 548.147 Q88.816 543.541 88.816 534.814 Q88.816 526.064 91.8715 521.481 Q94.9502 516.874 100.76 516.874 Z\" fill=\"#000000\" fill-rule=\"nonzero\" fill-opacity=\"1\" /><path clip-path=\"url(#clip250)\" d=\"M120.922 546.18 L125.807 546.18 L125.807 552.059 L120.922 552.059 L120.922 546.18 Z\" fill=\"#000000\" fill-rule=\"nonzero\" fill-opacity=\"1\" /><path clip-path=\"url(#clip250)\" d=\"M136.802 548.124 L144.441 548.124 L144.441 521.759 L136.131 523.425 L136.131 519.166 L144.394 517.499 L149.07 517.499 L149.07 548.124 L156.709 548.124 L156.709 552.059 L136.802 552.059 L136.802 548.124 Z\" fill=\"#000000\" fill-rule=\"nonzero\" fill-opacity=\"1\" /><path clip-path=\"url(#clip250)\" d=\"M176.153 520.578 Q172.542 520.578 170.714 524.143 Q168.908 527.685 168.908 534.814 Q168.908 541.921 170.714 545.485 Q172.542 549.027 176.153 549.027 Q179.788 549.027 181.593 545.485 Q183.422 541.921 183.422 534.814 Q183.422 527.685 181.593 524.143 Q179.788 520.578 176.153 520.578 M176.153 516.874 Q181.964 516.874 185.019 521.481 Q188.098 526.064 188.098 534.814 Q188.098 543.541 185.019 548.147 Q181.964 552.731 176.153 552.731 Q170.343 552.731 167.265 548.147 Q164.209 543.541 164.209 534.814 Q164.209 526.064 167.265 521.481 Q170.343 516.874 176.153 516.874 Z\" fill=\"#000000\" fill-rule=\"nonzero\" fill-opacity=\"1\" /><path clip-path=\"url(#clip250)\" d=\"M51.9875 291.463 L81.6633 291.463 L81.6633 295.398 L51.9875 295.398 L51.9875 291.463 Z\" fill=\"#000000\" fill-rule=\"nonzero\" fill-opacity=\"1\" /><path clip-path=\"url(#clip250)\" d=\"M101.756 276.81 Q98.1447 276.81 96.316 280.375 Q94.5104 283.917 94.5104 291.047 Q94.5104 298.153 96.316 301.718 Q98.1447 305.259 101.756 305.259 Q105.39 305.259 107.196 301.718 Q109.024 298.153 109.024 291.047 Q109.024 283.917 107.196 280.375 Q105.39 276.81 101.756 276.81 M101.756 273.107 Q107.566 273.107 110.621 277.713 Q113.7 282.297 113.7 291.047 Q113.7 299.773 110.621 304.38 Q107.566 308.963 101.756 308.963 Q95.9456 308.963 92.8669 304.38 Q89.8114 299.773 89.8114 291.047 Q89.8114 282.297 92.8669 277.713 Q95.9456 273.107 101.756 273.107 Z\" fill=\"#000000\" fill-rule=\"nonzero\" fill-opacity=\"1\" /><path clip-path=\"url(#clip250)\" d=\"M121.918 302.412 L126.802 302.412 L126.802 308.292 L121.918 308.292 L121.918 302.412 Z\" fill=\"#000000\" fill-rule=\"nonzero\" fill-opacity=\"1\" /><path clip-path=\"url(#clip250)\" d=\"M146.987 276.81 Q143.376 276.81 141.547 280.375 Q139.742 283.917 139.742 291.047 Q139.742 298.153 141.547 301.718 Q143.376 305.259 146.987 305.259 Q150.621 305.259 152.427 301.718 Q154.255 298.153 154.255 291.047 Q154.255 283.917 152.427 280.375 Q150.621 276.81 146.987 276.81 M146.987 273.107 Q152.797 273.107 155.853 277.713 Q158.931 282.297 158.931 291.047 Q158.931 299.773 155.853 304.38 Q152.797 308.963 146.987 308.963 Q141.177 308.963 138.098 304.38 Q135.043 299.773 135.043 291.047 Q135.043 282.297 138.098 277.713 Q141.177 273.107 146.987 273.107 Z\" fill=\"#000000\" fill-rule=\"nonzero\" fill-opacity=\"1\" /><path clip-path=\"url(#clip250)\" d=\"M167.195 273.732 L185.552 273.732 L185.552 277.667 L171.478 277.667 L171.478 286.139 Q172.496 285.792 173.515 285.63 Q174.533 285.445 175.552 285.445 Q181.339 285.445 184.718 288.616 Q188.098 291.787 188.098 297.204 Q188.098 302.783 184.626 305.884 Q181.153 308.963 174.834 308.963 Q172.658 308.963 170.39 308.593 Q168.144 308.222 165.737 307.482 L165.737 302.783 Q167.82 303.917 170.042 304.472 Q172.265 305.028 174.741 305.028 Q178.746 305.028 181.084 302.921 Q183.422 300.815 183.422 297.204 Q183.422 293.593 181.084 291.486 Q178.746 289.38 174.741 289.38 Q172.866 289.38 170.991 289.797 Q169.14 290.213 167.195 291.093 L167.195 273.732 Z\" fill=\"#000000\" fill-rule=\"nonzero\" fill-opacity=\"1\" /><path clip-path=\"url(#clip250)\" d=\"M100.76 33.0428 Q97.1493 33.0428 95.3206 36.6076 Q93.515 40.1492 93.515 47.2788 Q93.515 54.3853 95.3206 57.9501 Q97.1493 61.4917 100.76 61.4917 Q104.395 61.4917 106.2 57.9501 Q108.029 54.3853 108.029 47.2788 Q108.029 40.1492 106.2 36.6076 Q104.395 33.0428 100.76 33.0428 M100.76 29.3391 Q106.571 29.3391 109.626 33.9456 Q112.705 38.5289 112.705 47.2788 Q112.705 56.0056 109.626 60.6121 Q106.571 65.1954 100.76 65.1954 Q94.9502 65.1954 91.8715 60.6121 Q88.816 56.0056 88.816 47.2788 Q88.816 38.5289 91.8715 33.9456 Q94.9502 29.3391 100.76 29.3391 Z\" fill=\"#000000\" fill-rule=\"nonzero\" fill-opacity=\"1\" /><path clip-path=\"url(#clip250)\" d=\"M120.922 58.6445 L125.807 58.6445 L125.807 64.5241 L120.922 64.5241 L120.922 58.6445 Z\" fill=\"#000000\" fill-rule=\"nonzero\" fill-opacity=\"1\" /><path clip-path=\"url(#clip250)\" d=\"M145.992 33.0428 Q142.381 33.0428 140.552 36.6076 Q138.746 40.1492 138.746 47.2788 Q138.746 54.3853 140.552 57.9501 Q142.381 61.4917 145.992 61.4917 Q149.626 61.4917 151.431 57.9501 Q153.26 54.3853 153.26 47.2788 Q153.26 40.1492 151.431 36.6076 Q149.626 33.0428 145.992 33.0428 M145.992 29.3391 Q151.802 29.3391 154.857 33.9456 Q157.936 38.5289 157.936 47.2788 Q157.936 56.0056 154.857 60.6121 Q151.802 65.1954 145.992 65.1954 Q140.181 65.1954 137.103 60.6121 Q134.047 56.0056 134.047 47.2788 Q134.047 38.5289 137.103 33.9456 Q140.181 29.3391 145.992 29.3391 Z\" fill=\"#000000\" fill-rule=\"nonzero\" fill-opacity=\"1\" /><path clip-path=\"url(#clip250)\" d=\"M176.153 33.0428 Q172.542 33.0428 170.714 36.6076 Q168.908 40.1492 168.908 47.2788 Q168.908 54.3853 170.714 57.9501 Q172.542 61.4917 176.153 61.4917 Q179.788 61.4917 181.593 57.9501 Q183.422 54.3853 183.422 47.2788 Q183.422 40.1492 181.593 36.6076 Q179.788 33.0428 176.153 33.0428 M176.153 29.3391 Q181.964 29.3391 185.019 33.9456 Q188.098 38.5289 188.098 47.2788 Q188.098 56.0056 185.019 60.6121 Q181.964 65.1954 176.153 65.1954 Q170.343 65.1954 167.265 60.6121 Q164.209 56.0056 164.209 47.2788 Q164.209 38.5289 167.265 33.9456 Q170.343 29.3391 176.153 29.3391 Z\" fill=\"#000000\" fill-rule=\"nonzero\" fill-opacity=\"1\" /><path clip-path=\"url(#clip252)\" d=\"M595.473 47.2441 L595.473 47.2441 L646.332 47.2441 L646.332 47.2441 L595.473 47.2441 L595.473 47.2441  Z\" fill=\"#009af9\" fill-rule=\"evenodd\" fill-opacity=\"1\"/>\n",
       "<polyline clip-path=\"url(#clip252)\" style=\"stroke:#000000; stroke-linecap:round; stroke-linejoin:round; stroke-width:4; stroke-opacity:1; fill:none\" points=\"595.473,47.2441 595.473,47.2441 646.332,47.2441 595.473,47.2441 \"/>\n",
       "<path clip-path=\"url(#clip252)\" d=\"M1294.78 397.094 L1294.78 47.2441 L1345.64 47.2441 L1345.64 397.094 L1294.78 397.094 L1294.78 397.094  Z\" fill=\"#009af9\" fill-rule=\"evenodd\" fill-opacity=\"1\"/>\n",
       "<polyline clip-path=\"url(#clip252)\" style=\"stroke:#000000; stroke-linecap:round; stroke-linejoin:round; stroke-width:4; stroke-opacity:1; fill:none\" points=\"1294.78,397.094 1294.78,47.2441 1345.64,47.2441 1345.64,397.094 1294.78,397.094 \"/>\n",
       "<path clip-path=\"url(#clip252)\" d=\"M1549.08 630.434 L1549.08 47.2441 L1599.94 47.2441 L1599.94 630.434 L1549.08 630.434 L1549.08 630.434  Z\" fill=\"#009af9\" fill-rule=\"evenodd\" fill-opacity=\"1\"/>\n",
       "<polyline clip-path=\"url(#clip252)\" style=\"stroke:#000000; stroke-linecap:round; stroke-linejoin:round; stroke-width:4; stroke-opacity:1; fill:none\" points=\"1549.08,630.434 1549.08,47.2441 1599.94,47.2441 1599.94,630.434 1549.08,630.434 \"/>\n",
       "<path clip-path=\"url(#clip252)\" d=\"M1040.49 765.899 L1040.49 47.2441 L1091.35 47.2441 L1091.35 765.899 L1040.49 765.899 L1040.49 765.899  Z\" fill=\"#009af9\" fill-rule=\"evenodd\" fill-opacity=\"1\"/>\n",
       "<polyline clip-path=\"url(#clip252)\" style=\"stroke:#000000; stroke-linecap:round; stroke-linejoin:round; stroke-width:4; stroke-opacity:1; fill:none\" points=\"1040.49,765.899 1040.49,47.2441 1091.35,47.2441 1091.35,765.899 1040.49,765.899 \"/>\n",
       "<path clip-path=\"url(#clip252)\" d=\"M1803.37 1164.67 L1803.37 47.2441 L1854.23 47.2441 L1854.23 1164.67 L1803.37 1164.67 L1803.37 1164.67  Z\" fill=\"#009af9\" fill-rule=\"evenodd\" fill-opacity=\"1\"/>\n",
       "<polyline clip-path=\"url(#clip252)\" style=\"stroke:#000000; stroke-linecap:round; stroke-linejoin:round; stroke-width:4; stroke-opacity:1; fill:none\" points=\"1803.37,1164.67 1803.37,47.2441 1854.23,47.2441 1854.23,1164.67 1803.37,1164.67 \"/>\n",
       "<path clip-path=\"url(#clip252)\" d=\"M2057.67 911.487 L2057.67 47.2441 L2108.53 47.2441 L2108.53 911.487 L2057.67 911.487 L2057.67 911.487  Z\" fill=\"#009af9\" fill-rule=\"evenodd\" fill-opacity=\"1\"/>\n",
       "<polyline clip-path=\"url(#clip252)\" style=\"stroke:#000000; stroke-linecap:round; stroke-linejoin:round; stroke-width:4; stroke-opacity:1; fill:none\" points=\"2057.67,911.487 2057.67,47.2441 2108.53,47.2441 2108.53,911.487 2057.67,911.487 \"/>\n",
       "<path clip-path=\"url(#clip252)\" d=\"M786.194 1061.28 L786.194 47.2441 L837.053 47.2441 L837.053 1061.28 L786.194 1061.28 L786.194 1061.28  Z\" fill=\"#009af9\" fill-rule=\"evenodd\" fill-opacity=\"1\"/>\n",
       "<polyline clip-path=\"url(#clip252)\" style=\"stroke:#000000; stroke-linecap:round; stroke-linejoin:round; stroke-width:4; stroke-opacity:1; fill:none\" points=\"786.194,1061.28 786.194,47.2441 837.053,47.2441 837.053,1061.28 786.194,1061.28 \"/>\n",
       "<path clip-path=\"url(#clip252)\" d=\"M1358.36 977.683 L1358.36 47.2441 L1409.22 47.2441 L1409.22 977.683 L1358.36 977.683 L1358.36 977.683  Z\" fill=\"#009af9\" fill-rule=\"evenodd\" fill-opacity=\"1\"/>\n",
       "<polyline clip-path=\"url(#clip252)\" style=\"stroke:#000000; stroke-linecap:round; stroke-linejoin:round; stroke-width:4; stroke-opacity:1; fill:none\" points=\"1358.36,977.683 1358.36,47.2441 1409.22,47.2441 1409.22,977.683 1358.36,977.683 \"/>\n",
       "<path clip-path=\"url(#clip252)\" d=\"M2184.82 1176.08 L2184.82 47.2441 L2235.68 47.2441 L2235.68 1176.08 L2184.82 1176.08 L2184.82 1176.08  Z\" fill=\"#009af9\" fill-rule=\"evenodd\" fill-opacity=\"1\"/>\n",
       "<polyline clip-path=\"url(#clip252)\" style=\"stroke:#000000; stroke-linecap:round; stroke-linejoin:round; stroke-width:4; stroke-opacity:1; fill:none\" points=\"2184.82,1176.08 2184.82,47.2441 2235.68,47.2441 2235.68,1176.08 2184.82,1176.08 \"/>\n",
       "<path clip-path=\"url(#clip252)\" d=\"M341.178 1314.87 L341.178 47.2441 L392.037 47.2441 L392.037 1314.87 L341.178 1314.87 L341.178 1314.87  Z\" fill=\"#009af9\" fill-rule=\"evenodd\" fill-opacity=\"1\"/>\n",
       "<polyline clip-path=\"url(#clip252)\" style=\"stroke:#000000; stroke-linecap:round; stroke-linejoin:round; stroke-width:4; stroke-opacity:1; fill:none\" points=\"341.178,1314.87 341.178,47.2441 392.037,47.2441 392.037,1314.87 341.178,1314.87 \"/>\n",
       "<path clip-path=\"url(#clip252)\" d=\"M1739.8 1176.08 L1739.8 47.2441 L1790.66 47.2441 L1790.66 1176.08 L1739.8 1176.08 L1739.8 1176.08  Z\" fill=\"#009af9\" fill-rule=\"evenodd\" fill-opacity=\"1\"/>\n",
       "<polyline clip-path=\"url(#clip252)\" style=\"stroke:#000000; stroke-linecap:round; stroke-linejoin:round; stroke-width:4; stroke-opacity:1; fill:none\" points=\"1739.8,1176.08 1739.8,47.2441 1790.66,47.2441 1790.66,1176.08 1739.8,1176.08 \"/>\n",
       "<path clip-path=\"url(#clip252)\" d=\"M1676.23 1254.58 L1676.23 47.2441 L1727.09 47.2441 L1727.09 1254.58 L1676.23 1254.58 L1676.23 1254.58  Z\" fill=\"#009af9\" fill-rule=\"evenodd\" fill-opacity=\"1\"/>\n",
       "<polyline clip-path=\"url(#clip252)\" style=\"stroke:#000000; stroke-linecap:round; stroke-linejoin:round; stroke-width:4; stroke-opacity:1; fill:none\" points=\"1676.23,1254.58 1676.23,47.2441 1727.09,47.2441 1727.09,1254.58 1676.23,1254.58 \"/>\n",
       "<path clip-path=\"url(#clip252)\" d=\"M1485.51 1254.58 L1485.51 47.2441 L1536.36 47.2441 L1536.36 1254.58 L1485.51 1254.58 L1485.51 1254.58  Z\" fill=\"#009af9\" fill-rule=\"evenodd\" fill-opacity=\"1\"/>\n",
       "<polyline clip-path=\"url(#clip252)\" style=\"stroke:#000000; stroke-linecap:round; stroke-linejoin:round; stroke-width:4; stroke-opacity:1; fill:none\" points=\"1485.51,1254.58 1485.51,47.2441 1536.36,47.2441 1536.36,1254.58 1485.51,1254.58 \"/>\n",
       "<path clip-path=\"url(#clip252)\" d=\"M659.047 1331.66 L659.047 47.2441 L709.906 47.2441 L709.906 1331.66 L659.047 1331.66 L659.047 1331.66  Z\" fill=\"#009af9\" fill-rule=\"evenodd\" fill-opacity=\"1\"/>\n",
       "<polyline clip-path=\"url(#clip252)\" style=\"stroke:#000000; stroke-linecap:round; stroke-linejoin:round; stroke-width:4; stroke-opacity:1; fill:none\" points=\"659.047,1331.66 659.047,47.2441 709.906,47.2441 709.906,1331.66 659.047,1331.66 \"/>\n",
       "<path clip-path=\"url(#clip252)\" d=\"M976.915 1338.78 L976.915 47.2441 L1027.77 47.2441 L1027.77 1338.78 L976.915 1338.78 L976.915 1338.78  Z\" fill=\"#009af9\" fill-rule=\"evenodd\" fill-opacity=\"1\"/>\n",
       "<polyline clip-path=\"url(#clip252)\" style=\"stroke:#000000; stroke-linecap:round; stroke-linejoin:round; stroke-width:4; stroke-opacity:1; fill:none\" points=\"976.915,1338.78 976.915,47.2441 1027.77,47.2441 1027.77,1338.78 976.915,1338.78 \"/>\n",
       "<path clip-path=\"url(#clip252)\" d=\"M849.768 1302.61 L849.768 47.2441 L900.627 47.2441 L900.627 1302.61 L849.768 1302.61 L849.768 1302.61  Z\" fill=\"#009af9\" fill-rule=\"evenodd\" fill-opacity=\"1\"/>\n",
       "<polyline clip-path=\"url(#clip252)\" style=\"stroke:#000000; stroke-linecap:round; stroke-linejoin:round; stroke-width:4; stroke-opacity:1; fill:none\" points=\"849.768,1302.61 849.768,47.2441 900.627,47.2441 900.627,1302.61 849.768,1302.61 \"/>\n",
       "<path clip-path=\"url(#clip252)\" d=\"M1167.64 1329.97 L1167.64 47.2441 L1218.5 47.2441 L1218.5 1329.97 L1167.64 1329.97 L1167.64 1329.97  Z\" fill=\"#009af9\" fill-rule=\"evenodd\" fill-opacity=\"1\"/>\n",
       "<polyline clip-path=\"url(#clip252)\" style=\"stroke:#000000; stroke-linecap:round; stroke-linejoin:round; stroke-width:4; stroke-opacity:1; fill:none\" points=\"1167.64,1329.97 1167.64,47.2441 1218.5,47.2441 1218.5,1329.97 1167.64,1329.97 \"/>\n",
       "<path clip-path=\"url(#clip252)\" d=\"M468.325 1390.86 L468.325 47.2441 L519.184 47.2441 L519.184 1390.86 L468.325 1390.86 L468.325 1390.86  Z\" fill=\"#009af9\" fill-rule=\"evenodd\" fill-opacity=\"1\"/>\n",
       "<polyline clip-path=\"url(#clip252)\" style=\"stroke:#000000; stroke-linecap:round; stroke-linejoin:round; stroke-width:4; stroke-opacity:1; fill:none\" points=\"468.325,1390.86 468.325,47.2441 519.184,47.2441 519.184,1390.86 468.325,1390.86 \"/>\n",
       "<path clip-path=\"url(#clip252)\" d=\"M2121.24 1405.15 L2121.24 47.2441 L2172.1 47.2441 L2172.1 1405.15 L2121.24 1405.15 L2121.24 1405.15  Z\" fill=\"#009af9\" fill-rule=\"evenodd\" fill-opacity=\"1\"/>\n",
       "<polyline clip-path=\"url(#clip252)\" style=\"stroke:#000000; stroke-linecap:round; stroke-linejoin:round; stroke-width:4; stroke-opacity:1; fill:none\" points=\"2121.24,1405.15 2121.24,47.2441 2172.1,47.2441 2172.1,1405.15 2121.24,1405.15 \"/>\n",
       "<path clip-path=\"url(#clip252)\" d=\"M722.62 1387.56 L722.62 47.2441 L773.479 47.2441 L773.479 1387.56 L722.62 1387.56 L722.62 1387.56  Z\" fill=\"#009af9\" fill-rule=\"evenodd\" fill-opacity=\"1\"/>\n",
       "<polyline clip-path=\"url(#clip252)\" style=\"stroke:#000000; stroke-linecap:round; stroke-linejoin:round; stroke-width:4; stroke-opacity:1; fill:none\" points=\"722.62,1387.56 722.62,47.2441 773.479,47.2441 773.479,1387.56 722.62,1387.56 \"/>\n",
       "<path clip-path=\"url(#clip252)\" d=\"M1866.95 1353.62 L1866.95 47.2441 L1917.81 47.2441 L1917.81 1353.62 L1866.95 1353.62 L1866.95 1353.62  Z\" fill=\"#009af9\" fill-rule=\"evenodd\" fill-opacity=\"1\"/>\n",
       "<polyline clip-path=\"url(#clip252)\" style=\"stroke:#000000; stroke-linecap:round; stroke-linejoin:round; stroke-width:4; stroke-opacity:1; fill:none\" points=\"1866.95,1353.62 1866.95,47.2441 1917.81,47.2441 1917.81,1353.62 1866.95,1353.62 \"/>\n",
       "<path clip-path=\"url(#clip252)\" d=\"M531.899 1352.42 L531.899 47.2441 L582.758 47.2441 L582.758 1352.42 L531.899 1352.42 L531.899 1352.42  Z\" fill=\"#009af9\" fill-rule=\"evenodd\" fill-opacity=\"1\"/>\n",
       "<polyline clip-path=\"url(#clip252)\" style=\"stroke:#000000; stroke-linecap:round; stroke-linejoin:round; stroke-width:4; stroke-opacity:1; fill:none\" points=\"531.899,1352.42 531.899,47.2441 582.758,47.2441 582.758,1352.42 531.899,1352.42 \"/>\n",
       "<path clip-path=\"url(#clip252)\" d=\"M1104.06 1371.6 L1104.06 47.2441 L1154.92 47.2441 L1154.92 1371.6 L1104.06 1371.6 L1104.06 1371.6  Z\" fill=\"#009af9\" fill-rule=\"evenodd\" fill-opacity=\"1\"/>\n",
       "<polyline clip-path=\"url(#clip252)\" style=\"stroke:#000000; stroke-linecap:round; stroke-linejoin:round; stroke-width:4; stroke-opacity:1; fill:none\" points=\"1104.06,1371.6 1104.06,47.2441 1154.92,47.2441 1154.92,1371.6 1104.06,1371.6 \"/>\n",
       "<path clip-path=\"url(#clip252)\" d=\"M1231.21 1385.38 L1231.21 47.2441 L1282.07 47.2441 L1282.07 1385.38 L1231.21 1385.38 L1231.21 1385.38  Z\" fill=\"#009af9\" fill-rule=\"evenodd\" fill-opacity=\"1\"/>\n",
       "<polyline clip-path=\"url(#clip252)\" style=\"stroke:#000000; stroke-linecap:round; stroke-linejoin:round; stroke-width:4; stroke-opacity:1; fill:none\" points=\"1231.21,1385.38 1231.21,47.2441 1282.07,47.2441 1282.07,1385.38 1231.21,1385.38 \"/>\n",
       "<path clip-path=\"url(#clip252)\" d=\"M404.752 1348.4 L404.752 47.2441 L455.611 47.2441 L455.611 1348.4 L404.752 1348.4 L404.752 1348.4  Z\" fill=\"#009af9\" fill-rule=\"evenodd\" fill-opacity=\"1\"/>\n",
       "<polyline clip-path=\"url(#clip252)\" style=\"stroke:#000000; stroke-linecap:round; stroke-linejoin:round; stroke-width:4; stroke-opacity:1; fill:none\" points=\"404.752,1348.4 404.752,47.2441 455.611,47.2441 455.611,1348.4 404.752,1348.4 \"/>\n",
       "<path clip-path=\"url(#clip252)\" d=\"M1994.1 1384.92 L1994.1 47.2441 L2044.95 47.2441 L2044.95 1384.92 L1994.1 1384.92 L1994.1 1384.92  Z\" fill=\"#009af9\" fill-rule=\"evenodd\" fill-opacity=\"1\"/>\n",
       "<polyline clip-path=\"url(#clip252)\" style=\"stroke:#000000; stroke-linecap:round; stroke-linejoin:round; stroke-width:4; stroke-opacity:1; fill:none\" points=\"1994.1,1384.92 1994.1,47.2441 2044.95,47.2441 2044.95,1384.92 1994.1,1384.92 \"/>\n",
       "<path clip-path=\"url(#clip252)\" d=\"M1612.65 1302.87 L1612.65 47.2441 L1663.51 47.2441 L1663.51 1302.87 L1612.65 1302.87 L1612.65 1302.87  Z\" fill=\"#009af9\" fill-rule=\"evenodd\" fill-opacity=\"1\"/>\n",
       "<polyline clip-path=\"url(#clip252)\" style=\"stroke:#000000; stroke-linecap:round; stroke-linejoin:round; stroke-width:4; stroke-opacity:1; fill:none\" points=\"1612.65,1302.87 1612.65,47.2441 1663.51,47.2441 1663.51,1302.87 1612.65,1302.87 \"/>\n",
       "<path clip-path=\"url(#clip252)\" d=\"M1930.52 965.856 L1930.52 47.2441 L1981.38 47.2441 L1981.38 965.856 L1930.52 965.856 L1930.52 965.856  Z\" fill=\"#009af9\" fill-rule=\"evenodd\" fill-opacity=\"1\"/>\n",
       "<polyline clip-path=\"url(#clip252)\" style=\"stroke:#000000; stroke-linecap:round; stroke-linejoin:round; stroke-width:4; stroke-opacity:1; fill:none\" points=\"1930.52,965.856 1930.52,47.2441 1981.38,47.2441 1981.38,965.856 1930.52,965.856 \"/>\n",
       "<path clip-path=\"url(#clip252)\" d=\"M913.342 1409.71 L913.342 47.2441 L964.201 47.2441 L964.201 1409.71 L913.342 1409.71 L913.342 1409.71  Z\" fill=\"#009af9\" fill-rule=\"evenodd\" fill-opacity=\"1\"/>\n",
       "<polyline clip-path=\"url(#clip252)\" style=\"stroke:#000000; stroke-linecap:round; stroke-linejoin:round; stroke-width:4; stroke-opacity:1; fill:none\" points=\"913.342,1409.71 913.342,47.2441 964.201,47.2441 964.201,1409.71 913.342,1409.71 \"/>\n",
       "<path clip-path=\"url(#clip252)\" d=\"M1421.93 1486.45 L1421.93 47.2441 L1472.79 47.2441 L1472.79 1486.45 L1421.93 1486.45 L1421.93 1486.45  Z\" fill=\"#009af9\" fill-rule=\"evenodd\" fill-opacity=\"1\"/>\n",
       "<polyline clip-path=\"url(#clip252)\" style=\"stroke:#000000; stroke-linecap:round; stroke-linejoin:round; stroke-width:4; stroke-opacity:1; fill:none\" points=\"1421.93,1486.45 1421.93,47.2441 1472.79,47.2441 1472.79,1486.45 1421.93,1486.45 \"/>\n",
       "<circle clip-path=\"url(#clip252)\" style=\"fill:#009af9; stroke:none; fill-opacity:0\" cx=\"620.902\" cy=\"47.2441\" r=\"2\"/>\n",
       "<circle clip-path=\"url(#clip252)\" style=\"fill:#009af9; stroke:none; fill-opacity:0\" cx=\"1320.21\" cy=\"397.094\" r=\"2\"/>\n",
       "<circle clip-path=\"url(#clip252)\" style=\"fill:#009af9; stroke:none; fill-opacity:0\" cx=\"1574.51\" cy=\"630.434\" r=\"2\"/>\n",
       "<circle clip-path=\"url(#clip252)\" style=\"fill:#009af9; stroke:none; fill-opacity:0\" cx=\"1065.92\" cy=\"765.899\" r=\"2\"/>\n",
       "<circle clip-path=\"url(#clip252)\" style=\"fill:#009af9; stroke:none; fill-opacity:0\" cx=\"1828.8\" cy=\"1164.67\" r=\"2\"/>\n",
       "<circle clip-path=\"url(#clip252)\" style=\"fill:#009af9; stroke:none; fill-opacity:0\" cx=\"2083.1\" cy=\"911.487\" r=\"2\"/>\n",
       "<circle clip-path=\"url(#clip252)\" style=\"fill:#009af9; stroke:none; fill-opacity:0\" cx=\"811.624\" cy=\"1061.28\" r=\"2\"/>\n",
       "<circle clip-path=\"url(#clip252)\" style=\"fill:#009af9; stroke:none; fill-opacity:0\" cx=\"1383.79\" cy=\"977.683\" r=\"2\"/>\n",
       "<circle clip-path=\"url(#clip252)\" style=\"fill:#009af9; stroke:none; fill-opacity:0\" cx=\"2210.25\" cy=\"1176.08\" r=\"2\"/>\n",
       "<circle clip-path=\"url(#clip252)\" style=\"fill:#009af9; stroke:none; fill-opacity:0\" cx=\"366.607\" cy=\"1314.87\" r=\"2\"/>\n",
       "<circle clip-path=\"url(#clip252)\" style=\"fill:#009af9; stroke:none; fill-opacity:0\" cx=\"1765.23\" cy=\"1176.08\" r=\"2\"/>\n",
       "<circle clip-path=\"url(#clip252)\" style=\"fill:#009af9; stroke:none; fill-opacity:0\" cx=\"1701.66\" cy=\"1254.58\" r=\"2\"/>\n",
       "<circle clip-path=\"url(#clip252)\" style=\"fill:#009af9; stroke:none; fill-opacity:0\" cx=\"1510.94\" cy=\"1254.58\" r=\"2\"/>\n",
       "<circle clip-path=\"url(#clip252)\" style=\"fill:#009af9; stroke:none; fill-opacity:0\" cx=\"684.476\" cy=\"1331.66\" r=\"2\"/>\n",
       "<circle clip-path=\"url(#clip252)\" style=\"fill:#009af9; stroke:none; fill-opacity:0\" cx=\"1002.34\" cy=\"1338.78\" r=\"2\"/>\n",
       "<circle clip-path=\"url(#clip252)\" style=\"fill:#009af9; stroke:none; fill-opacity:0\" cx=\"875.197\" cy=\"1302.61\" r=\"2\"/>\n",
       "<circle clip-path=\"url(#clip252)\" style=\"fill:#009af9; stroke:none; fill-opacity:0\" cx=\"1193.07\" cy=\"1329.97\" r=\"2\"/>\n",
       "<circle clip-path=\"url(#clip252)\" style=\"fill:#009af9; stroke:none; fill-opacity:0\" cx=\"493.755\" cy=\"1390.86\" r=\"2\"/>\n",
       "<circle clip-path=\"url(#clip252)\" style=\"fill:#009af9; stroke:none; fill-opacity:0\" cx=\"2146.67\" cy=\"1405.15\" r=\"2\"/>\n",
       "<circle clip-path=\"url(#clip252)\" style=\"fill:#009af9; stroke:none; fill-opacity:0\" cx=\"748.05\" cy=\"1387.56\" r=\"2\"/>\n",
       "<circle clip-path=\"url(#clip252)\" style=\"fill:#009af9; stroke:none; fill-opacity:0\" cx=\"1892.38\" cy=\"1353.62\" r=\"2\"/>\n",
       "<circle clip-path=\"url(#clip252)\" style=\"fill:#009af9; stroke:none; fill-opacity:0\" cx=\"557.329\" cy=\"1352.42\" r=\"2\"/>\n",
       "<circle clip-path=\"url(#clip252)\" style=\"fill:#009af9; stroke:none; fill-opacity:0\" cx=\"1129.49\" cy=\"1371.6\" r=\"2\"/>\n",
       "<circle clip-path=\"url(#clip252)\" style=\"fill:#009af9; stroke:none; fill-opacity:0\" cx=\"1256.64\" cy=\"1385.38\" r=\"2\"/>\n",
       "<circle clip-path=\"url(#clip252)\" style=\"fill:#009af9; stroke:none; fill-opacity:0\" cx=\"430.181\" cy=\"1348.4\" r=\"2\"/>\n",
       "<circle clip-path=\"url(#clip252)\" style=\"fill:#009af9; stroke:none; fill-opacity:0\" cx=\"2019.53\" cy=\"1384.92\" r=\"2\"/>\n",
       "<circle clip-path=\"url(#clip252)\" style=\"fill:#009af9; stroke:none; fill-opacity:0\" cx=\"1638.08\" cy=\"1302.87\" r=\"2\"/>\n",
       "<circle clip-path=\"url(#clip252)\" style=\"fill:#009af9; stroke:none; fill-opacity:0\" cx=\"1955.95\" cy=\"965.856\" r=\"2\"/>\n",
       "<circle clip-path=\"url(#clip252)\" style=\"fill:#009af9; stroke:none; fill-opacity:0\" cx=\"938.771\" cy=\"1409.71\" r=\"2\"/>\n",
       "<circle clip-path=\"url(#clip252)\" style=\"fill:#009af9; stroke:none; fill-opacity:0\" cx=\"1447.36\" cy=\"1486.45\" r=\"2\"/>\n",
       "<path clip-path=\"url(#clip250)\" d=\"M295.053 198.898 L832.825 198.898 L832.825 95.2176 L295.053 95.2176  Z\" fill=\"#ffffff\" fill-rule=\"evenodd\" fill-opacity=\"1\"/>\n",
       "<polyline clip-path=\"url(#clip250)\" style=\"stroke:#000000; stroke-linecap:round; stroke-linejoin:round; stroke-width:4; stroke-opacity:1; fill:none\" points=\"295.053,198.898 832.825,198.898 832.825,95.2176 295.053,95.2176 295.053,198.898 \"/>\n",
       "<path clip-path=\"url(#clip250)\" d=\"M318.705 167.794 L460.615 167.794 L460.615 126.322 L318.705 126.322 L318.705 167.794  Z\" fill=\"#009af9\" fill-rule=\"evenodd\" fill-opacity=\"1\"/>\n",
       "<polyline clip-path=\"url(#clip250)\" style=\"stroke:#000000; stroke-linecap:round; stroke-linejoin:round; stroke-width:4; stroke-opacity:1; fill:none\" points=\"318.705,167.794 460.615,167.794 460.615,126.322 318.705,126.322 318.705,167.794 \"/>\n",
       "<path clip-path=\"url(#clip250)\" d=\"M497.462 164.338 L484.267 129.778 L489.151 129.778 L500.1 158.875 L511.073 129.778 L515.934 129.778 L502.762 164.338 L497.462 164.338 Z\" fill=\"#000000\" fill-rule=\"nonzero\" fill-opacity=\"1\" /><path clip-path=\"url(#clip250)\" d=\"M527.16 141.398 Q523.735 141.398 521.744 144.083 Q519.753 146.745 519.753 151.398 Q519.753 156.051 521.721 158.736 Q523.711 161.398 527.16 161.398 Q530.563 161.398 532.554 158.713 Q534.545 156.027 534.545 151.398 Q534.545 146.791 532.554 144.106 Q530.563 141.398 527.16 141.398 M527.16 137.787 Q532.716 137.787 535.887 141.398 Q539.059 145.009 539.059 151.398 Q539.059 157.764 535.887 161.398 Q532.716 165.009 527.16 165.009 Q521.582 165.009 518.411 161.398 Q515.262 157.764 515.262 151.398 Q515.262 145.009 518.411 141.398 Q521.582 137.787 527.16 137.787 Z\" fill=\"#000000\" fill-rule=\"nonzero\" fill-opacity=\"1\" /><path clip-path=\"url(#clip250)\" d=\"M546.119 128.319 L550.378 128.319 L550.378 164.338 L546.119 164.338 L546.119 128.319 Z\" fill=\"#000000\" fill-rule=\"nonzero\" fill-opacity=\"1\" /><path clip-path=\"url(#clip250)\" d=\"M563.503 131.051 L563.503 138.412 L572.276 138.412 L572.276 141.722 L563.503 141.722 L563.503 155.796 Q563.503 158.967 564.359 159.87 Q565.239 160.773 567.901 160.773 L572.276 160.773 L572.276 164.338 L567.901 164.338 Q562.97 164.338 561.095 162.509 Q559.22 160.657 559.22 155.796 L559.22 141.722 L556.096 141.722 L556.096 138.412 L559.22 138.412 L559.22 131.051 L563.503 131.051 Z\" fill=\"#000000\" fill-rule=\"nonzero\" fill-opacity=\"1\" /><path clip-path=\"url(#clip250)\" d=\"M589.66 151.305 Q584.498 151.305 582.507 152.486 Q580.517 153.666 580.517 156.514 Q580.517 158.782 581.998 160.125 Q583.503 161.444 586.072 161.444 Q589.614 161.444 591.743 158.944 Q593.896 156.421 593.896 152.254 L593.896 151.305 L589.66 151.305 M598.155 149.546 L598.155 164.338 L593.896 164.338 L593.896 160.402 Q592.438 162.763 590.262 163.898 Q588.086 165.009 584.938 165.009 Q580.956 165.009 578.595 162.787 Q576.257 160.541 576.257 156.791 Q576.257 152.416 579.174 150.194 Q582.114 147.972 587.924 147.972 L593.896 147.972 L593.896 147.555 Q593.896 144.615 591.952 143.018 Q590.031 141.398 586.535 141.398 Q584.313 141.398 582.206 141.93 Q580.1 142.463 578.156 143.527 L578.156 139.592 Q580.494 138.69 582.693 138.25 Q584.892 137.787 586.975 137.787 Q592.6 137.787 595.378 140.703 Q598.155 143.62 598.155 149.546 Z\" fill=\"#000000\" fill-rule=\"nonzero\" fill-opacity=\"1\" /><path clip-path=\"url(#clip250)\" d=\"M623.989 151.074 Q623.989 146.444 622.067 143.898 Q620.169 141.352 616.72 141.352 Q613.294 141.352 611.373 143.898 Q609.475 146.444 609.475 151.074 Q609.475 155.68 611.373 158.226 Q613.294 160.773 616.72 160.773 Q620.169 160.773 622.067 158.226 Q623.989 155.68 623.989 151.074 M628.248 161.12 Q628.248 167.74 625.308 170.958 Q622.368 174.199 616.304 174.199 Q614.058 174.199 612.067 173.851 Q610.077 173.527 608.202 172.833 L608.202 168.689 Q610.077 169.708 611.905 170.194 Q613.734 170.68 615.632 170.68 Q619.822 170.68 621.905 168.481 Q623.989 166.305 623.989 161.884 L623.989 159.777 Q622.669 162.069 620.609 163.203 Q618.549 164.338 615.679 164.338 Q610.91 164.338 607.993 160.703 Q605.077 157.069 605.077 151.074 Q605.077 145.055 607.993 141.421 Q610.91 137.787 615.679 137.787 Q618.549 137.787 620.609 138.921 Q622.669 140.055 623.989 142.347 L623.989 138.412 L628.248 138.412 L628.248 161.12 Z\" fill=\"#000000\" fill-rule=\"nonzero\" fill-opacity=\"1\" /><path clip-path=\"url(#clip250)\" d=\"M659.197 150.31 L659.197 152.393 L639.614 152.393 Q639.891 156.791 642.252 159.106 Q644.637 161.398 648.873 161.398 Q651.326 161.398 653.618 160.796 Q655.933 160.194 658.201 158.99 L658.201 163.018 Q655.91 163.99 653.502 164.5 Q651.095 165.009 648.618 165.009 Q642.414 165.009 638.78 161.398 Q635.169 157.787 635.169 151.629 Q635.169 145.264 638.595 141.537 Q642.044 137.787 647.877 137.787 Q653.109 137.787 656.141 141.166 Q659.197 144.523 659.197 150.31 M654.938 149.06 Q654.891 145.565 652.97 143.481 Q651.072 141.398 647.924 141.398 Q644.359 141.398 642.206 143.412 Q640.077 145.426 639.752 149.083 L654.938 149.06 Z\" fill=\"#000000\" fill-rule=\"nonzero\" fill-opacity=\"1\" /><path clip-path=\"url(#clip250)\" d=\"M692.993 134.384 L686.65 151.583 L699.359 151.583 L692.993 134.384 M690.354 129.778 L695.655 129.778 L708.826 164.338 L703.965 164.338 L700.817 155.472 L685.238 155.472 L682.09 164.338 L677.16 164.338 L690.354 129.778 Z\" fill=\"#000000\" fill-rule=\"nonzero\" fill-opacity=\"1\" /><path clip-path=\"url(#clip250)\" d=\"M735.238 148.689 L735.238 164.338 L730.979 164.338 L730.979 148.828 Q730.979 145.148 729.544 143.319 Q728.108 141.49 725.238 141.49 Q721.789 141.49 719.798 143.69 Q717.808 145.889 717.808 149.685 L717.808 164.338 L713.525 164.338 L713.525 138.412 L717.808 138.412 L717.808 142.44 Q719.335 140.102 721.396 138.944 Q723.479 137.787 726.187 137.787 Q730.655 137.787 732.946 140.565 Q735.238 143.319 735.238 148.689 Z\" fill=\"#000000\" fill-rule=\"nonzero\" fill-opacity=\"1\" /><path clip-path=\"url(#clip250)\" d=\"M760.793 151.074 Q760.793 146.444 758.872 143.898 Q756.974 141.352 753.525 141.352 Q750.099 141.352 748.178 143.898 Q746.28 146.444 746.28 151.074 Q746.28 155.68 748.178 158.226 Q750.099 160.773 753.525 160.773 Q756.974 160.773 758.872 158.226 Q760.793 155.68 760.793 151.074 M765.053 161.12 Q765.053 167.74 762.113 170.958 Q759.173 174.199 753.108 174.199 Q750.863 174.199 748.872 173.851 Q746.882 173.527 745.007 172.833 L745.007 168.689 Q746.882 169.708 748.71 170.194 Q750.539 170.68 752.437 170.68 Q756.627 170.68 758.71 168.481 Q760.793 166.305 760.793 161.884 L760.793 159.777 Q759.474 162.069 757.414 163.203 Q755.354 164.338 752.483 164.338 Q747.715 164.338 744.798 160.703 Q741.882 157.069 741.882 151.074 Q741.882 145.055 744.798 141.421 Q747.715 137.787 752.483 137.787 Q755.354 137.787 757.414 138.921 Q759.474 140.055 760.793 142.347 L760.793 138.412 L765.053 138.412 L765.053 161.12 Z\" fill=\"#000000\" fill-rule=\"nonzero\" fill-opacity=\"1\" /><path clip-path=\"url(#clip250)\" d=\"M773.826 128.319 L778.085 128.319 L778.085 164.338 L773.826 164.338 L773.826 128.319 Z\" fill=\"#000000\" fill-rule=\"nonzero\" fill-opacity=\"1\" /><path clip-path=\"url(#clip250)\" d=\"M809.173 150.31 L809.173 152.393 L789.59 152.393 Q789.867 156.791 792.229 159.106 Q794.613 161.398 798.849 161.398 Q801.303 161.398 803.594 160.796 Q805.909 160.194 808.177 158.99 L808.177 163.018 Q805.886 163.99 803.478 164.5 Q801.071 165.009 798.594 165.009 Q792.391 165.009 788.756 161.398 Q785.145 157.787 785.145 151.629 Q785.145 145.264 788.571 141.537 Q792.02 137.787 797.853 137.787 Q803.085 137.787 806.117 141.166 Q809.173 144.523 809.173 150.31 M804.914 149.06 Q804.867 145.565 802.946 143.481 Q801.048 141.398 797.9 141.398 Q794.335 141.398 792.182 143.412 Q790.053 145.426 789.729 149.083 L804.914 149.06 Z\" fill=\"#000000\" fill-rule=\"nonzero\" fill-opacity=\"1\" /></svg>\n"
      ],
      "text/html": [
       "<?xml version=\"1.0\" encoding=\"utf-8\"?>\n",
       "<svg xmlns=\"http://www.w3.org/2000/svg\" xmlns:xlink=\"http://www.w3.org/1999/xlink\" width=\"600\" height=\"400\" viewBox=\"0 0 2400 1600\">\n",
       "<defs>\n",
       "  <clipPath id=\"clip300\">\n",
       "    <rect x=\"0\" y=\"0\" width=\"2400\" height=\"1600\"/>\n",
       "  </clipPath>\n",
       "</defs>\n",
       "<path clip-path=\"url(#clip300)\" d=\"M0 1600 L2400 1600 L2400 0 L0 0  Z\" fill=\"#ffffff\" fill-rule=\"evenodd\" fill-opacity=\"1\"/>\n",
       "<defs>\n",
       "  <clipPath id=\"clip301\">\n",
       "    <rect x=\"480\" y=\"0\" width=\"1681\" height=\"1600\"/>\n",
       "  </clipPath>\n",
       "</defs>\n",
       "<path clip-path=\"url(#clip300)\" d=\"M224.098 1486.45 L2352.76 1486.45 L2352.76 47.2441 L224.098 47.2441  Z\" fill=\"#ffffff\" fill-rule=\"evenodd\" fill-opacity=\"1\"/>\n",
       "<defs>\n",
       "  <clipPath id=\"clip302\">\n",
       "    <rect x=\"224\" y=\"47\" width=\"2130\" height=\"1440\"/>\n",
       "  </clipPath>\n",
       "</defs>\n",
       "<polyline clip-path=\"url(#clip302)\" style=\"stroke:#000000; stroke-linecap:round; stroke-linejoin:round; stroke-width:2; stroke-opacity:0.1; fill:none\" points=\"303.034,1486.45 303.034,47.2441 \"/>\n",
       "<polyline clip-path=\"url(#clip302)\" style=\"stroke:#000000; stroke-linecap:round; stroke-linejoin:round; stroke-width:2; stroke-opacity:0.1; fill:none\" points=\"938.771,1486.45 938.771,47.2441 \"/>\n",
       "<polyline clip-path=\"url(#clip302)\" style=\"stroke:#000000; stroke-linecap:round; stroke-linejoin:round; stroke-width:2; stroke-opacity:0.1; fill:none\" points=\"1574.51,1486.45 1574.51,47.2441 \"/>\n",
       "<polyline clip-path=\"url(#clip302)\" style=\"stroke:#000000; stroke-linecap:round; stroke-linejoin:round; stroke-width:2; stroke-opacity:0.1; fill:none\" points=\"2210.25,1486.45 2210.25,47.2441 \"/>\n",
       "<polyline clip-path=\"url(#clip300)\" style=\"stroke:#000000; stroke-linecap:round; stroke-linejoin:round; stroke-width:4; stroke-opacity:1; fill:none\" points=\"224.098,1486.45 2352.76,1486.45 \"/>\n",
       "<polyline clip-path=\"url(#clip300)\" style=\"stroke:#000000; stroke-linecap:round; stroke-linejoin:round; stroke-width:4; stroke-opacity:1; fill:none\" points=\"303.034,1486.45 303.034,1467.55 \"/>\n",
       "<polyline clip-path=\"url(#clip300)\" style=\"stroke:#000000; stroke-linecap:round; stroke-linejoin:round; stroke-width:4; stroke-opacity:1; fill:none\" points=\"938.771,1486.45 938.771,1467.55 \"/>\n",
       "<polyline clip-path=\"url(#clip300)\" style=\"stroke:#000000; stroke-linecap:round; stroke-linejoin:round; stroke-width:4; stroke-opacity:1; fill:none\" points=\"1574.51,1486.45 1574.51,1467.55 \"/>\n",
       "<polyline clip-path=\"url(#clip300)\" style=\"stroke:#000000; stroke-linecap:round; stroke-linejoin:round; stroke-width:4; stroke-opacity:1; fill:none\" points=\"2210.25,1486.45 2210.25,1467.55 \"/>\n",
       "<path clip-path=\"url(#clip300)\" d=\"M303.034 1517.37 Q299.423 1517.37 297.594 1520.93 Q295.788 1524.47 295.788 1531.6 Q295.788 1538.71 297.594 1542.27 Q299.423 1545.82 303.034 1545.82 Q306.668 1545.82 308.473 1542.27 Q310.302 1538.71 310.302 1531.6 Q310.302 1524.47 308.473 1520.93 Q306.668 1517.37 303.034 1517.37 M303.034 1513.66 Q308.844 1513.66 311.899 1518.27 Q314.978 1522.85 314.978 1531.6 Q314.978 1540.33 311.899 1544.94 Q308.844 1549.52 303.034 1549.52 Q297.223 1549.52 294.145 1544.94 Q291.089 1540.33 291.089 1531.6 Q291.089 1522.85 294.145 1518.27 Q297.223 1513.66 303.034 1513.66 Z\" fill=\"#000000\" fill-rule=\"nonzero\" fill-opacity=\"1\" /><path clip-path=\"url(#clip300)\" d=\"M913.459 1544.91 L921.098 1544.91 L921.098 1518.55 L912.788 1520.21 L912.788 1515.95 L921.051 1514.29 L925.727 1514.29 L925.727 1544.91 L933.366 1544.91 L933.366 1548.85 L913.459 1548.85 L913.459 1544.91 Z\" fill=\"#000000\" fill-rule=\"nonzero\" fill-opacity=\"1\" /><path clip-path=\"url(#clip300)\" d=\"M952.81 1517.37 Q949.199 1517.37 947.371 1520.93 Q945.565 1524.47 945.565 1531.6 Q945.565 1538.71 947.371 1542.27 Q949.199 1545.82 952.81 1545.82 Q956.445 1545.82 958.25 1542.27 Q960.079 1538.71 960.079 1531.6 Q960.079 1524.47 958.25 1520.93 Q956.445 1517.37 952.81 1517.37 M952.81 1513.66 Q958.621 1513.66 961.676 1518.27 Q964.755 1522.85 964.755 1531.6 Q964.755 1540.33 961.676 1544.94 Q958.621 1549.52 952.81 1549.52 Q947 1549.52 943.922 1544.94 Q940.866 1540.33 940.866 1531.6 Q940.866 1522.85 943.922 1518.27 Q947 1513.66 952.81 1513.66 Z\" fill=\"#000000\" fill-rule=\"nonzero\" fill-opacity=\"1\" /><path clip-path=\"url(#clip300)\" d=\"M1553.28 1544.91 L1569.6 1544.91 L1569.6 1548.85 L1547.66 1548.85 L1547.66 1544.91 Q1550.32 1542.16 1554.9 1537.53 Q1559.51 1532.88 1560.69 1531.53 Q1562.93 1529.01 1563.81 1527.27 Q1564.72 1525.51 1564.72 1523.82 Q1564.72 1521.07 1562.77 1519.33 Q1560.85 1517.6 1557.75 1517.6 Q1555.55 1517.6 1553.1 1518.36 Q1550.67 1519.13 1547.89 1520.68 L1547.89 1515.95 Q1550.71 1514.82 1553.17 1514.24 Q1555.62 1513.66 1557.66 1513.66 Q1563.03 1513.66 1566.22 1516.35 Q1569.42 1519.03 1569.42 1523.52 Q1569.42 1525.65 1568.61 1527.57 Q1567.82 1529.47 1565.71 1532.07 Q1565.13 1532.74 1562.03 1535.95 Q1558.93 1539.15 1553.28 1544.91 Z\" fill=\"#000000\" fill-rule=\"nonzero\" fill-opacity=\"1\" /><path clip-path=\"url(#clip300)\" d=\"M1589.42 1517.37 Q1585.81 1517.37 1583.98 1520.93 Q1582.17 1524.47 1582.17 1531.6 Q1582.17 1538.71 1583.98 1542.27 Q1585.81 1545.82 1589.42 1545.82 Q1593.05 1545.82 1594.86 1542.27 Q1596.68 1538.71 1596.68 1531.6 Q1596.68 1524.47 1594.86 1520.93 Q1593.05 1517.37 1589.42 1517.37 M1589.42 1513.66 Q1595.23 1513.66 1598.28 1518.27 Q1601.36 1522.85 1601.36 1531.6 Q1601.36 1540.33 1598.28 1544.94 Q1595.23 1549.52 1589.42 1549.52 Q1583.61 1549.52 1580.53 1544.94 Q1577.47 1540.33 1577.47 1531.6 Q1577.47 1522.85 1580.53 1518.27 Q1583.61 1513.66 1589.42 1513.66 Z\" fill=\"#000000\" fill-rule=\"nonzero\" fill-opacity=\"1\" /><path clip-path=\"url(#clip300)\" d=\"M2199.09 1530.21 Q2202.45 1530.93 2204.32 1533.2 Q2206.22 1535.47 2206.22 1538.8 Q2206.22 1543.92 2202.7 1546.72 Q2199.18 1549.52 2192.7 1549.52 Q2190.52 1549.52 2188.21 1549.08 Q2185.92 1548.66 2183.46 1547.81 L2183.46 1543.29 Q2185.41 1544.43 2187.72 1545.01 Q2190.04 1545.58 2192.56 1545.58 Q2196.96 1545.58 2199.25 1543.85 Q2201.57 1542.11 2201.57 1538.8 Q2201.57 1535.75 2199.41 1534.03 Q2197.28 1532.3 2193.46 1532.3 L2189.44 1532.3 L2189.44 1528.45 L2193.65 1528.45 Q2197.1 1528.45 2198.93 1527.09 Q2200.76 1525.7 2200.76 1523.11 Q2200.76 1520.45 2198.86 1519.03 Q2196.98 1517.6 2193.46 1517.6 Q2191.54 1517.6 2189.34 1518.01 Q2187.14 1518.43 2184.51 1519.31 L2184.51 1515.14 Q2187.17 1514.4 2189.48 1514.03 Q2191.82 1513.66 2193.88 1513.66 Q2199.2 1513.66 2202.31 1516.09 Q2205.41 1518.5 2205.41 1522.62 Q2205.41 1525.49 2203.76 1527.48 Q2202.12 1529.45 2199.09 1530.21 Z\" fill=\"#000000\" fill-rule=\"nonzero\" fill-opacity=\"1\" /><path clip-path=\"url(#clip300)\" d=\"M2225.08 1517.37 Q2221.47 1517.37 2219.64 1520.93 Q2217.84 1524.47 2217.84 1531.6 Q2217.84 1538.71 2219.64 1542.27 Q2221.47 1545.82 2225.08 1545.82 Q2228.72 1545.82 2230.52 1542.27 Q2232.35 1538.71 2232.35 1531.6 Q2232.35 1524.47 2230.52 1520.93 Q2228.72 1517.37 2225.08 1517.37 M2225.08 1513.66 Q2230.89 1513.66 2233.95 1518.27 Q2237.03 1522.85 2237.03 1531.6 Q2237.03 1540.33 2233.95 1544.94 Q2230.89 1549.52 2225.08 1549.52 Q2219.27 1549.52 2216.2 1544.94 Q2213.14 1540.33 2213.14 1531.6 Q2213.14 1522.85 2216.2 1518.27 Q2219.27 1513.66 2225.08 1513.66 Z\" fill=\"#000000\" fill-rule=\"nonzero\" fill-opacity=\"1\" /><polyline clip-path=\"url(#clip302)\" style=\"stroke:#000000; stroke-linecap:round; stroke-linejoin:round; stroke-width:2; stroke-opacity:0.1; fill:none\" points=\"224.098,1266.08 2352.76,1266.08 \"/>\n",
       "<polyline clip-path=\"url(#clip302)\" style=\"stroke:#000000; stroke-linecap:round; stroke-linejoin:round; stroke-width:2; stroke-opacity:0.1; fill:none\" points=\"224.098,1022.31 2352.76,1022.31 \"/>\n",
       "<polyline clip-path=\"url(#clip302)\" style=\"stroke:#000000; stroke-linecap:round; stroke-linejoin:round; stroke-width:2; stroke-opacity:0.1; fill:none\" points=\"224.098,778.547 2352.76,778.547 \"/>\n",
       "<polyline clip-path=\"url(#clip302)\" style=\"stroke:#000000; stroke-linecap:round; stroke-linejoin:round; stroke-width:2; stroke-opacity:0.1; fill:none\" points=\"224.098,534.779 2352.76,534.779 \"/>\n",
       "<polyline clip-path=\"url(#clip302)\" style=\"stroke:#000000; stroke-linecap:round; stroke-linejoin:round; stroke-width:2; stroke-opacity:0.1; fill:none\" points=\"224.098,291.012 2352.76,291.012 \"/>\n",
       "<polyline clip-path=\"url(#clip302)\" style=\"stroke:#000000; stroke-linecap:round; stroke-linejoin:round; stroke-width:2; stroke-opacity:0.1; fill:none\" points=\"224.098,47.2441 2352.76,47.2441 \"/>\n",
       "<polyline clip-path=\"url(#clip300)\" style=\"stroke:#000000; stroke-linecap:round; stroke-linejoin:round; stroke-width:4; stroke-opacity:1; fill:none\" points=\"224.098,1486.45 224.098,47.2441 \"/>\n",
       "<polyline clip-path=\"url(#clip300)\" style=\"stroke:#000000; stroke-linecap:round; stroke-linejoin:round; stroke-width:4; stroke-opacity:1; fill:none\" points=\"224.098,1266.08 242.996,1266.08 \"/>\n",
       "<polyline clip-path=\"url(#clip300)\" style=\"stroke:#000000; stroke-linecap:round; stroke-linejoin:round; stroke-width:4; stroke-opacity:1; fill:none\" points=\"224.098,1022.31 242.996,1022.31 \"/>\n",
       "<polyline clip-path=\"url(#clip300)\" style=\"stroke:#000000; stroke-linecap:round; stroke-linejoin:round; stroke-width:4; stroke-opacity:1; fill:none\" points=\"224.098,778.547 242.996,778.547 \"/>\n",
       "<polyline clip-path=\"url(#clip300)\" style=\"stroke:#000000; stroke-linecap:round; stroke-linejoin:round; stroke-width:4; stroke-opacity:1; fill:none\" points=\"224.098,534.779 242.996,534.779 \"/>\n",
       "<polyline clip-path=\"url(#clip300)\" style=\"stroke:#000000; stroke-linecap:round; stroke-linejoin:round; stroke-width:4; stroke-opacity:1; fill:none\" points=\"224.098,291.012 242.996,291.012 \"/>\n",
       "<polyline clip-path=\"url(#clip300)\" style=\"stroke:#000000; stroke-linecap:round; stroke-linejoin:round; stroke-width:4; stroke-opacity:1; fill:none\" points=\"224.098,47.2441 242.996,47.2441 \"/>\n",
       "<path clip-path=\"url(#clip300)\" d=\"M51.9875 1266.53 L81.6633 1266.53 L81.6633 1270.47 L51.9875 1270.47 L51.9875 1266.53 Z\" fill=\"#000000\" fill-rule=\"nonzero\" fill-opacity=\"1\" /><path clip-path=\"url(#clip300)\" d=\"M101.756 1251.88 Q98.1447 1251.88 96.316 1255.45 Q94.5104 1258.99 94.5104 1266.12 Q94.5104 1273.22 96.316 1276.79 Q98.1447 1280.33 101.756 1280.33 Q105.39 1280.33 107.196 1276.79 Q109.024 1273.22 109.024 1266.12 Q109.024 1258.99 107.196 1255.45 Q105.39 1251.88 101.756 1251.88 M101.756 1248.18 Q107.566 1248.18 110.621 1252.78 Q113.7 1257.37 113.7 1266.12 Q113.7 1274.84 110.621 1279.45 Q107.566 1284.03 101.756 1284.03 Q95.9456 1284.03 92.8669 1279.45 Q89.8114 1274.84 89.8114 1266.12 Q89.8114 1257.37 92.8669 1252.78 Q95.9456 1248.18 101.756 1248.18 Z\" fill=\"#000000\" fill-rule=\"nonzero\" fill-opacity=\"1\" /><path clip-path=\"url(#clip300)\" d=\"M121.918 1277.48 L126.802 1277.48 L126.802 1283.36 L121.918 1283.36 L121.918 1277.48 Z\" fill=\"#000000\" fill-rule=\"nonzero\" fill-opacity=\"1\" /><path clip-path=\"url(#clip300)\" d=\"M141.015 1279.43 L157.334 1279.43 L157.334 1283.36 L135.39 1283.36 L135.39 1279.43 Q138.052 1276.67 142.635 1272.04 Q147.242 1267.39 148.422 1266.05 Q150.668 1263.52 151.547 1261.79 Q152.45 1260.03 152.45 1258.34 Q152.45 1255.58 150.505 1253.85 Q148.584 1252.11 145.482 1252.11 Q143.283 1252.11 140.83 1252.88 Q138.399 1253.64 135.621 1255.19 L135.621 1250.47 Q138.445 1249.33 140.899 1248.76 Q143.353 1248.18 145.39 1248.18 Q150.76 1248.18 153.955 1250.86 Q157.149 1253.55 157.149 1258.04 Q157.149 1260.17 156.339 1262.09 Q155.552 1263.99 153.445 1266.58 Q152.867 1267.25 149.765 1270.47 Q146.663 1273.66 141.015 1279.43 Z\" fill=\"#000000\" fill-rule=\"nonzero\" fill-opacity=\"1\" /><path clip-path=\"url(#clip300)\" d=\"M167.195 1248.8 L185.552 1248.8 L185.552 1252.74 L171.478 1252.74 L171.478 1261.21 Q172.496 1260.86 173.515 1260.7 Q174.533 1260.52 175.552 1260.52 Q181.339 1260.52 184.718 1263.69 Q188.098 1266.86 188.098 1272.27 Q188.098 1277.85 184.626 1280.96 Q181.153 1284.03 174.834 1284.03 Q172.658 1284.03 170.39 1283.66 Q168.144 1283.29 165.737 1282.55 L165.737 1277.85 Q167.82 1278.99 170.042 1279.54 Q172.265 1280.1 174.741 1280.1 Q178.746 1280.1 181.084 1277.99 Q183.422 1275.89 183.422 1272.27 Q183.422 1268.66 181.084 1266.56 Q178.746 1264.45 174.741 1264.45 Q172.866 1264.45 170.991 1264.87 Q169.14 1265.28 167.195 1266.16 L167.195 1248.8 Z\" fill=\"#000000\" fill-rule=\"nonzero\" fill-opacity=\"1\" /><path clip-path=\"url(#clip300)\" d=\"M50.9921 1022.77 L80.6679 1022.77 L80.6679 1026.7 L50.9921 1026.7 L50.9921 1022.77 Z\" fill=\"#000000\" fill-rule=\"nonzero\" fill-opacity=\"1\" /><path clip-path=\"url(#clip300)\" d=\"M100.76 1008.11 Q97.1493 1008.11 95.3206 1011.68 Q93.515 1015.22 93.515 1022.35 Q93.515 1029.46 95.3206 1033.02 Q97.1493 1036.56 100.76 1036.56 Q104.395 1036.56 106.2 1033.02 Q108.029 1029.46 108.029 1022.35 Q108.029 1015.22 106.2 1011.68 Q104.395 1008.11 100.76 1008.11 M100.76 1004.41 Q106.571 1004.41 109.626 1009.02 Q112.705 1013.6 112.705 1022.35 Q112.705 1031.08 109.626 1035.68 Q106.571 1040.27 100.76 1040.27 Q94.9502 1040.27 91.8715 1035.68 Q88.816 1031.08 88.816 1022.35 Q88.816 1013.6 91.8715 1009.02 Q94.9502 1004.41 100.76 1004.41 Z\" fill=\"#000000\" fill-rule=\"nonzero\" fill-opacity=\"1\" /><path clip-path=\"url(#clip300)\" d=\"M120.922 1033.72 L125.807 1033.72 L125.807 1039.59 L120.922 1039.59 L120.922 1033.72 Z\" fill=\"#000000\" fill-rule=\"nonzero\" fill-opacity=\"1\" /><path clip-path=\"url(#clip300)\" d=\"M140.019 1035.66 L156.339 1035.66 L156.339 1039.59 L134.394 1039.59 L134.394 1035.66 Q137.056 1032.91 141.64 1028.28 Q146.246 1023.62 147.427 1022.28 Q149.672 1019.76 150.552 1018.02 Q151.455 1016.26 151.455 1014.57 Q151.455 1011.82 149.51 1010.08 Q147.589 1008.35 144.487 1008.35 Q142.288 1008.35 139.834 1009.11 Q137.404 1009.87 134.626 1011.42 L134.626 1006.7 Q137.45 1005.57 139.904 1004.99 Q142.357 1004.41 144.394 1004.41 Q149.765 1004.41 152.959 1007.1 Q156.154 1009.78 156.154 1014.27 Q156.154 1016.4 155.343 1018.32 Q154.556 1020.22 152.45 1022.81 Q151.871 1023.48 148.769 1026.7 Q145.668 1029.9 140.019 1035.66 Z\" fill=\"#000000\" fill-rule=\"nonzero\" fill-opacity=\"1\" /><path clip-path=\"url(#clip300)\" d=\"M176.153 1008.11 Q172.542 1008.11 170.714 1011.68 Q168.908 1015.22 168.908 1022.35 Q168.908 1029.46 170.714 1033.02 Q172.542 1036.56 176.153 1036.56 Q179.788 1036.56 181.593 1033.02 Q183.422 1029.46 183.422 1022.35 Q183.422 1015.22 181.593 1011.68 Q179.788 1008.11 176.153 1008.11 M176.153 1004.41 Q181.964 1004.41 185.019 1009.02 Q188.098 1013.6 188.098 1022.35 Q188.098 1031.08 185.019 1035.68 Q181.964 1040.27 176.153 1040.27 Q170.343 1040.27 167.265 1035.68 Q164.209 1031.08 164.209 1022.35 Q164.209 1013.6 167.265 1009.02 Q170.343 1004.41 176.153 1004.41 Z\" fill=\"#000000\" fill-rule=\"nonzero\" fill-opacity=\"1\" /><path clip-path=\"url(#clip300)\" d=\"M51.9875 778.999 L81.6633 778.999 L81.6633 782.934 L51.9875 782.934 L51.9875 778.999 Z\" fill=\"#000000\" fill-rule=\"nonzero\" fill-opacity=\"1\" /><path clip-path=\"url(#clip300)\" d=\"M101.756 764.346 Q98.1447 764.346 96.316 767.911 Q94.5104 771.452 94.5104 778.582 Q94.5104 785.688 96.316 789.253 Q98.1447 792.795 101.756 792.795 Q105.39 792.795 107.196 789.253 Q109.024 785.688 109.024 778.582 Q109.024 771.452 107.196 767.911 Q105.39 764.346 101.756 764.346 M101.756 760.642 Q107.566 760.642 110.621 765.249 Q113.7 769.832 113.7 778.582 Q113.7 787.309 110.621 791.915 Q107.566 796.498 101.756 796.498 Q95.9456 796.498 92.8669 791.915 Q89.8114 787.309 89.8114 778.582 Q89.8114 769.832 92.8669 765.249 Q95.9456 760.642 101.756 760.642 Z\" fill=\"#000000\" fill-rule=\"nonzero\" fill-opacity=\"1\" /><path clip-path=\"url(#clip300)\" d=\"M121.918 789.948 L126.802 789.948 L126.802 795.827 L121.918 795.827 L121.918 789.948 Z\" fill=\"#000000\" fill-rule=\"nonzero\" fill-opacity=\"1\" /><path clip-path=\"url(#clip300)\" d=\"M137.797 791.892 L145.436 791.892 L145.436 765.526 L137.126 767.193 L137.126 762.934 L145.39 761.267 L150.066 761.267 L150.066 791.892 L157.705 791.892 L157.705 795.827 L137.797 795.827 L137.797 791.892 Z\" fill=\"#000000\" fill-rule=\"nonzero\" fill-opacity=\"1\" /><path clip-path=\"url(#clip300)\" d=\"M167.195 761.267 L185.552 761.267 L185.552 765.202 L171.478 765.202 L171.478 773.674 Q172.496 773.327 173.515 773.165 Q174.533 772.98 175.552 772.98 Q181.339 772.98 184.718 776.151 Q188.098 779.323 188.098 784.739 Q188.098 790.318 184.626 793.42 Q181.153 796.498 174.834 796.498 Q172.658 796.498 170.39 796.128 Q168.144 795.758 165.737 795.017 L165.737 790.318 Q167.82 791.452 170.042 792.008 Q172.265 792.563 174.741 792.563 Q178.746 792.563 181.084 790.457 Q183.422 788.35 183.422 784.739 Q183.422 781.128 181.084 779.022 Q178.746 776.915 174.741 776.915 Q172.866 776.915 170.991 777.332 Q169.14 777.749 167.195 778.628 L167.195 761.267 Z\" fill=\"#000000\" fill-rule=\"nonzero\" fill-opacity=\"1\" /><path clip-path=\"url(#clip300)\" d=\"M50.9921 535.231 L80.6679 535.231 L80.6679 539.166 L50.9921 539.166 L50.9921 535.231 Z\" fill=\"#000000\" fill-rule=\"nonzero\" fill-opacity=\"1\" /><path clip-path=\"url(#clip300)\" d=\"M100.76 520.578 Q97.1493 520.578 95.3206 524.143 Q93.515 527.685 93.515 534.814 Q93.515 541.921 95.3206 545.485 Q97.1493 549.027 100.76 549.027 Q104.395 549.027 106.2 545.485 Q108.029 541.921 108.029 534.814 Q108.029 527.685 106.2 524.143 Q104.395 520.578 100.76 520.578 M100.76 516.874 Q106.571 516.874 109.626 521.481 Q112.705 526.064 112.705 534.814 Q112.705 543.541 109.626 548.147 Q106.571 552.731 100.76 552.731 Q94.9502 552.731 91.8715 548.147 Q88.816 543.541 88.816 534.814 Q88.816 526.064 91.8715 521.481 Q94.9502 516.874 100.76 516.874 Z\" fill=\"#000000\" fill-rule=\"nonzero\" fill-opacity=\"1\" /><path clip-path=\"url(#clip300)\" d=\"M120.922 546.18 L125.807 546.18 L125.807 552.059 L120.922 552.059 L120.922 546.18 Z\" fill=\"#000000\" fill-rule=\"nonzero\" fill-opacity=\"1\" /><path clip-path=\"url(#clip300)\" d=\"M136.802 548.124 L144.441 548.124 L144.441 521.759 L136.131 523.425 L136.131 519.166 L144.394 517.499 L149.07 517.499 L149.07 548.124 L156.709 548.124 L156.709 552.059 L136.802 552.059 L136.802 548.124 Z\" fill=\"#000000\" fill-rule=\"nonzero\" fill-opacity=\"1\" /><path clip-path=\"url(#clip300)\" d=\"M176.153 520.578 Q172.542 520.578 170.714 524.143 Q168.908 527.685 168.908 534.814 Q168.908 541.921 170.714 545.485 Q172.542 549.027 176.153 549.027 Q179.788 549.027 181.593 545.485 Q183.422 541.921 183.422 534.814 Q183.422 527.685 181.593 524.143 Q179.788 520.578 176.153 520.578 M176.153 516.874 Q181.964 516.874 185.019 521.481 Q188.098 526.064 188.098 534.814 Q188.098 543.541 185.019 548.147 Q181.964 552.731 176.153 552.731 Q170.343 552.731 167.265 548.147 Q164.209 543.541 164.209 534.814 Q164.209 526.064 167.265 521.481 Q170.343 516.874 176.153 516.874 Z\" fill=\"#000000\" fill-rule=\"nonzero\" fill-opacity=\"1\" /><path clip-path=\"url(#clip300)\" d=\"M51.9875 291.463 L81.6633 291.463 L81.6633 295.398 L51.9875 295.398 L51.9875 291.463 Z\" fill=\"#000000\" fill-rule=\"nonzero\" fill-opacity=\"1\" /><path clip-path=\"url(#clip300)\" d=\"M101.756 276.81 Q98.1447 276.81 96.316 280.375 Q94.5104 283.917 94.5104 291.047 Q94.5104 298.153 96.316 301.718 Q98.1447 305.259 101.756 305.259 Q105.39 305.259 107.196 301.718 Q109.024 298.153 109.024 291.047 Q109.024 283.917 107.196 280.375 Q105.39 276.81 101.756 276.81 M101.756 273.107 Q107.566 273.107 110.621 277.713 Q113.7 282.297 113.7 291.047 Q113.7 299.773 110.621 304.38 Q107.566 308.963 101.756 308.963 Q95.9456 308.963 92.8669 304.38 Q89.8114 299.773 89.8114 291.047 Q89.8114 282.297 92.8669 277.713 Q95.9456 273.107 101.756 273.107 Z\" fill=\"#000000\" fill-rule=\"nonzero\" fill-opacity=\"1\" /><path clip-path=\"url(#clip300)\" d=\"M121.918 302.412 L126.802 302.412 L126.802 308.292 L121.918 308.292 L121.918 302.412 Z\" fill=\"#000000\" fill-rule=\"nonzero\" fill-opacity=\"1\" /><path clip-path=\"url(#clip300)\" d=\"M146.987 276.81 Q143.376 276.81 141.547 280.375 Q139.742 283.917 139.742 291.047 Q139.742 298.153 141.547 301.718 Q143.376 305.259 146.987 305.259 Q150.621 305.259 152.427 301.718 Q154.255 298.153 154.255 291.047 Q154.255 283.917 152.427 280.375 Q150.621 276.81 146.987 276.81 M146.987 273.107 Q152.797 273.107 155.853 277.713 Q158.931 282.297 158.931 291.047 Q158.931 299.773 155.853 304.38 Q152.797 308.963 146.987 308.963 Q141.177 308.963 138.098 304.38 Q135.043 299.773 135.043 291.047 Q135.043 282.297 138.098 277.713 Q141.177 273.107 146.987 273.107 Z\" fill=\"#000000\" fill-rule=\"nonzero\" fill-opacity=\"1\" /><path clip-path=\"url(#clip300)\" d=\"M167.195 273.732 L185.552 273.732 L185.552 277.667 L171.478 277.667 L171.478 286.139 Q172.496 285.792 173.515 285.63 Q174.533 285.445 175.552 285.445 Q181.339 285.445 184.718 288.616 Q188.098 291.787 188.098 297.204 Q188.098 302.783 184.626 305.884 Q181.153 308.963 174.834 308.963 Q172.658 308.963 170.39 308.593 Q168.144 308.222 165.737 307.482 L165.737 302.783 Q167.82 303.917 170.042 304.472 Q172.265 305.028 174.741 305.028 Q178.746 305.028 181.084 302.921 Q183.422 300.815 183.422 297.204 Q183.422 293.593 181.084 291.486 Q178.746 289.38 174.741 289.38 Q172.866 289.38 170.991 289.797 Q169.14 290.213 167.195 291.093 L167.195 273.732 Z\" fill=\"#000000\" fill-rule=\"nonzero\" fill-opacity=\"1\" /><path clip-path=\"url(#clip300)\" d=\"M100.76 33.0428 Q97.1493 33.0428 95.3206 36.6076 Q93.515 40.1492 93.515 47.2788 Q93.515 54.3853 95.3206 57.9501 Q97.1493 61.4917 100.76 61.4917 Q104.395 61.4917 106.2 57.9501 Q108.029 54.3853 108.029 47.2788 Q108.029 40.1492 106.2 36.6076 Q104.395 33.0428 100.76 33.0428 M100.76 29.3391 Q106.571 29.3391 109.626 33.9456 Q112.705 38.5289 112.705 47.2788 Q112.705 56.0056 109.626 60.6121 Q106.571 65.1954 100.76 65.1954 Q94.9502 65.1954 91.8715 60.6121 Q88.816 56.0056 88.816 47.2788 Q88.816 38.5289 91.8715 33.9456 Q94.9502 29.3391 100.76 29.3391 Z\" fill=\"#000000\" fill-rule=\"nonzero\" fill-opacity=\"1\" /><path clip-path=\"url(#clip300)\" d=\"M120.922 58.6445 L125.807 58.6445 L125.807 64.5241 L120.922 64.5241 L120.922 58.6445 Z\" fill=\"#000000\" fill-rule=\"nonzero\" fill-opacity=\"1\" /><path clip-path=\"url(#clip300)\" d=\"M145.992 33.0428 Q142.381 33.0428 140.552 36.6076 Q138.746 40.1492 138.746 47.2788 Q138.746 54.3853 140.552 57.9501 Q142.381 61.4917 145.992 61.4917 Q149.626 61.4917 151.431 57.9501 Q153.26 54.3853 153.26 47.2788 Q153.26 40.1492 151.431 36.6076 Q149.626 33.0428 145.992 33.0428 M145.992 29.3391 Q151.802 29.3391 154.857 33.9456 Q157.936 38.5289 157.936 47.2788 Q157.936 56.0056 154.857 60.6121 Q151.802 65.1954 145.992 65.1954 Q140.181 65.1954 137.103 60.6121 Q134.047 56.0056 134.047 47.2788 Q134.047 38.5289 137.103 33.9456 Q140.181 29.3391 145.992 29.3391 Z\" fill=\"#000000\" fill-rule=\"nonzero\" fill-opacity=\"1\" /><path clip-path=\"url(#clip300)\" d=\"M176.153 33.0428 Q172.542 33.0428 170.714 36.6076 Q168.908 40.1492 168.908 47.2788 Q168.908 54.3853 170.714 57.9501 Q172.542 61.4917 176.153 61.4917 Q179.788 61.4917 181.593 57.9501 Q183.422 54.3853 183.422 47.2788 Q183.422 40.1492 181.593 36.6076 Q179.788 33.0428 176.153 33.0428 M176.153 29.3391 Q181.964 29.3391 185.019 33.9456 Q188.098 38.5289 188.098 47.2788 Q188.098 56.0056 185.019 60.6121 Q181.964 65.1954 176.153 65.1954 Q170.343 65.1954 167.265 60.6121 Q164.209 56.0056 164.209 47.2788 Q164.209 38.5289 167.265 33.9456 Q170.343 29.3391 176.153 29.3391 Z\" fill=\"#000000\" fill-rule=\"nonzero\" fill-opacity=\"1\" /><path clip-path=\"url(#clip302)\" d=\"M595.473 47.2441 L595.473 47.2441 L646.332 47.2441 L646.332 47.2441 L595.473 47.2441 L595.473 47.2441  Z\" fill=\"#009af9\" fill-rule=\"evenodd\" fill-opacity=\"1\"/>\n",
       "<polyline clip-path=\"url(#clip302)\" style=\"stroke:#000000; stroke-linecap:round; stroke-linejoin:round; stroke-width:4; stroke-opacity:1; fill:none\" points=\"595.473,47.2441 595.473,47.2441 646.332,47.2441 595.473,47.2441 \"/>\n",
       "<path clip-path=\"url(#clip302)\" d=\"M1294.78 397.094 L1294.78 47.2441 L1345.64 47.2441 L1345.64 397.094 L1294.78 397.094 L1294.78 397.094  Z\" fill=\"#009af9\" fill-rule=\"evenodd\" fill-opacity=\"1\"/>\n",
       "<polyline clip-path=\"url(#clip302)\" style=\"stroke:#000000; stroke-linecap:round; stroke-linejoin:round; stroke-width:4; stroke-opacity:1; fill:none\" points=\"1294.78,397.094 1294.78,47.2441 1345.64,47.2441 1345.64,397.094 1294.78,397.094 \"/>\n",
       "<path clip-path=\"url(#clip302)\" d=\"M1549.08 630.434 L1549.08 47.2441 L1599.94 47.2441 L1599.94 630.434 L1549.08 630.434 L1549.08 630.434  Z\" fill=\"#009af9\" fill-rule=\"evenodd\" fill-opacity=\"1\"/>\n",
       "<polyline clip-path=\"url(#clip302)\" style=\"stroke:#000000; stroke-linecap:round; stroke-linejoin:round; stroke-width:4; stroke-opacity:1; fill:none\" points=\"1549.08,630.434 1549.08,47.2441 1599.94,47.2441 1599.94,630.434 1549.08,630.434 \"/>\n",
       "<path clip-path=\"url(#clip302)\" d=\"M1040.49 765.899 L1040.49 47.2441 L1091.35 47.2441 L1091.35 765.899 L1040.49 765.899 L1040.49 765.899  Z\" fill=\"#009af9\" fill-rule=\"evenodd\" fill-opacity=\"1\"/>\n",
       "<polyline clip-path=\"url(#clip302)\" style=\"stroke:#000000; stroke-linecap:round; stroke-linejoin:round; stroke-width:4; stroke-opacity:1; fill:none\" points=\"1040.49,765.899 1040.49,47.2441 1091.35,47.2441 1091.35,765.899 1040.49,765.899 \"/>\n",
       "<path clip-path=\"url(#clip302)\" d=\"M1803.37 1164.67 L1803.37 47.2441 L1854.23 47.2441 L1854.23 1164.67 L1803.37 1164.67 L1803.37 1164.67  Z\" fill=\"#009af9\" fill-rule=\"evenodd\" fill-opacity=\"1\"/>\n",
       "<polyline clip-path=\"url(#clip302)\" style=\"stroke:#000000; stroke-linecap:round; stroke-linejoin:round; stroke-width:4; stroke-opacity:1; fill:none\" points=\"1803.37,1164.67 1803.37,47.2441 1854.23,47.2441 1854.23,1164.67 1803.37,1164.67 \"/>\n",
       "<path clip-path=\"url(#clip302)\" d=\"M2057.67 911.487 L2057.67 47.2441 L2108.53 47.2441 L2108.53 911.487 L2057.67 911.487 L2057.67 911.487  Z\" fill=\"#009af9\" fill-rule=\"evenodd\" fill-opacity=\"1\"/>\n",
       "<polyline clip-path=\"url(#clip302)\" style=\"stroke:#000000; stroke-linecap:round; stroke-linejoin:round; stroke-width:4; stroke-opacity:1; fill:none\" points=\"2057.67,911.487 2057.67,47.2441 2108.53,47.2441 2108.53,911.487 2057.67,911.487 \"/>\n",
       "<path clip-path=\"url(#clip302)\" d=\"M786.194 1061.28 L786.194 47.2441 L837.053 47.2441 L837.053 1061.28 L786.194 1061.28 L786.194 1061.28  Z\" fill=\"#009af9\" fill-rule=\"evenodd\" fill-opacity=\"1\"/>\n",
       "<polyline clip-path=\"url(#clip302)\" style=\"stroke:#000000; stroke-linecap:round; stroke-linejoin:round; stroke-width:4; stroke-opacity:1; fill:none\" points=\"786.194,1061.28 786.194,47.2441 837.053,47.2441 837.053,1061.28 786.194,1061.28 \"/>\n",
       "<path clip-path=\"url(#clip302)\" d=\"M1358.36 977.683 L1358.36 47.2441 L1409.22 47.2441 L1409.22 977.683 L1358.36 977.683 L1358.36 977.683  Z\" fill=\"#009af9\" fill-rule=\"evenodd\" fill-opacity=\"1\"/>\n",
       "<polyline clip-path=\"url(#clip302)\" style=\"stroke:#000000; stroke-linecap:round; stroke-linejoin:round; stroke-width:4; stroke-opacity:1; fill:none\" points=\"1358.36,977.683 1358.36,47.2441 1409.22,47.2441 1409.22,977.683 1358.36,977.683 \"/>\n",
       "<path clip-path=\"url(#clip302)\" d=\"M2184.82 1176.08 L2184.82 47.2441 L2235.68 47.2441 L2235.68 1176.08 L2184.82 1176.08 L2184.82 1176.08  Z\" fill=\"#009af9\" fill-rule=\"evenodd\" fill-opacity=\"1\"/>\n",
       "<polyline clip-path=\"url(#clip302)\" style=\"stroke:#000000; stroke-linecap:round; stroke-linejoin:round; stroke-width:4; stroke-opacity:1; fill:none\" points=\"2184.82,1176.08 2184.82,47.2441 2235.68,47.2441 2235.68,1176.08 2184.82,1176.08 \"/>\n",
       "<path clip-path=\"url(#clip302)\" d=\"M341.178 1314.87 L341.178 47.2441 L392.037 47.2441 L392.037 1314.87 L341.178 1314.87 L341.178 1314.87  Z\" fill=\"#009af9\" fill-rule=\"evenodd\" fill-opacity=\"1\"/>\n",
       "<polyline clip-path=\"url(#clip302)\" style=\"stroke:#000000; stroke-linecap:round; stroke-linejoin:round; stroke-width:4; stroke-opacity:1; fill:none\" points=\"341.178,1314.87 341.178,47.2441 392.037,47.2441 392.037,1314.87 341.178,1314.87 \"/>\n",
       "<path clip-path=\"url(#clip302)\" d=\"M1739.8 1176.08 L1739.8 47.2441 L1790.66 47.2441 L1790.66 1176.08 L1739.8 1176.08 L1739.8 1176.08  Z\" fill=\"#009af9\" fill-rule=\"evenodd\" fill-opacity=\"1\"/>\n",
       "<polyline clip-path=\"url(#clip302)\" style=\"stroke:#000000; stroke-linecap:round; stroke-linejoin:round; stroke-width:4; stroke-opacity:1; fill:none\" points=\"1739.8,1176.08 1739.8,47.2441 1790.66,47.2441 1790.66,1176.08 1739.8,1176.08 \"/>\n",
       "<path clip-path=\"url(#clip302)\" d=\"M1676.23 1254.58 L1676.23 47.2441 L1727.09 47.2441 L1727.09 1254.58 L1676.23 1254.58 L1676.23 1254.58  Z\" fill=\"#009af9\" fill-rule=\"evenodd\" fill-opacity=\"1\"/>\n",
       "<polyline clip-path=\"url(#clip302)\" style=\"stroke:#000000; stroke-linecap:round; stroke-linejoin:round; stroke-width:4; stroke-opacity:1; fill:none\" points=\"1676.23,1254.58 1676.23,47.2441 1727.09,47.2441 1727.09,1254.58 1676.23,1254.58 \"/>\n",
       "<path clip-path=\"url(#clip302)\" d=\"M1485.51 1254.58 L1485.51 47.2441 L1536.36 47.2441 L1536.36 1254.58 L1485.51 1254.58 L1485.51 1254.58  Z\" fill=\"#009af9\" fill-rule=\"evenodd\" fill-opacity=\"1\"/>\n",
       "<polyline clip-path=\"url(#clip302)\" style=\"stroke:#000000; stroke-linecap:round; stroke-linejoin:round; stroke-width:4; stroke-opacity:1; fill:none\" points=\"1485.51,1254.58 1485.51,47.2441 1536.36,47.2441 1536.36,1254.58 1485.51,1254.58 \"/>\n",
       "<path clip-path=\"url(#clip302)\" d=\"M659.047 1331.66 L659.047 47.2441 L709.906 47.2441 L709.906 1331.66 L659.047 1331.66 L659.047 1331.66  Z\" fill=\"#009af9\" fill-rule=\"evenodd\" fill-opacity=\"1\"/>\n",
       "<polyline clip-path=\"url(#clip302)\" style=\"stroke:#000000; stroke-linecap:round; stroke-linejoin:round; stroke-width:4; stroke-opacity:1; fill:none\" points=\"659.047,1331.66 659.047,47.2441 709.906,47.2441 709.906,1331.66 659.047,1331.66 \"/>\n",
       "<path clip-path=\"url(#clip302)\" d=\"M976.915 1338.78 L976.915 47.2441 L1027.77 47.2441 L1027.77 1338.78 L976.915 1338.78 L976.915 1338.78  Z\" fill=\"#009af9\" fill-rule=\"evenodd\" fill-opacity=\"1\"/>\n",
       "<polyline clip-path=\"url(#clip302)\" style=\"stroke:#000000; stroke-linecap:round; stroke-linejoin:round; stroke-width:4; stroke-opacity:1; fill:none\" points=\"976.915,1338.78 976.915,47.2441 1027.77,47.2441 1027.77,1338.78 976.915,1338.78 \"/>\n",
       "<path clip-path=\"url(#clip302)\" d=\"M849.768 1302.61 L849.768 47.2441 L900.627 47.2441 L900.627 1302.61 L849.768 1302.61 L849.768 1302.61  Z\" fill=\"#009af9\" fill-rule=\"evenodd\" fill-opacity=\"1\"/>\n",
       "<polyline clip-path=\"url(#clip302)\" style=\"stroke:#000000; stroke-linecap:round; stroke-linejoin:round; stroke-width:4; stroke-opacity:1; fill:none\" points=\"849.768,1302.61 849.768,47.2441 900.627,47.2441 900.627,1302.61 849.768,1302.61 \"/>\n",
       "<path clip-path=\"url(#clip302)\" d=\"M1167.64 1329.97 L1167.64 47.2441 L1218.5 47.2441 L1218.5 1329.97 L1167.64 1329.97 L1167.64 1329.97  Z\" fill=\"#009af9\" fill-rule=\"evenodd\" fill-opacity=\"1\"/>\n",
       "<polyline clip-path=\"url(#clip302)\" style=\"stroke:#000000; stroke-linecap:round; stroke-linejoin:round; stroke-width:4; stroke-opacity:1; fill:none\" points=\"1167.64,1329.97 1167.64,47.2441 1218.5,47.2441 1218.5,1329.97 1167.64,1329.97 \"/>\n",
       "<path clip-path=\"url(#clip302)\" d=\"M468.325 1390.86 L468.325 47.2441 L519.184 47.2441 L519.184 1390.86 L468.325 1390.86 L468.325 1390.86  Z\" fill=\"#009af9\" fill-rule=\"evenodd\" fill-opacity=\"1\"/>\n",
       "<polyline clip-path=\"url(#clip302)\" style=\"stroke:#000000; stroke-linecap:round; stroke-linejoin:round; stroke-width:4; stroke-opacity:1; fill:none\" points=\"468.325,1390.86 468.325,47.2441 519.184,47.2441 519.184,1390.86 468.325,1390.86 \"/>\n",
       "<path clip-path=\"url(#clip302)\" d=\"M2121.24 1405.15 L2121.24 47.2441 L2172.1 47.2441 L2172.1 1405.15 L2121.24 1405.15 L2121.24 1405.15  Z\" fill=\"#009af9\" fill-rule=\"evenodd\" fill-opacity=\"1\"/>\n",
       "<polyline clip-path=\"url(#clip302)\" style=\"stroke:#000000; stroke-linecap:round; stroke-linejoin:round; stroke-width:4; stroke-opacity:1; fill:none\" points=\"2121.24,1405.15 2121.24,47.2441 2172.1,47.2441 2172.1,1405.15 2121.24,1405.15 \"/>\n",
       "<path clip-path=\"url(#clip302)\" d=\"M722.62 1387.56 L722.62 47.2441 L773.479 47.2441 L773.479 1387.56 L722.62 1387.56 L722.62 1387.56  Z\" fill=\"#009af9\" fill-rule=\"evenodd\" fill-opacity=\"1\"/>\n",
       "<polyline clip-path=\"url(#clip302)\" style=\"stroke:#000000; stroke-linecap:round; stroke-linejoin:round; stroke-width:4; stroke-opacity:1; fill:none\" points=\"722.62,1387.56 722.62,47.2441 773.479,47.2441 773.479,1387.56 722.62,1387.56 \"/>\n",
       "<path clip-path=\"url(#clip302)\" d=\"M1866.95 1353.62 L1866.95 47.2441 L1917.81 47.2441 L1917.81 1353.62 L1866.95 1353.62 L1866.95 1353.62  Z\" fill=\"#009af9\" fill-rule=\"evenodd\" fill-opacity=\"1\"/>\n",
       "<polyline clip-path=\"url(#clip302)\" style=\"stroke:#000000; stroke-linecap:round; stroke-linejoin:round; stroke-width:4; stroke-opacity:1; fill:none\" points=\"1866.95,1353.62 1866.95,47.2441 1917.81,47.2441 1917.81,1353.62 1866.95,1353.62 \"/>\n",
       "<path clip-path=\"url(#clip302)\" d=\"M531.899 1352.42 L531.899 47.2441 L582.758 47.2441 L582.758 1352.42 L531.899 1352.42 L531.899 1352.42  Z\" fill=\"#009af9\" fill-rule=\"evenodd\" fill-opacity=\"1\"/>\n",
       "<polyline clip-path=\"url(#clip302)\" style=\"stroke:#000000; stroke-linecap:round; stroke-linejoin:round; stroke-width:4; stroke-opacity:1; fill:none\" points=\"531.899,1352.42 531.899,47.2441 582.758,47.2441 582.758,1352.42 531.899,1352.42 \"/>\n",
       "<path clip-path=\"url(#clip302)\" d=\"M1104.06 1371.6 L1104.06 47.2441 L1154.92 47.2441 L1154.92 1371.6 L1104.06 1371.6 L1104.06 1371.6  Z\" fill=\"#009af9\" fill-rule=\"evenodd\" fill-opacity=\"1\"/>\n",
       "<polyline clip-path=\"url(#clip302)\" style=\"stroke:#000000; stroke-linecap:round; stroke-linejoin:round; stroke-width:4; stroke-opacity:1; fill:none\" points=\"1104.06,1371.6 1104.06,47.2441 1154.92,47.2441 1154.92,1371.6 1104.06,1371.6 \"/>\n",
       "<path clip-path=\"url(#clip302)\" d=\"M1231.21 1385.38 L1231.21 47.2441 L1282.07 47.2441 L1282.07 1385.38 L1231.21 1385.38 L1231.21 1385.38  Z\" fill=\"#009af9\" fill-rule=\"evenodd\" fill-opacity=\"1\"/>\n",
       "<polyline clip-path=\"url(#clip302)\" style=\"stroke:#000000; stroke-linecap:round; stroke-linejoin:round; stroke-width:4; stroke-opacity:1; fill:none\" points=\"1231.21,1385.38 1231.21,47.2441 1282.07,47.2441 1282.07,1385.38 1231.21,1385.38 \"/>\n",
       "<path clip-path=\"url(#clip302)\" d=\"M404.752 1348.4 L404.752 47.2441 L455.611 47.2441 L455.611 1348.4 L404.752 1348.4 L404.752 1348.4  Z\" fill=\"#009af9\" fill-rule=\"evenodd\" fill-opacity=\"1\"/>\n",
       "<polyline clip-path=\"url(#clip302)\" style=\"stroke:#000000; stroke-linecap:round; stroke-linejoin:round; stroke-width:4; stroke-opacity:1; fill:none\" points=\"404.752,1348.4 404.752,47.2441 455.611,47.2441 455.611,1348.4 404.752,1348.4 \"/>\n",
       "<path clip-path=\"url(#clip302)\" d=\"M1994.1 1384.92 L1994.1 47.2441 L2044.95 47.2441 L2044.95 1384.92 L1994.1 1384.92 L1994.1 1384.92  Z\" fill=\"#009af9\" fill-rule=\"evenodd\" fill-opacity=\"1\"/>\n",
       "<polyline clip-path=\"url(#clip302)\" style=\"stroke:#000000; stroke-linecap:round; stroke-linejoin:round; stroke-width:4; stroke-opacity:1; fill:none\" points=\"1994.1,1384.92 1994.1,47.2441 2044.95,47.2441 2044.95,1384.92 1994.1,1384.92 \"/>\n",
       "<path clip-path=\"url(#clip302)\" d=\"M1612.65 1302.87 L1612.65 47.2441 L1663.51 47.2441 L1663.51 1302.87 L1612.65 1302.87 L1612.65 1302.87  Z\" fill=\"#009af9\" fill-rule=\"evenodd\" fill-opacity=\"1\"/>\n",
       "<polyline clip-path=\"url(#clip302)\" style=\"stroke:#000000; stroke-linecap:round; stroke-linejoin:round; stroke-width:4; stroke-opacity:1; fill:none\" points=\"1612.65,1302.87 1612.65,47.2441 1663.51,47.2441 1663.51,1302.87 1612.65,1302.87 \"/>\n",
       "<path clip-path=\"url(#clip302)\" d=\"M1930.52 965.856 L1930.52 47.2441 L1981.38 47.2441 L1981.38 965.856 L1930.52 965.856 L1930.52 965.856  Z\" fill=\"#009af9\" fill-rule=\"evenodd\" fill-opacity=\"1\"/>\n",
       "<polyline clip-path=\"url(#clip302)\" style=\"stroke:#000000; stroke-linecap:round; stroke-linejoin:round; stroke-width:4; stroke-opacity:1; fill:none\" points=\"1930.52,965.856 1930.52,47.2441 1981.38,47.2441 1981.38,965.856 1930.52,965.856 \"/>\n",
       "<path clip-path=\"url(#clip302)\" d=\"M913.342 1409.71 L913.342 47.2441 L964.201 47.2441 L964.201 1409.71 L913.342 1409.71 L913.342 1409.71  Z\" fill=\"#009af9\" fill-rule=\"evenodd\" fill-opacity=\"1\"/>\n",
       "<polyline clip-path=\"url(#clip302)\" style=\"stroke:#000000; stroke-linecap:round; stroke-linejoin:round; stroke-width:4; stroke-opacity:1; fill:none\" points=\"913.342,1409.71 913.342,47.2441 964.201,47.2441 964.201,1409.71 913.342,1409.71 \"/>\n",
       "<path clip-path=\"url(#clip302)\" d=\"M1421.93 1486.45 L1421.93 47.2441 L1472.79 47.2441 L1472.79 1486.45 L1421.93 1486.45 L1421.93 1486.45  Z\" fill=\"#009af9\" fill-rule=\"evenodd\" fill-opacity=\"1\"/>\n",
       "<polyline clip-path=\"url(#clip302)\" style=\"stroke:#000000; stroke-linecap:round; stroke-linejoin:round; stroke-width:4; stroke-opacity:1; fill:none\" points=\"1421.93,1486.45 1421.93,47.2441 1472.79,47.2441 1472.79,1486.45 1421.93,1486.45 \"/>\n",
       "<circle clip-path=\"url(#clip302)\" style=\"fill:#009af9; stroke:none; fill-opacity:0\" cx=\"620.902\" cy=\"47.2441\" r=\"2\"/>\n",
       "<circle clip-path=\"url(#clip302)\" style=\"fill:#009af9; stroke:none; fill-opacity:0\" cx=\"1320.21\" cy=\"397.094\" r=\"2\"/>\n",
       "<circle clip-path=\"url(#clip302)\" style=\"fill:#009af9; stroke:none; fill-opacity:0\" cx=\"1574.51\" cy=\"630.434\" r=\"2\"/>\n",
       "<circle clip-path=\"url(#clip302)\" style=\"fill:#009af9; stroke:none; fill-opacity:0\" cx=\"1065.92\" cy=\"765.899\" r=\"2\"/>\n",
       "<circle clip-path=\"url(#clip302)\" style=\"fill:#009af9; stroke:none; fill-opacity:0\" cx=\"1828.8\" cy=\"1164.67\" r=\"2\"/>\n",
       "<circle clip-path=\"url(#clip302)\" style=\"fill:#009af9; stroke:none; fill-opacity:0\" cx=\"2083.1\" cy=\"911.487\" r=\"2\"/>\n",
       "<circle clip-path=\"url(#clip302)\" style=\"fill:#009af9; stroke:none; fill-opacity:0\" cx=\"811.624\" cy=\"1061.28\" r=\"2\"/>\n",
       "<circle clip-path=\"url(#clip302)\" style=\"fill:#009af9; stroke:none; fill-opacity:0\" cx=\"1383.79\" cy=\"977.683\" r=\"2\"/>\n",
       "<circle clip-path=\"url(#clip302)\" style=\"fill:#009af9; stroke:none; fill-opacity:0\" cx=\"2210.25\" cy=\"1176.08\" r=\"2\"/>\n",
       "<circle clip-path=\"url(#clip302)\" style=\"fill:#009af9; stroke:none; fill-opacity:0\" cx=\"366.607\" cy=\"1314.87\" r=\"2\"/>\n",
       "<circle clip-path=\"url(#clip302)\" style=\"fill:#009af9; stroke:none; fill-opacity:0\" cx=\"1765.23\" cy=\"1176.08\" r=\"2\"/>\n",
       "<circle clip-path=\"url(#clip302)\" style=\"fill:#009af9; stroke:none; fill-opacity:0\" cx=\"1701.66\" cy=\"1254.58\" r=\"2\"/>\n",
       "<circle clip-path=\"url(#clip302)\" style=\"fill:#009af9; stroke:none; fill-opacity:0\" cx=\"1510.94\" cy=\"1254.58\" r=\"2\"/>\n",
       "<circle clip-path=\"url(#clip302)\" style=\"fill:#009af9; stroke:none; fill-opacity:0\" cx=\"684.476\" cy=\"1331.66\" r=\"2\"/>\n",
       "<circle clip-path=\"url(#clip302)\" style=\"fill:#009af9; stroke:none; fill-opacity:0\" cx=\"1002.34\" cy=\"1338.78\" r=\"2\"/>\n",
       "<circle clip-path=\"url(#clip302)\" style=\"fill:#009af9; stroke:none; fill-opacity:0\" cx=\"875.197\" cy=\"1302.61\" r=\"2\"/>\n",
       "<circle clip-path=\"url(#clip302)\" style=\"fill:#009af9; stroke:none; fill-opacity:0\" cx=\"1193.07\" cy=\"1329.97\" r=\"2\"/>\n",
       "<circle clip-path=\"url(#clip302)\" style=\"fill:#009af9; stroke:none; fill-opacity:0\" cx=\"493.755\" cy=\"1390.86\" r=\"2\"/>\n",
       "<circle clip-path=\"url(#clip302)\" style=\"fill:#009af9; stroke:none; fill-opacity:0\" cx=\"2146.67\" cy=\"1405.15\" r=\"2\"/>\n",
       "<circle clip-path=\"url(#clip302)\" style=\"fill:#009af9; stroke:none; fill-opacity:0\" cx=\"748.05\" cy=\"1387.56\" r=\"2\"/>\n",
       "<circle clip-path=\"url(#clip302)\" style=\"fill:#009af9; stroke:none; fill-opacity:0\" cx=\"1892.38\" cy=\"1353.62\" r=\"2\"/>\n",
       "<circle clip-path=\"url(#clip302)\" style=\"fill:#009af9; stroke:none; fill-opacity:0\" cx=\"557.329\" cy=\"1352.42\" r=\"2\"/>\n",
       "<circle clip-path=\"url(#clip302)\" style=\"fill:#009af9; stroke:none; fill-opacity:0\" cx=\"1129.49\" cy=\"1371.6\" r=\"2\"/>\n",
       "<circle clip-path=\"url(#clip302)\" style=\"fill:#009af9; stroke:none; fill-opacity:0\" cx=\"1256.64\" cy=\"1385.38\" r=\"2\"/>\n",
       "<circle clip-path=\"url(#clip302)\" style=\"fill:#009af9; stroke:none; fill-opacity:0\" cx=\"430.181\" cy=\"1348.4\" r=\"2\"/>\n",
       "<circle clip-path=\"url(#clip302)\" style=\"fill:#009af9; stroke:none; fill-opacity:0\" cx=\"2019.53\" cy=\"1384.92\" r=\"2\"/>\n",
       "<circle clip-path=\"url(#clip302)\" style=\"fill:#009af9; stroke:none; fill-opacity:0\" cx=\"1638.08\" cy=\"1302.87\" r=\"2\"/>\n",
       "<circle clip-path=\"url(#clip302)\" style=\"fill:#009af9; stroke:none; fill-opacity:0\" cx=\"1955.95\" cy=\"965.856\" r=\"2\"/>\n",
       "<circle clip-path=\"url(#clip302)\" style=\"fill:#009af9; stroke:none; fill-opacity:0\" cx=\"938.771\" cy=\"1409.71\" r=\"2\"/>\n",
       "<circle clip-path=\"url(#clip302)\" style=\"fill:#009af9; stroke:none; fill-opacity:0\" cx=\"1447.36\" cy=\"1486.45\" r=\"2\"/>\n",
       "<path clip-path=\"url(#clip300)\" d=\"M295.053 198.898 L832.825 198.898 L832.825 95.2176 L295.053 95.2176  Z\" fill=\"#ffffff\" fill-rule=\"evenodd\" fill-opacity=\"1\"/>\n",
       "<polyline clip-path=\"url(#clip300)\" style=\"stroke:#000000; stroke-linecap:round; stroke-linejoin:round; stroke-width:4; stroke-opacity:1; fill:none\" points=\"295.053,198.898 832.825,198.898 832.825,95.2176 295.053,95.2176 295.053,198.898 \"/>\n",
       "<path clip-path=\"url(#clip300)\" d=\"M318.705 167.794 L460.615 167.794 L460.615 126.322 L318.705 126.322 L318.705 167.794  Z\" fill=\"#009af9\" fill-rule=\"evenodd\" fill-opacity=\"1\"/>\n",
       "<polyline clip-path=\"url(#clip300)\" style=\"stroke:#000000; stroke-linecap:round; stroke-linejoin:round; stroke-width:4; stroke-opacity:1; fill:none\" points=\"318.705,167.794 460.615,167.794 460.615,126.322 318.705,126.322 318.705,167.794 \"/>\n",
       "<path clip-path=\"url(#clip300)\" d=\"M497.462 164.338 L484.267 129.778 L489.151 129.778 L500.1 158.875 L511.073 129.778 L515.934 129.778 L502.762 164.338 L497.462 164.338 Z\" fill=\"#000000\" fill-rule=\"nonzero\" fill-opacity=\"1\" /><path clip-path=\"url(#clip300)\" d=\"M527.16 141.398 Q523.735 141.398 521.744 144.083 Q519.753 146.745 519.753 151.398 Q519.753 156.051 521.721 158.736 Q523.711 161.398 527.16 161.398 Q530.563 161.398 532.554 158.713 Q534.545 156.027 534.545 151.398 Q534.545 146.791 532.554 144.106 Q530.563 141.398 527.16 141.398 M527.16 137.787 Q532.716 137.787 535.887 141.398 Q539.059 145.009 539.059 151.398 Q539.059 157.764 535.887 161.398 Q532.716 165.009 527.16 165.009 Q521.582 165.009 518.411 161.398 Q515.262 157.764 515.262 151.398 Q515.262 145.009 518.411 141.398 Q521.582 137.787 527.16 137.787 Z\" fill=\"#000000\" fill-rule=\"nonzero\" fill-opacity=\"1\" /><path clip-path=\"url(#clip300)\" d=\"M546.119 128.319 L550.378 128.319 L550.378 164.338 L546.119 164.338 L546.119 128.319 Z\" fill=\"#000000\" fill-rule=\"nonzero\" fill-opacity=\"1\" /><path clip-path=\"url(#clip300)\" d=\"M563.503 131.051 L563.503 138.412 L572.276 138.412 L572.276 141.722 L563.503 141.722 L563.503 155.796 Q563.503 158.967 564.359 159.87 Q565.239 160.773 567.901 160.773 L572.276 160.773 L572.276 164.338 L567.901 164.338 Q562.97 164.338 561.095 162.509 Q559.22 160.657 559.22 155.796 L559.22 141.722 L556.096 141.722 L556.096 138.412 L559.22 138.412 L559.22 131.051 L563.503 131.051 Z\" fill=\"#000000\" fill-rule=\"nonzero\" fill-opacity=\"1\" /><path clip-path=\"url(#clip300)\" d=\"M589.66 151.305 Q584.498 151.305 582.507 152.486 Q580.517 153.666 580.517 156.514 Q580.517 158.782 581.998 160.125 Q583.503 161.444 586.072 161.444 Q589.614 161.444 591.743 158.944 Q593.896 156.421 593.896 152.254 L593.896 151.305 L589.66 151.305 M598.155 149.546 L598.155 164.338 L593.896 164.338 L593.896 160.402 Q592.438 162.763 590.262 163.898 Q588.086 165.009 584.938 165.009 Q580.956 165.009 578.595 162.787 Q576.257 160.541 576.257 156.791 Q576.257 152.416 579.174 150.194 Q582.114 147.972 587.924 147.972 L593.896 147.972 L593.896 147.555 Q593.896 144.615 591.952 143.018 Q590.031 141.398 586.535 141.398 Q584.313 141.398 582.206 141.93 Q580.1 142.463 578.156 143.527 L578.156 139.592 Q580.494 138.69 582.693 138.25 Q584.892 137.787 586.975 137.787 Q592.6 137.787 595.378 140.703 Q598.155 143.62 598.155 149.546 Z\" fill=\"#000000\" fill-rule=\"nonzero\" fill-opacity=\"1\" /><path clip-path=\"url(#clip300)\" d=\"M623.989 151.074 Q623.989 146.444 622.067 143.898 Q620.169 141.352 616.72 141.352 Q613.294 141.352 611.373 143.898 Q609.475 146.444 609.475 151.074 Q609.475 155.68 611.373 158.226 Q613.294 160.773 616.72 160.773 Q620.169 160.773 622.067 158.226 Q623.989 155.68 623.989 151.074 M628.248 161.12 Q628.248 167.74 625.308 170.958 Q622.368 174.199 616.304 174.199 Q614.058 174.199 612.067 173.851 Q610.077 173.527 608.202 172.833 L608.202 168.689 Q610.077 169.708 611.905 170.194 Q613.734 170.68 615.632 170.68 Q619.822 170.68 621.905 168.481 Q623.989 166.305 623.989 161.884 L623.989 159.777 Q622.669 162.069 620.609 163.203 Q618.549 164.338 615.679 164.338 Q610.91 164.338 607.993 160.703 Q605.077 157.069 605.077 151.074 Q605.077 145.055 607.993 141.421 Q610.91 137.787 615.679 137.787 Q618.549 137.787 620.609 138.921 Q622.669 140.055 623.989 142.347 L623.989 138.412 L628.248 138.412 L628.248 161.12 Z\" fill=\"#000000\" fill-rule=\"nonzero\" fill-opacity=\"1\" /><path clip-path=\"url(#clip300)\" d=\"M659.197 150.31 L659.197 152.393 L639.614 152.393 Q639.891 156.791 642.252 159.106 Q644.637 161.398 648.873 161.398 Q651.326 161.398 653.618 160.796 Q655.933 160.194 658.201 158.99 L658.201 163.018 Q655.91 163.99 653.502 164.5 Q651.095 165.009 648.618 165.009 Q642.414 165.009 638.78 161.398 Q635.169 157.787 635.169 151.629 Q635.169 145.264 638.595 141.537 Q642.044 137.787 647.877 137.787 Q653.109 137.787 656.141 141.166 Q659.197 144.523 659.197 150.31 M654.938 149.06 Q654.891 145.565 652.97 143.481 Q651.072 141.398 647.924 141.398 Q644.359 141.398 642.206 143.412 Q640.077 145.426 639.752 149.083 L654.938 149.06 Z\" fill=\"#000000\" fill-rule=\"nonzero\" fill-opacity=\"1\" /><path clip-path=\"url(#clip300)\" d=\"M692.993 134.384 L686.65 151.583 L699.359 151.583 L692.993 134.384 M690.354 129.778 L695.655 129.778 L708.826 164.338 L703.965 164.338 L700.817 155.472 L685.238 155.472 L682.09 164.338 L677.16 164.338 L690.354 129.778 Z\" fill=\"#000000\" fill-rule=\"nonzero\" fill-opacity=\"1\" /><path clip-path=\"url(#clip300)\" d=\"M735.238 148.689 L735.238 164.338 L730.979 164.338 L730.979 148.828 Q730.979 145.148 729.544 143.319 Q728.108 141.49 725.238 141.49 Q721.789 141.49 719.798 143.69 Q717.808 145.889 717.808 149.685 L717.808 164.338 L713.525 164.338 L713.525 138.412 L717.808 138.412 L717.808 142.44 Q719.335 140.102 721.396 138.944 Q723.479 137.787 726.187 137.787 Q730.655 137.787 732.946 140.565 Q735.238 143.319 735.238 148.689 Z\" fill=\"#000000\" fill-rule=\"nonzero\" fill-opacity=\"1\" /><path clip-path=\"url(#clip300)\" d=\"M760.793 151.074 Q760.793 146.444 758.872 143.898 Q756.974 141.352 753.525 141.352 Q750.099 141.352 748.178 143.898 Q746.28 146.444 746.28 151.074 Q746.28 155.68 748.178 158.226 Q750.099 160.773 753.525 160.773 Q756.974 160.773 758.872 158.226 Q760.793 155.68 760.793 151.074 M765.053 161.12 Q765.053 167.74 762.113 170.958 Q759.173 174.199 753.108 174.199 Q750.863 174.199 748.872 173.851 Q746.882 173.527 745.007 172.833 L745.007 168.689 Q746.882 169.708 748.71 170.194 Q750.539 170.68 752.437 170.68 Q756.627 170.68 758.71 168.481 Q760.793 166.305 760.793 161.884 L760.793 159.777 Q759.474 162.069 757.414 163.203 Q755.354 164.338 752.483 164.338 Q747.715 164.338 744.798 160.703 Q741.882 157.069 741.882 151.074 Q741.882 145.055 744.798 141.421 Q747.715 137.787 752.483 137.787 Q755.354 137.787 757.414 138.921 Q759.474 140.055 760.793 142.347 L760.793 138.412 L765.053 138.412 L765.053 161.12 Z\" fill=\"#000000\" fill-rule=\"nonzero\" fill-opacity=\"1\" /><path clip-path=\"url(#clip300)\" d=\"M773.826 128.319 L778.085 128.319 L778.085 164.338 L773.826 164.338 L773.826 128.319 Z\" fill=\"#000000\" fill-rule=\"nonzero\" fill-opacity=\"1\" /><path clip-path=\"url(#clip300)\" d=\"M809.173 150.31 L809.173 152.393 L789.59 152.393 Q789.867 156.791 792.229 159.106 Q794.613 161.398 798.849 161.398 Q801.303 161.398 803.594 160.796 Q805.909 160.194 808.177 158.99 L808.177 163.018 Q805.886 163.99 803.478 164.5 Q801.071 165.009 798.594 165.009 Q792.391 165.009 788.756 161.398 Q785.145 157.787 785.145 151.629 Q785.145 145.264 788.571 141.537 Q792.02 137.787 797.853 137.787 Q803.085 137.787 806.117 141.166 Q809.173 144.523 809.173 150.31 M804.914 149.06 Q804.867 145.565 802.946 143.481 Q801.048 141.398 797.9 141.398 Q794.335 141.398 792.182 143.412 Q790.053 145.426 789.729 149.083 L804.914 149.06 Z\" fill=\"#000000\" fill-rule=\"nonzero\" fill-opacity=\"1\" /></svg>\n"
      ]
     },
     "execution_count": 172,
     "metadata": {},
     "output_type": "execute_result"
    }
   ],
   "source": [
    "# Plot Voltage Profile\n",
    "plot(title=\"Voltage Magnitude Profile\", xlabel=\"Bus\", ylabel=\"Voltage Magnitude (pu)\")\n",
    "bar(bus_indices, VA, label=\"Voltage Angle\", legend=:topleft)"
   ]
  },
  {
   "cell_type": "code",
   "execution_count": null,
   "id": "8c724017-73b9-491e-83f5-ea9db445a574",
   "metadata": {},
   "outputs": [],
   "source": []
  },
  {
   "cell_type": "code",
   "execution_count": null,
   "id": "92414b24-9adf-43c4-8bc0-ebcdbee7222e",
   "metadata": {},
   "outputs": [],
   "source": []
  },
  {
   "cell_type": "code",
   "execution_count": null,
   "id": "7012ded2-7add-4aa3-8c8a-8b08638aac03",
   "metadata": {},
   "outputs": [],
   "source": []
  }
 ],
 "metadata": {
  "kernelspec": {
   "display_name": "Julia 1.9.4",
   "language": "julia",
   "name": "julia-1.9"
  },
  "language_info": {
   "file_extension": ".jl",
   "mimetype": "application/julia",
   "name": "julia",
   "version": "1.9.4"
  }
 },
 "nbformat": 4,
 "nbformat_minor": 5
}
